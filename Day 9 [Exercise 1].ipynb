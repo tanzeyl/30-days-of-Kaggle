{
 "cells": [
  {
   "cell_type": "markdown",
   "id": "7b117d74",
   "metadata": {
    "papermill": {
     "duration": 0.013358,
     "end_time": "2021-08-10T16:29:37.133878",
     "exception": false,
     "start_time": "2021-08-10T16:29:37.120520",
     "status": "completed"
    },
    "tags": []
   },
   "source": [
    "**This notebook is an exercise in the [Introduction to Machine Learning](https://www.kaggle.com/learn/intro-to-machine-learning) course.  You can reference the tutorial at [this link](https://www.kaggle.com/dansbecker/your-first-machine-learning-model).**\n",
    "\n",
    "---\n"
   ]
  },
  {
   "cell_type": "markdown",
   "id": "45f72b95",
   "metadata": {
    "papermill": {
     "duration": 0.011351,
     "end_time": "2021-08-10T16:29:37.156765",
     "exception": false,
     "start_time": "2021-08-10T16:29:37.145414",
     "status": "completed"
    },
    "tags": []
   },
   "source": [
    "## Recap\n",
    "So far, you have loaded your data and reviewed it with the following code. Run this cell to set up your coding environment where the previous step left off."
   ]
  },
  {
   "cell_type": "code",
   "execution_count": 1,
   "id": "3da2433a",
   "metadata": {
    "execution": {
     "iopub.execute_input": "2021-08-10T16:29:37.188814Z",
     "iopub.status.busy": "2021-08-10T16:29:37.188282Z",
     "iopub.status.idle": "2021-08-10T16:29:38.300174Z",
     "shell.execute_reply": "2021-08-10T16:29:38.299449Z",
     "shell.execute_reply.started": "2021-08-10T16:27:32.373220Z"
    },
    "papermill": {
     "duration": 1.132365,
     "end_time": "2021-08-10T16:29:38.300322",
     "exception": false,
     "start_time": "2021-08-10T16:29:37.167957",
     "status": "completed"
    },
    "tags": []
   },
   "outputs": [
    {
     "name": "stdout",
     "output_type": "stream",
     "text": [
      "Setup Complete\n"
     ]
    }
   ],
   "source": [
    "# Code you have previously used to load data\n",
    "import pandas as pd\n",
    "\n",
    "# Path of the file to read\n",
    "iowa_file_path = '../input/home-data-for-ml-course/train.csv'\n",
    "\n",
    "home_data = pd.read_csv(iowa_file_path)\n",
    "\n",
    "# Set up code checking\n",
    "from learntools.core import binder\n",
    "binder.bind(globals())\n",
    "from learntools.machine_learning.ex3 import *\n",
    "\n",
    "print(\"Setup Complete\")"
   ]
  },
  {
   "cell_type": "markdown",
   "id": "91b7d8e1",
   "metadata": {
    "papermill": {
     "duration": 0.010865,
     "end_time": "2021-08-10T16:29:38.322780",
     "exception": false,
     "start_time": "2021-08-10T16:29:38.311915",
     "status": "completed"
    },
    "tags": []
   },
   "source": [
    "# Exercises\n",
    "\n",
    "## Step 1: Specify Prediction Target\n",
    "Select the target variable, which corresponds to the sales price. Save this to a new variable called `y`. You'll need to print a list of the columns to find the name of the column you need.\n"
   ]
  },
  {
   "cell_type": "code",
   "execution_count": 2,
   "id": "718ebe24",
   "metadata": {
    "execution": {
     "iopub.execute_input": "2021-08-10T16:29:38.352017Z",
     "iopub.status.busy": "2021-08-10T16:29:38.351458Z",
     "iopub.status.idle": "2021-08-10T16:29:38.354800Z",
     "shell.execute_reply": "2021-08-10T16:29:38.354343Z",
     "shell.execute_reply.started": "2021-08-10T16:28:39.187678Z"
    },
    "papermill": {
     "duration": 0.021116,
     "end_time": "2021-08-10T16:29:38.354919",
     "exception": false,
     "start_time": "2021-08-10T16:29:38.333803",
     "status": "completed"
    },
    "tags": []
   },
   "outputs": [
    {
     "data": {
      "text/plain": [
       "Index(['Id', 'MSSubClass', 'MSZoning', 'LotFrontage', 'LotArea', 'Street',\n",
       "       'Alley', 'LotShape', 'LandContour', 'Utilities', 'LotConfig',\n",
       "       'LandSlope', 'Neighborhood', 'Condition1', 'Condition2', 'BldgType',\n",
       "       'HouseStyle', 'OverallQual', 'OverallCond', 'YearBuilt', 'YearRemodAdd',\n",
       "       'RoofStyle', 'RoofMatl', 'Exterior1st', 'Exterior2nd', 'MasVnrType',\n",
       "       'MasVnrArea', 'ExterQual', 'ExterCond', 'Foundation', 'BsmtQual',\n",
       "       'BsmtCond', 'BsmtExposure', 'BsmtFinType1', 'BsmtFinSF1',\n",
       "       'BsmtFinType2', 'BsmtFinSF2', 'BsmtUnfSF', 'TotalBsmtSF', 'Heating',\n",
       "       'HeatingQC', 'CentralAir', 'Electrical', '1stFlrSF', '2ndFlrSF',\n",
       "       'LowQualFinSF', 'GrLivArea', 'BsmtFullBath', 'BsmtHalfBath', 'FullBath',\n",
       "       'HalfBath', 'BedroomAbvGr', 'KitchenAbvGr', 'KitchenQual',\n",
       "       'TotRmsAbvGrd', 'Functional', 'Fireplaces', 'FireplaceQu', 'GarageType',\n",
       "       'GarageYrBlt', 'GarageFinish', 'GarageCars', 'GarageArea', 'GarageQual',\n",
       "       'GarageCond', 'PavedDrive', 'WoodDeckSF', 'OpenPorchSF',\n",
       "       'EnclosedPorch', '3SsnPorch', 'ScreenPorch', 'PoolArea', 'PoolQC',\n",
       "       'Fence', 'MiscFeature', 'MiscVal', 'MoSold', 'YrSold', 'SaleType',\n",
       "       'SaleCondition', 'SalePrice'],\n",
       "      dtype='object')"
      ]
     },
     "execution_count": 2,
     "metadata": {},
     "output_type": "execute_result"
    }
   ],
   "source": [
    "# print the list of columns in the dataset to find the name of the prediction target\n",
    "home_data.columns"
   ]
  },
  {
   "cell_type": "code",
   "execution_count": 3,
   "id": "11f34e53",
   "metadata": {
    "execution": {
     "iopub.execute_input": "2021-08-10T16:29:38.386027Z",
     "iopub.status.busy": "2021-08-10T16:29:38.385422Z",
     "iopub.status.idle": "2021-08-10T16:29:38.392680Z",
     "shell.execute_reply": "2021-08-10T16:29:38.392268Z",
     "shell.execute_reply.started": "2021-08-10T16:28:42.819061Z"
    },
    "papermill": {
     "duration": 0.026489,
     "end_time": "2021-08-10T16:29:38.392824",
     "exception": false,
     "start_time": "2021-08-10T16:29:38.366335",
     "status": "completed"
    },
    "tags": []
   },
   "outputs": [
    {
     "data": {
      "application/javascript": [
       "parent.postMessage({\"jupyterEvent\": \"custom.exercise_interaction\", \"data\": {\"outcomeType\": 1, \"valueTowardsCompletion\": 0.25, \"interactionType\": 1, \"questionType\": 2, \"questionId\": \"1_SetTarget\", \"learnToolsVersion\": \"0.3.4\", \"failureMessage\": \"\", \"exceptionClass\": \"\", \"trace\": \"\"}}, \"*\")"
      ],
      "text/plain": [
       "<IPython.core.display.Javascript object>"
      ]
     },
     "metadata": {},
     "output_type": "display_data"
    },
    {
     "data": {
      "text/markdown": [
       "<span style=\"color:#33cc33\">Correct</span>"
      ],
      "text/plain": [
       "Correct"
      ]
     },
     "metadata": {},
     "output_type": "display_data"
    }
   ],
   "source": [
    "y = home_data[\"SalePrice\"]\n",
    "\n",
    "# Check your answer\n",
    "step_1.check()"
   ]
  },
  {
   "cell_type": "code",
   "execution_count": 4,
   "id": "6d1d936c",
   "metadata": {
    "collapsed": true,
    "execution": {
     "iopub.execute_input": "2021-08-10T16:29:38.420314Z",
     "iopub.status.busy": "2021-08-10T16:29:38.419818Z",
     "iopub.status.idle": "2021-08-10T16:29:38.421551Z",
     "shell.execute_reply": "2021-08-10T16:29:38.422023Z"
    },
    "jupyter": {
     "outputs_hidden": true
    },
    "papermill": {
     "duration": 0.017209,
     "end_time": "2021-08-10T16:29:38.422165",
     "exception": false,
     "start_time": "2021-08-10T16:29:38.404956",
     "status": "completed"
    },
    "tags": []
   },
   "outputs": [],
   "source": [
    "# The lines below will show you a hint or the solution.\n",
    "# step_1.hint() \n",
    "# step_1.solution()"
   ]
  },
  {
   "cell_type": "markdown",
   "id": "b9213a08",
   "metadata": {
    "papermill": {
     "duration": 0.012089,
     "end_time": "2021-08-10T16:29:38.446431",
     "exception": false,
     "start_time": "2021-08-10T16:29:38.434342",
     "status": "completed"
    },
    "tags": []
   },
   "source": [
    "## Step 2: Create X\n",
    "Now you will create a DataFrame called `X` holding the predictive features.\n",
    "\n",
    "Since you want only some columns from the original data, you'll first create a list with the names of the columns you want in `X`.\n",
    "\n",
    "You'll use just the following columns in the list (you can copy and paste the whole list to save some typing, though you'll still need to add quotes):\n",
    "    * LotArea\n",
    "    * YearBuilt\n",
    "    * 1stFlrSF\n",
    "    * 2ndFlrSF\n",
    "    * FullBath\n",
    "    * BedroomAbvGr\n",
    "    * TotRmsAbvGrd\n",
    "\n",
    "After you've created that list of features, use it to create the DataFrame that you'll use to fit the model."
   ]
  },
  {
   "cell_type": "code",
   "execution_count": 5,
   "id": "3b8eb679",
   "metadata": {
    "execution": {
     "iopub.execute_input": "2021-08-10T16:29:38.473717Z",
     "iopub.status.busy": "2021-08-10T16:29:38.473161Z",
     "iopub.status.idle": "2021-08-10T16:29:38.481261Z",
     "shell.execute_reply": "2021-08-10T16:29:38.481671Z",
     "shell.execute_reply.started": "2021-08-10T16:28:51.633464Z"
    },
    "papermill": {
     "duration": 0.023081,
     "end_time": "2021-08-10T16:29:38.481839",
     "exception": false,
     "start_time": "2021-08-10T16:29:38.458758",
     "status": "completed"
    },
    "tags": []
   },
   "outputs": [
    {
     "data": {
      "application/javascript": [
       "parent.postMessage({\"jupyterEvent\": \"custom.exercise_interaction\", \"data\": {\"outcomeType\": 1, \"valueTowardsCompletion\": 0.25, \"interactionType\": 1, \"questionType\": 2, \"questionId\": \"2_SelectPredictionData\", \"learnToolsVersion\": \"0.3.4\", \"failureMessage\": \"\", \"exceptionClass\": \"\", \"trace\": \"\"}}, \"*\")"
      ],
      "text/plain": [
       "<IPython.core.display.Javascript object>"
      ]
     },
     "metadata": {},
     "output_type": "display_data"
    },
    {
     "data": {
      "text/markdown": [
       "<span style=\"color:#33cc33\">Correct</span>"
      ],
      "text/plain": [
       "Correct"
      ]
     },
     "metadata": {},
     "output_type": "display_data"
    }
   ],
   "source": [
    "# Create the list of features below\n",
    "feature_names = [\"LotArea\", \"YearBuilt\", \"1stFlrSF\", \"2ndFlrSF\", \"FullBath\", \"BedroomAbvGr\", \"TotRmsAbvGrd\"]\n",
    "\n",
    "# Select data corresponding to features in feature_names\n",
    "X = home_data[feature_names]\n",
    "\n",
    "# Check your answer\n",
    "step_2.check()"
   ]
  },
  {
   "cell_type": "code",
   "execution_count": 6,
   "id": "7197ed0d",
   "metadata": {
    "collapsed": true,
    "execution": {
     "iopub.execute_input": "2021-08-10T16:29:38.509988Z",
     "iopub.status.busy": "2021-08-10T16:29:38.509417Z",
     "iopub.status.idle": "2021-08-10T16:29:38.513392Z",
     "shell.execute_reply": "2021-08-10T16:29:38.512873Z"
    },
    "jupyter": {
     "outputs_hidden": true
    },
    "papermill": {
     "duration": 0.018729,
     "end_time": "2021-08-10T16:29:38.513506",
     "exception": false,
     "start_time": "2021-08-10T16:29:38.494777",
     "status": "completed"
    },
    "tags": []
   },
   "outputs": [],
   "source": [
    "# step_2.hint()\n",
    "# step_2.solution()"
   ]
  },
  {
   "cell_type": "markdown",
   "id": "5c186216",
   "metadata": {
    "papermill": {
     "duration": 0.013256,
     "end_time": "2021-08-10T16:29:38.540021",
     "exception": false,
     "start_time": "2021-08-10T16:29:38.526765",
     "status": "completed"
    },
    "tags": []
   },
   "source": [
    "## Review Data\n",
    "Before building a model, take a quick look at **X** to verify it looks sensible"
   ]
  },
  {
   "cell_type": "code",
   "execution_count": 7,
   "id": "f33254ed",
   "metadata": {
    "execution": {
     "iopub.execute_input": "2021-08-10T16:29:38.569272Z",
     "iopub.status.busy": "2021-08-10T16:29:38.568765Z",
     "iopub.status.idle": "2021-08-10T16:29:38.598889Z",
     "shell.execute_reply": "2021-08-10T16:29:38.599428Z",
     "shell.execute_reply.started": "2021-08-10T16:28:56.624904Z"
    },
    "papermill": {
     "duration": 0.045899,
     "end_time": "2021-08-10T16:29:38.599580",
     "exception": false,
     "start_time": "2021-08-10T16:29:38.553681",
     "status": "completed"
    },
    "tags": []
   },
   "outputs": [
    {
     "name": "stdout",
     "output_type": "stream",
     "text": [
      "             LotArea    YearBuilt     1stFlrSF     2ndFlrSF     FullBath  \\\n",
      "count    1460.000000  1460.000000  1460.000000  1460.000000  1460.000000   \n",
      "mean    10516.828082  1971.267808  1162.626712   346.992466     1.565068   \n",
      "std      9981.264932    30.202904   386.587738   436.528436     0.550916   \n",
      "min      1300.000000  1872.000000   334.000000     0.000000     0.000000   \n",
      "25%      7553.500000  1954.000000   882.000000     0.000000     1.000000   \n",
      "50%      9478.500000  1973.000000  1087.000000     0.000000     2.000000   \n",
      "75%     11601.500000  2000.000000  1391.250000   728.000000     2.000000   \n",
      "max    215245.000000  2010.000000  4692.000000  2065.000000     3.000000   \n",
      "\n",
      "       BedroomAbvGr  TotRmsAbvGrd  \n",
      "count   1460.000000   1460.000000  \n",
      "mean       2.866438      6.517808  \n",
      "std        0.815778      1.625393  \n",
      "min        0.000000      2.000000  \n",
      "25%        2.000000      5.000000  \n",
      "50%        3.000000      6.000000  \n",
      "75%        3.000000      7.000000  \n",
      "max        8.000000     14.000000  \n",
      "   LotArea  YearBuilt  1stFlrSF  2ndFlrSF  FullBath  BedroomAbvGr  \\\n",
      "0     8450       2003       856       854         2             3   \n",
      "1     9600       1976      1262         0         2             3   \n",
      "2    11250       2001       920       866         2             3   \n",
      "3     9550       1915       961       756         1             3   \n",
      "4    14260       2000      1145      1053         2             4   \n",
      "\n",
      "   TotRmsAbvGrd  \n",
      "0             8  \n",
      "1             6  \n",
      "2             6  \n",
      "3             7  \n",
      "4             9  \n"
     ]
    }
   ],
   "source": [
    "# Review data\n",
    "# print description or statistics from X\n",
    "print(X.describe())\n",
    "\n",
    "# print the top few lines\n",
    "print(X.head())"
   ]
  },
  {
   "cell_type": "markdown",
   "id": "cc4cf544",
   "metadata": {
    "papermill": {
     "duration": 0.01346,
     "end_time": "2021-08-10T16:29:38.626727",
     "exception": false,
     "start_time": "2021-08-10T16:29:38.613267",
     "status": "completed"
    },
    "tags": []
   },
   "source": [
    "## Step 3: Specify and Fit Model\n",
    "Create a `DecisionTreeRegressor` and save it iowa_model. Ensure you've done the relevant import from sklearn to run this command.\n",
    "\n",
    "Then fit the model you just created using the data in `X` and `y` that you saved above."
   ]
  },
  {
   "cell_type": "code",
   "execution_count": 8,
   "id": "5f6a4409",
   "metadata": {
    "execution": {
     "iopub.execute_input": "2021-08-10T16:29:38.661663Z",
     "iopub.status.busy": "2021-08-10T16:29:38.661122Z",
     "iopub.status.idle": "2021-08-10T16:29:38.672389Z",
     "shell.execute_reply": "2021-08-10T16:29:38.672895Z",
     "shell.execute_reply.started": "2021-08-10T16:29:03.517816Z"
    },
    "papermill": {
     "duration": 0.032858,
     "end_time": "2021-08-10T16:29:38.673049",
     "exception": false,
     "start_time": "2021-08-10T16:29:38.640191",
     "status": "completed"
    },
    "tags": []
   },
   "outputs": [
    {
     "data": {
      "application/javascript": [
       "parent.postMessage({\"jupyterEvent\": \"custom.exercise_interaction\", \"data\": {\"outcomeType\": 1, \"valueTowardsCompletion\": 0.25, \"interactionType\": 1, \"questionType\": 2, \"questionId\": \"3_CreateModel\", \"learnToolsVersion\": \"0.3.4\", \"failureMessage\": \"\", \"exceptionClass\": \"\", \"trace\": \"\"}}, \"*\")"
      ],
      "text/plain": [
       "<IPython.core.display.Javascript object>"
      ]
     },
     "metadata": {},
     "output_type": "display_data"
    },
    {
     "data": {
      "text/markdown": [
       "<span style=\"color:#33cc33\">Correct</span>"
      ],
      "text/plain": [
       "Correct"
      ]
     },
     "metadata": {},
     "output_type": "display_data"
    }
   ],
   "source": [
    " from sklearn.tree import DecisionTreeRegressor\n",
    "#specify the model. \n",
    "#For model reproducibility, set a numeric value for random_state when specifying the model\n",
    "iowa_model = DecisionTreeRegressor(random_state = 1)\n",
    "\n",
    "# Fit the model\n",
    "iowa_model.fit(X,y)\n",
    "\n",
    "# Check your answer\n",
    "step_3.check()"
   ]
  },
  {
   "cell_type": "code",
   "execution_count": 9,
   "id": "e24d1a84",
   "metadata": {
    "execution": {
     "iopub.execute_input": "2021-08-10T16:29:38.703609Z",
     "iopub.status.busy": "2021-08-10T16:29:38.703101Z",
     "iopub.status.idle": "2021-08-10T16:29:38.705967Z",
     "shell.execute_reply": "2021-08-10T16:29:38.706443Z",
     "shell.execute_reply.started": "2021-08-09T03:32:09.721093Z"
    },
    "papermill": {
     "duration": 0.019292,
     "end_time": "2021-08-10T16:29:38.706577",
     "exception": false,
     "start_time": "2021-08-10T16:29:38.687285",
     "status": "completed"
    },
    "tags": []
   },
   "outputs": [],
   "source": [
    " #step_3.hint()\n",
    " #step_3.solution()"
   ]
  },
  {
   "cell_type": "markdown",
   "id": "2a95f5b7",
   "metadata": {
    "papermill": {
     "duration": 0.014042,
     "end_time": "2021-08-10T16:29:38.734620",
     "exception": false,
     "start_time": "2021-08-10T16:29:38.720578",
     "status": "completed"
    },
    "tags": []
   },
   "source": [
    "## Step 4: Make Predictions\n",
    "Make predictions with the model's `predict` command using `X` as the data. Save the results to a variable called `predictions`."
   ]
  },
  {
   "cell_type": "code",
   "execution_count": 10,
   "id": "e9f4bfdd",
   "metadata": {
    "execution": {
     "iopub.execute_input": "2021-08-10T16:29:38.765801Z",
     "iopub.status.busy": "2021-08-10T16:29:38.765280Z",
     "iopub.status.idle": "2021-08-10T16:29:38.776125Z",
     "shell.execute_reply": "2021-08-10T16:29:38.776532Z",
     "shell.execute_reply.started": "2021-08-10T16:29:07.666621Z"
    },
    "papermill": {
     "duration": 0.027532,
     "end_time": "2021-08-10T16:29:38.776671",
     "exception": false,
     "start_time": "2021-08-10T16:29:38.749139",
     "status": "completed"
    },
    "tags": []
   },
   "outputs": [
    {
     "name": "stdout",
     "output_type": "stream",
     "text": [
      "[208500. 181500. 223500. ... 266500. 142125. 147500.]\n"
     ]
    },
    {
     "data": {
      "application/javascript": [
       "parent.postMessage({\"jupyterEvent\": \"custom.exercise_interaction\", \"data\": {\"outcomeType\": 1, \"valueTowardsCompletion\": 0.25, \"interactionType\": 1, \"questionType\": 2, \"questionId\": \"4_MakePredictions\", \"learnToolsVersion\": \"0.3.4\", \"failureMessage\": \"\", \"exceptionClass\": \"\", \"trace\": \"\"}}, \"*\")"
      ],
      "text/plain": [
       "<IPython.core.display.Javascript object>"
      ]
     },
     "metadata": {},
     "output_type": "display_data"
    },
    {
     "data": {
      "text/markdown": [
       "<span style=\"color:#33cc33\">Correct</span>"
      ],
      "text/plain": [
       "Correct"
      ]
     },
     "metadata": {},
     "output_type": "display_data"
    }
   ],
   "source": [
    "predictions = iowa_model.predict(X)\n",
    "print(predictions)\n",
    "\n",
    "# Check your answer\n",
    "step_4.check()"
   ]
  },
  {
   "cell_type": "code",
   "execution_count": 11,
   "id": "ccf99fac",
   "metadata": {
    "collapsed": true,
    "execution": {
     "iopub.execute_input": "2021-08-10T16:29:38.809183Z",
     "iopub.status.busy": "2021-08-10T16:29:38.808632Z",
     "iopub.status.idle": "2021-08-10T16:29:38.811262Z",
     "shell.execute_reply": "2021-08-10T16:29:38.811664Z"
    },
    "jupyter": {
     "outputs_hidden": true
    },
    "papermill": {
     "duration": 0.020143,
     "end_time": "2021-08-10T16:29:38.811820",
     "exception": false,
     "start_time": "2021-08-10T16:29:38.791677",
     "status": "completed"
    },
    "tags": []
   },
   "outputs": [],
   "source": [
    "# step_4.hint()\n",
    "# step_4.solution()"
   ]
  },
  {
   "cell_type": "markdown",
   "id": "4895ee57",
   "metadata": {
    "papermill": {
     "duration": 0.014639,
     "end_time": "2021-08-10T16:29:38.841385",
     "exception": false,
     "start_time": "2021-08-10T16:29:38.826746",
     "status": "completed"
    },
    "tags": []
   },
   "source": [
    "## Think About Your Results\n",
    "\n",
    "Use the `head` method to compare the top few predictions to the actual home values (in `y`) for those same homes. Anything surprising?\n"
   ]
  },
  {
   "cell_type": "code",
   "execution_count": 12,
   "id": "096a630f",
   "metadata": {
    "execution": {
     "iopub.execute_input": "2021-08-10T16:29:38.873983Z",
     "iopub.status.busy": "2021-08-10T16:29:38.873442Z",
     "iopub.status.idle": "2021-08-10T16:29:38.880093Z",
     "shell.execute_reply": "2021-08-10T16:29:38.879423Z",
     "shell.execute_reply.started": "2021-08-10T16:29:12.580448Z"
    },
    "papermill": {
     "duration": 0.023865,
     "end_time": "2021-08-10T16:29:38.880267",
     "exception": false,
     "start_time": "2021-08-10T16:29:38.856402",
     "status": "completed"
    },
    "tags": []
   },
   "outputs": [
    {
     "name": "stdout",
     "output_type": "stream",
     "text": [
      "[208500. 181500. 223500. ... 266500. 142125. 147500.]\n",
      "0    208500\n",
      "1    181500\n",
      "2    223500\n",
      "3    140000\n",
      "4    250000\n",
      "Name: SalePrice, dtype: int64\n"
     ]
    }
   ],
   "source": [
    "# You can write code in this cell\n",
    "print(predictions)\n",
    "print(y.head())"
   ]
  },
  {
   "cell_type": "markdown",
   "id": "811e9902",
   "metadata": {
    "papermill": {
     "duration": 0.021601,
     "end_time": "2021-08-10T16:29:38.921572",
     "exception": false,
     "start_time": "2021-08-10T16:29:38.899971",
     "status": "completed"
    },
    "tags": []
   },
   "source": [
    "It's natural to ask how accurate the model's predictions will be and how you can improve that. That will be you're next step.\n",
    "\n",
    "# Keep Going\n",
    "\n",
    "You are ready for **[Model Validation](https://www.kaggle.com/dansbecker/model-validation).**\n"
   ]
  },
  {
   "cell_type": "markdown",
   "id": "e8a3b521",
   "metadata": {
    "papermill": {
     "duration": 0.022333,
     "end_time": "2021-08-10T16:29:38.959795",
     "exception": false,
     "start_time": "2021-08-10T16:29:38.937462",
     "status": "completed"
    },
    "tags": []
   },
   "source": [
    "---\n",
    "\n",
    "\n",
    "\n",
    "\n",
    "*Have questions or comments? Visit the [Learn Discussion forum](https://www.kaggle.com/learn-forum/161285) to chat with other Learners.*"
   ]
  }
 ],
 "metadata": {
  "kernelspec": {
   "display_name": "Python 3",
   "language": "python",
   "name": "python3"
  },
  "language_info": {
   "codemirror_mode": {
    "name": "ipython",
    "version": 3
   },
   "file_extension": ".py",
   "mimetype": "text/x-python",
   "name": "python",
   "nbconvert_exporter": "python",
   "pygments_lexer": "ipython3",
   "version": "3.7.10"
  },
  "papermill": {
   "default_parameters": {},
   "duration": 9.724819,
   "end_time": "2021-08-10T16:29:40.268131",
   "environment_variables": {},
   "exception": null,
   "input_path": "__notebook__.ipynb",
   "output_path": "__notebook__.ipynb",
   "parameters": {},
   "start_time": "2021-08-10T16:29:30.543312",
   "version": "2.3.3"
  }
 },
 "nbformat": 4,
 "nbformat_minor": 5
}
