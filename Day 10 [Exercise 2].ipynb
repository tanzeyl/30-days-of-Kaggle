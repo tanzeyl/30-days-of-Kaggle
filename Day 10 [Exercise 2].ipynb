{
 "cells": [
  {
   "cell_type": "markdown",
   "id": "794a4a23",
   "metadata": {
    "papermill": {
     "duration": 0.007695,
     "end_time": "2021-08-09T11:34:57.997215",
     "exception": false,
     "start_time": "2021-08-09T11:34:57.989520",
     "status": "completed"
    },
    "tags": []
   },
   "source": [
    "**This notebook is an exercise in the [Introduction to Machine Learning](https://www.kaggle.com/learn/intro-to-machine-learning) course.  You can reference the tutorial at [this link](https://www.kaggle.com/dansbecker/random-forests).**\n",
    "\n",
    "---\n"
   ]
  },
  {
   "cell_type": "markdown",
   "id": "30992524",
   "metadata": {
    "papermill": {
     "duration": 0.006378,
     "end_time": "2021-08-09T11:34:58.011385",
     "exception": false,
     "start_time": "2021-08-09T11:34:58.005007",
     "status": "completed"
    },
    "tags": []
   },
   "source": [
    "## Recap\n",
    "Here's the code you've written so far."
   ]
  },
  {
   "cell_type": "code",
   "execution_count": 1,
   "id": "ff366f33",
   "metadata": {
    "execution": {
     "iopub.execute_input": "2021-08-09T11:34:58.033687Z",
     "iopub.status.busy": "2021-08-09T11:34:58.032996Z",
     "iopub.status.idle": "2021-08-09T11:34:59.443590Z",
     "shell.execute_reply": "2021-08-09T11:34:59.442215Z",
     "shell.execute_reply.started": "2021-08-09T11:32:19.328701Z"
    },
    "papermill": {
     "duration": 1.425796,
     "end_time": "2021-08-09T11:34:59.443773",
     "exception": false,
     "start_time": "2021-08-09T11:34:58.017977",
     "status": "completed"
    },
    "tags": []
   },
   "outputs": [
    {
     "name": "stdout",
     "output_type": "stream",
     "text": [
      "Validation MAE when not specifying max_leaf_nodes: 29,653\n",
      "Validation MAE for best value of max_leaf_nodes: 27,283\n",
      "\n",
      "Setup complete\n"
     ]
    }
   ],
   "source": [
    "# Code you have previously used to load data\n",
    "import pandas as pd\n",
    "from sklearn.metrics import mean_absolute_error\n",
    "from sklearn.model_selection import train_test_split\n",
    "from sklearn.tree import DecisionTreeRegressor\n",
    "\n",
    "\n",
    "# Path of the file to read\n",
    "iowa_file_path = '../input/home-data-for-ml-course/train.csv'\n",
    "\n",
    "home_data = pd.read_csv(iowa_file_path)\n",
    "# Create target object and call it y\n",
    "y = home_data.SalePrice\n",
    "# Create X\n",
    "features = ['LotArea', 'YearBuilt', '1stFlrSF', '2ndFlrSF', 'FullBath', 'BedroomAbvGr', 'TotRmsAbvGrd']\n",
    "X = home_data[features]\n",
    "\n",
    "# Split into validation and training data\n",
    "train_X, val_X, train_y, val_y = train_test_split(X, y, random_state=1)\n",
    "\n",
    "# Specify Model\n",
    "iowa_model = DecisionTreeRegressor(random_state=1)\n",
    "# Fit Model\n",
    "iowa_model.fit(train_X, train_y)\n",
    "\n",
    "# Make validation predictions and calculate mean absolute error\n",
    "val_predictions = iowa_model.predict(val_X)\n",
    "val_mae = mean_absolute_error(val_predictions, val_y)\n",
    "print(\"Validation MAE when not specifying max_leaf_nodes: {:,.0f}\".format(val_mae))\n",
    "\n",
    "# Using best value for max_leaf_nodes\n",
    "iowa_model = DecisionTreeRegressor(max_leaf_nodes=100, random_state=1)\n",
    "iowa_model.fit(train_X, train_y)\n",
    "val_predictions = iowa_model.predict(val_X)\n",
    "val_mae = mean_absolute_error(val_predictions, val_y)\n",
    "print(\"Validation MAE for best value of max_leaf_nodes: {:,.0f}\".format(val_mae))\n",
    "\n",
    "\n",
    "# Set up code checking\n",
    "from learntools.core import binder\n",
    "binder.bind(globals())\n",
    "from learntools.machine_learning.ex6 import *\n",
    "print(\"\\nSetup complete\")"
   ]
  },
  {
   "cell_type": "markdown",
   "id": "e4a701aa",
   "metadata": {
    "papermill": {
     "duration": 0.006958,
     "end_time": "2021-08-09T11:34:59.458644",
     "exception": false,
     "start_time": "2021-08-09T11:34:59.451686",
     "status": "completed"
    },
    "tags": []
   },
   "source": [
    "# Exercises\n",
    "Data science isn't always this easy. But replacing the decision tree with a Random Forest is going to be an easy win."
   ]
  },
  {
   "cell_type": "markdown",
   "id": "3ed58cb6",
   "metadata": {
    "papermill": {
     "duration": 0.006697,
     "end_time": "2021-08-09T11:34:59.472618",
     "exception": false,
     "start_time": "2021-08-09T11:34:59.465921",
     "status": "completed"
    },
    "tags": []
   },
   "source": [
    "## Step 1: Use a Random Forest"
   ]
  },
  {
   "cell_type": "code",
   "execution_count": 2,
   "id": "55a7e470",
   "metadata": {
    "execution": {
     "iopub.execute_input": "2021-08-09T11:34:59.493073Z",
     "iopub.status.busy": "2021-08-09T11:34:59.492423Z",
     "iopub.status.idle": "2021-08-09T11:35:00.038463Z",
     "shell.execute_reply": "2021-08-09T11:35:00.037400Z",
     "shell.execute_reply.started": "2021-08-09T11:34:17.784236Z"
    },
    "papermill": {
     "duration": 0.558725,
     "end_time": "2021-08-09T11:35:00.038616",
     "exception": false,
     "start_time": "2021-08-09T11:34:59.479891",
     "status": "completed"
    },
    "tags": []
   },
   "outputs": [
    {
     "name": "stdout",
     "output_type": "stream",
     "text": [
      "Validation MAE for Random Forest Model: 21857.15912981083\n"
     ]
    },
    {
     "data": {
      "application/javascript": [
       "parent.postMessage({\"jupyterEvent\": \"custom.exercise_interaction\", \"data\": {\"outcomeType\": 1, \"valueTowardsCompletion\": 1.0, \"interactionType\": 1, \"questionType\": 2, \"questionId\": \"1_CheckRfScore\", \"learnToolsVersion\": \"0.3.4\", \"failureMessage\": \"\", \"exceptionClass\": \"\", \"trace\": \"\"}}, \"*\")"
      ],
      "text/plain": [
       "<IPython.core.display.Javascript object>"
      ]
     },
     "metadata": {},
     "output_type": "display_data"
    },
    {
     "data": {
      "text/markdown": [
       "<span style=\"color:#33cc33\">Correct</span>"
      ],
      "text/plain": [
       "Correct"
      ]
     },
     "metadata": {},
     "output_type": "display_data"
    }
   ],
   "source": [
    "from sklearn.ensemble import RandomForestRegressor\n",
    "\n",
    "# Define the model. Set random_state to 1\n",
    "rf_model = RandomForestRegressor(random_state = 1)\n",
    "\n",
    "# fit your model\n",
    "rf_model.fit(train_X, train_y)\n",
    "preds = rf_model.predict(val_X)\n",
    "# Calculate the mean absolute error of your Random Forest model on the validation data\n",
    "rf_val_mae = mean_absolute_error(val_y, preds)\n",
    "\n",
    "print(\"Validation MAE for Random Forest Model: {}\".format(rf_val_mae))\n",
    "\n",
    "# Check your answer\n",
    "step_1.check()"
   ]
  },
  {
   "cell_type": "code",
   "execution_count": 3,
   "id": "e611f814",
   "metadata": {
    "execution": {
     "iopub.execute_input": "2021-08-09T11:35:00.060525Z",
     "iopub.status.busy": "2021-08-09T11:35:00.059480Z",
     "iopub.status.idle": "2021-08-09T11:35:00.063030Z",
     "shell.execute_reply": "2021-08-09T11:35:00.062399Z"
    },
    "papermill": {
     "duration": 0.016167,
     "end_time": "2021-08-09T11:35:00.063248",
     "exception": false,
     "start_time": "2021-08-09T11:35:00.047081",
     "status": "completed"
    },
    "tags": []
   },
   "outputs": [],
   "source": [
    "# The lines below will show you a hint or the solution.\n",
    "# step_1.hint() \n",
    "# step_1.solution()\n"
   ]
  },
  {
   "cell_type": "markdown",
   "id": "b03bdf6f",
   "metadata": {
    "papermill": {
     "duration": 0.00907,
     "end_time": "2021-08-09T11:35:00.081423",
     "exception": false,
     "start_time": "2021-08-09T11:35:00.072353",
     "status": "completed"
    },
    "tags": []
   },
   "source": [
    "So far, you have followed specific instructions at each step of your project. This helped learn key ideas and build your first model, but now you know enough to try things on your own. \n",
    "\n",
    "Machine Learning competitions are a great way to try your own ideas and learn more as you independently navigate a machine learning project. \n",
    "\n",
    "# Keep Going\n",
    "\n",
    "You are ready for **[Machine Learning Competitions](https://www.kaggle.com/alexisbcook/machine-learning-competitions).**\n"
   ]
  },
  {
   "cell_type": "markdown",
   "id": "63b413e2",
   "metadata": {
    "papermill": {
     "duration": 0.008709,
     "end_time": "2021-08-09T11:35:00.100023",
     "exception": false,
     "start_time": "2021-08-09T11:35:00.091314",
     "status": "completed"
    },
    "tags": []
   },
   "source": [
    "---\n",
    "\n",
    "\n",
    "\n",
    "\n",
    "*Have questions or comments? Visit the [Learn Discussion forum](https://www.kaggle.com/learn-forum/161285) to chat with other Learners.*"
   ]
  }
 ],
 "metadata": {
  "kernelspec": {
   "display_name": "Python 3",
   "language": "python",
   "name": "python3"
  },
  "language_info": {
   "codemirror_mode": {
    "name": "ipython",
    "version": 3
   },
   "file_extension": ".py",
   "mimetype": "text/x-python",
   "name": "python",
   "nbconvert_exporter": "python",
   "pygments_lexer": "ipython3",
   "version": "3.7.10"
  },
  "papermill": {
   "default_parameters": {},
   "duration": 11.339517,
   "end_time": "2021-08-09T11:35:00.818478",
   "environment_variables": {},
   "exception": null,
   "input_path": "__notebook__.ipynb",
   "output_path": "__notebook__.ipynb",
   "parameters": {},
   "start_time": "2021-08-09T11:34:49.478961",
   "version": "2.3.3"
  }
 },
 "nbformat": 4,
 "nbformat_minor": 5
}
