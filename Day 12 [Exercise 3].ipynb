{
 "cells": [
  {
   "cell_type": "markdown",
   "id": "63669a70",
   "metadata": {
    "papermill": {
     "duration": 0.032403,
     "end_time": "2021-08-13T18:06:06.074161",
     "exception": false,
     "start_time": "2021-08-13T18:06:06.041758",
     "status": "completed"
    },
    "tags": []
   },
   "source": [
    "**This notebook is an exercise in the [Intermediate Machine Learning](https://www.kaggle.com/learn/intermediate-machine-learning) course.  You can reference the tutorial at [this link](https://www.kaggle.com/alexisbcook/categorical-variables).**\n",
    "\n",
    "---\n"
   ]
  },
  {
   "cell_type": "markdown",
   "id": "194c6f39",
   "metadata": {
    "papermill": {
     "duration": 0.030797,
     "end_time": "2021-08-13T18:06:06.137281",
     "exception": false,
     "start_time": "2021-08-13T18:06:06.106484",
     "status": "completed"
    },
    "tags": []
   },
   "source": [
    "By encoding **categorical variables**, you'll obtain your best results thus far!\n",
    "\n",
    "# Setup\n",
    "\n",
    "The questions below will give you feedback on your work. Run the following cell to set up the feedback system."
   ]
  },
  {
   "cell_type": "code",
   "execution_count": 1,
   "id": "8d7a5598",
   "metadata": {
    "execution": {
     "iopub.execute_input": "2021-08-13T18:06:06.203774Z",
     "iopub.status.busy": "2021-08-13T18:06:06.202637Z",
     "iopub.status.idle": "2021-08-13T18:06:06.391120Z",
     "shell.execute_reply": "2021-08-13T18:06:06.390017Z",
     "shell.execute_reply.started": "2021-08-13T18:05:29.682355Z"
    },
    "papermill": {
     "duration": 0.223199,
     "end_time": "2021-08-13T18:06:06.391372",
     "exception": false,
     "start_time": "2021-08-13T18:06:06.168173",
     "status": "completed"
    },
    "tags": []
   },
   "outputs": [
    {
     "name": "stdout",
     "output_type": "stream",
     "text": [
      "Setup Complete\n"
     ]
    }
   ],
   "source": [
    "# Set up code checking\n",
    "import os\n",
    "if not os.path.exists(\"../input/train.csv\"):\n",
    "    os.symlink(\"../input/home-data-for-ml-course/train.csv\", \"../input/train.csv\")  \n",
    "    os.symlink(\"../input/home-data-for-ml-course/test.csv\", \"../input/test.csv\") \n",
    "from learntools.core import binder\n",
    "binder.bind(globals())\n",
    "from learntools.ml_intermediate.ex3 import *\n",
    "print(\"Setup Complete\")"
   ]
  },
  {
   "cell_type": "markdown",
   "id": "47b96d68",
   "metadata": {
    "papermill": {
     "duration": 0.032553,
     "end_time": "2021-08-13T18:06:06.457624",
     "exception": false,
     "start_time": "2021-08-13T18:06:06.425071",
     "status": "completed"
    },
    "tags": []
   },
   "source": [
    "In this exercise, you will work with data from the [Housing Prices Competition for Kaggle Learn Users](https://www.kaggle.com/c/home-data-for-ml-course). \n",
    "\n",
    "![Ames Housing dataset image](https://i.imgur.com/lTJVG4e.png)\n",
    "\n",
    "Run the next code cell without changes to load the training and validation sets in `X_train`, `X_valid`, `y_train`, and `y_valid`.  The test set is loaded in `X_test`."
   ]
  },
  {
   "cell_type": "code",
   "execution_count": 2,
   "id": "af7f75ed",
   "metadata": {
    "execution": {
     "iopub.execute_input": "2021-08-13T18:06:06.533429Z",
     "iopub.status.busy": "2021-08-13T18:06:06.532535Z",
     "iopub.status.idle": "2021-08-13T18:06:07.734168Z",
     "shell.execute_reply": "2021-08-13T18:06:07.733565Z",
     "shell.execute_reply.started": "2021-08-13T18:05:29.799375Z"
    },
    "papermill": {
     "duration": 1.243032,
     "end_time": "2021-08-13T18:06:07.734340",
     "exception": false,
     "start_time": "2021-08-13T18:06:06.491308",
     "status": "completed"
    },
    "tags": []
   },
   "outputs": [],
   "source": [
    "import pandas as pd\n",
    "from sklearn.model_selection import train_test_split\n",
    "\n",
    "# Read the data\n",
    "X = pd.read_csv('../input/train.csv', index_col='Id') \n",
    "X_test = pd.read_csv('../input/test.csv', index_col='Id')\n",
    "\n",
    "# Remove rows with missing target, separate target from predictors\n",
    "X.dropna(axis=0, subset=['SalePrice'], inplace=True)\n",
    "y = X.SalePrice\n",
    "X.drop(['SalePrice'], axis=1, inplace=True)\n",
    "\n",
    "# To keep things simple, we'll drop columns with missing values\n",
    "cols_with_missing = [col for col in X.columns if X[col].isnull().any()] \n",
    "X.drop(cols_with_missing, axis=1, inplace=True)\n",
    "X_test.drop(cols_with_missing, axis=1, inplace=True)\n",
    "\n",
    "# Break off validation set from training data\n",
    "X_train, X_valid, y_train, y_valid = train_test_split(X, y,\n",
    "                                                      train_size=0.8, test_size=0.2,\n",
    "                                                      random_state=0)"
   ]
  },
  {
   "cell_type": "markdown",
   "id": "921dca86",
   "metadata": {
    "papermill": {
     "duration": 0.033921,
     "end_time": "2021-08-13T18:06:07.801486",
     "exception": false,
     "start_time": "2021-08-13T18:06:07.767565",
     "status": "completed"
    },
    "tags": []
   },
   "source": [
    "Use the next code cell to print the first five rows of the data."
   ]
  },
  {
   "cell_type": "code",
   "execution_count": 3,
   "id": "6cfbfa84",
   "metadata": {
    "execution": {
     "iopub.execute_input": "2021-08-13T18:06:07.880655Z",
     "iopub.status.busy": "2021-08-13T18:06:07.879786Z",
     "iopub.status.idle": "2021-08-13T18:06:07.906113Z",
     "shell.execute_reply": "2021-08-13T18:06:07.906653Z",
     "shell.execute_reply.started": "2021-08-13T18:05:30.185578Z"
    },
    "papermill": {
     "duration": 0.072535,
     "end_time": "2021-08-13T18:06:07.906852",
     "exception": false,
     "start_time": "2021-08-13T18:06:07.834317",
     "status": "completed"
    },
    "tags": []
   },
   "outputs": [
    {
     "data": {
      "text/html": [
       "<div>\n",
       "<style scoped>\n",
       "    .dataframe tbody tr th:only-of-type {\n",
       "        vertical-align: middle;\n",
       "    }\n",
       "\n",
       "    .dataframe tbody tr th {\n",
       "        vertical-align: top;\n",
       "    }\n",
       "\n",
       "    .dataframe thead th {\n",
       "        text-align: right;\n",
       "    }\n",
       "</style>\n",
       "<table border=\"1\" class=\"dataframe\">\n",
       "  <thead>\n",
       "    <tr style=\"text-align: right;\">\n",
       "      <th></th>\n",
       "      <th>MSSubClass</th>\n",
       "      <th>MSZoning</th>\n",
       "      <th>LotArea</th>\n",
       "      <th>Street</th>\n",
       "      <th>LotShape</th>\n",
       "      <th>LandContour</th>\n",
       "      <th>Utilities</th>\n",
       "      <th>LotConfig</th>\n",
       "      <th>LandSlope</th>\n",
       "      <th>Neighborhood</th>\n",
       "      <th>...</th>\n",
       "      <th>OpenPorchSF</th>\n",
       "      <th>EnclosedPorch</th>\n",
       "      <th>3SsnPorch</th>\n",
       "      <th>ScreenPorch</th>\n",
       "      <th>PoolArea</th>\n",
       "      <th>MiscVal</th>\n",
       "      <th>MoSold</th>\n",
       "      <th>YrSold</th>\n",
       "      <th>SaleType</th>\n",
       "      <th>SaleCondition</th>\n",
       "    </tr>\n",
       "    <tr>\n",
       "      <th>Id</th>\n",
       "      <th></th>\n",
       "      <th></th>\n",
       "      <th></th>\n",
       "      <th></th>\n",
       "      <th></th>\n",
       "      <th></th>\n",
       "      <th></th>\n",
       "      <th></th>\n",
       "      <th></th>\n",
       "      <th></th>\n",
       "      <th></th>\n",
       "      <th></th>\n",
       "      <th></th>\n",
       "      <th></th>\n",
       "      <th></th>\n",
       "      <th></th>\n",
       "      <th></th>\n",
       "      <th></th>\n",
       "      <th></th>\n",
       "      <th></th>\n",
       "      <th></th>\n",
       "    </tr>\n",
       "  </thead>\n",
       "  <tbody>\n",
       "    <tr>\n",
       "      <th>619</th>\n",
       "      <td>20</td>\n",
       "      <td>RL</td>\n",
       "      <td>11694</td>\n",
       "      <td>Pave</td>\n",
       "      <td>Reg</td>\n",
       "      <td>Lvl</td>\n",
       "      <td>AllPub</td>\n",
       "      <td>Inside</td>\n",
       "      <td>Gtl</td>\n",
       "      <td>NridgHt</td>\n",
       "      <td>...</td>\n",
       "      <td>108</td>\n",
       "      <td>0</td>\n",
       "      <td>0</td>\n",
       "      <td>260</td>\n",
       "      <td>0</td>\n",
       "      <td>0</td>\n",
       "      <td>7</td>\n",
       "      <td>2007</td>\n",
       "      <td>New</td>\n",
       "      <td>Partial</td>\n",
       "    </tr>\n",
       "    <tr>\n",
       "      <th>871</th>\n",
       "      <td>20</td>\n",
       "      <td>RL</td>\n",
       "      <td>6600</td>\n",
       "      <td>Pave</td>\n",
       "      <td>Reg</td>\n",
       "      <td>Lvl</td>\n",
       "      <td>AllPub</td>\n",
       "      <td>Inside</td>\n",
       "      <td>Gtl</td>\n",
       "      <td>NAmes</td>\n",
       "      <td>...</td>\n",
       "      <td>0</td>\n",
       "      <td>0</td>\n",
       "      <td>0</td>\n",
       "      <td>0</td>\n",
       "      <td>0</td>\n",
       "      <td>0</td>\n",
       "      <td>8</td>\n",
       "      <td>2009</td>\n",
       "      <td>WD</td>\n",
       "      <td>Normal</td>\n",
       "    </tr>\n",
       "    <tr>\n",
       "      <th>93</th>\n",
       "      <td>30</td>\n",
       "      <td>RL</td>\n",
       "      <td>13360</td>\n",
       "      <td>Pave</td>\n",
       "      <td>IR1</td>\n",
       "      <td>HLS</td>\n",
       "      <td>AllPub</td>\n",
       "      <td>Inside</td>\n",
       "      <td>Gtl</td>\n",
       "      <td>Crawfor</td>\n",
       "      <td>...</td>\n",
       "      <td>0</td>\n",
       "      <td>44</td>\n",
       "      <td>0</td>\n",
       "      <td>0</td>\n",
       "      <td>0</td>\n",
       "      <td>0</td>\n",
       "      <td>8</td>\n",
       "      <td>2009</td>\n",
       "      <td>WD</td>\n",
       "      <td>Normal</td>\n",
       "    </tr>\n",
       "    <tr>\n",
       "      <th>818</th>\n",
       "      <td>20</td>\n",
       "      <td>RL</td>\n",
       "      <td>13265</td>\n",
       "      <td>Pave</td>\n",
       "      <td>IR1</td>\n",
       "      <td>Lvl</td>\n",
       "      <td>AllPub</td>\n",
       "      <td>CulDSac</td>\n",
       "      <td>Gtl</td>\n",
       "      <td>Mitchel</td>\n",
       "      <td>...</td>\n",
       "      <td>59</td>\n",
       "      <td>0</td>\n",
       "      <td>0</td>\n",
       "      <td>0</td>\n",
       "      <td>0</td>\n",
       "      <td>0</td>\n",
       "      <td>7</td>\n",
       "      <td>2008</td>\n",
       "      <td>WD</td>\n",
       "      <td>Normal</td>\n",
       "    </tr>\n",
       "    <tr>\n",
       "      <th>303</th>\n",
       "      <td>20</td>\n",
       "      <td>RL</td>\n",
       "      <td>13704</td>\n",
       "      <td>Pave</td>\n",
       "      <td>IR1</td>\n",
       "      <td>Lvl</td>\n",
       "      <td>AllPub</td>\n",
       "      <td>Corner</td>\n",
       "      <td>Gtl</td>\n",
       "      <td>CollgCr</td>\n",
       "      <td>...</td>\n",
       "      <td>81</td>\n",
       "      <td>0</td>\n",
       "      <td>0</td>\n",
       "      <td>0</td>\n",
       "      <td>0</td>\n",
       "      <td>0</td>\n",
       "      <td>1</td>\n",
       "      <td>2006</td>\n",
       "      <td>WD</td>\n",
       "      <td>Normal</td>\n",
       "    </tr>\n",
       "  </tbody>\n",
       "</table>\n",
       "<p>5 rows × 60 columns</p>\n",
       "</div>"
      ],
      "text/plain": [
       "     MSSubClass MSZoning  LotArea Street LotShape LandContour Utilities  \\\n",
       "Id                                                                        \n",
       "619          20       RL    11694   Pave      Reg         Lvl    AllPub   \n",
       "871          20       RL     6600   Pave      Reg         Lvl    AllPub   \n",
       "93           30       RL    13360   Pave      IR1         HLS    AllPub   \n",
       "818          20       RL    13265   Pave      IR1         Lvl    AllPub   \n",
       "303          20       RL    13704   Pave      IR1         Lvl    AllPub   \n",
       "\n",
       "    LotConfig LandSlope Neighborhood  ... OpenPorchSF EnclosedPorch 3SsnPorch  \\\n",
       "Id                                    ...                                       \n",
       "619    Inside       Gtl      NridgHt  ...         108             0         0   \n",
       "871    Inside       Gtl        NAmes  ...           0             0         0   \n",
       "93     Inside       Gtl      Crawfor  ...           0            44         0   \n",
       "818   CulDSac       Gtl      Mitchel  ...          59             0         0   \n",
       "303    Corner       Gtl      CollgCr  ...          81             0         0   \n",
       "\n",
       "    ScreenPorch  PoolArea  MiscVal  MoSold  YrSold SaleType SaleCondition  \n",
       "Id                                                                         \n",
       "619         260         0        0       7    2007      New       Partial  \n",
       "871           0         0        0       8    2009       WD        Normal  \n",
       "93            0         0        0       8    2009       WD        Normal  \n",
       "818           0         0        0       7    2008       WD        Normal  \n",
       "303           0         0        0       1    2006       WD        Normal  \n",
       "\n",
       "[5 rows x 60 columns]"
      ]
     },
     "execution_count": 3,
     "metadata": {},
     "output_type": "execute_result"
    }
   ],
   "source": [
    "X_train.head()"
   ]
  },
  {
   "cell_type": "markdown",
   "id": "b8ce2bf3",
   "metadata": {
    "papermill": {
     "duration": 0.032681,
     "end_time": "2021-08-13T18:06:07.973318",
     "exception": false,
     "start_time": "2021-08-13T18:06:07.940637",
     "status": "completed"
    },
    "tags": []
   },
   "source": [
    "Notice that the dataset contains both numerical and categorical variables.  You'll need to encode the categorical data before training a model.\n",
    "\n",
    "To compare different models, you'll use the same `score_dataset()` function from the tutorial.  This function reports the [mean absolute error](https://en.wikipedia.org/wiki/Mean_absolute_error) (MAE) from a random forest model."
   ]
  },
  {
   "cell_type": "code",
   "execution_count": 4,
   "id": "4022983a",
   "metadata": {
    "execution": {
     "iopub.execute_input": "2021-08-13T18:06:08.048434Z",
     "iopub.status.busy": "2021-08-13T18:06:08.047665Z",
     "iopub.status.idle": "2021-08-13T18:06:08.253396Z",
     "shell.execute_reply": "2021-08-13T18:06:08.252774Z",
     "shell.execute_reply.started": "2021-08-13T18:05:30.220692Z"
    },
    "papermill": {
     "duration": 0.245749,
     "end_time": "2021-08-13T18:06:08.253588",
     "exception": false,
     "start_time": "2021-08-13T18:06:08.007839",
     "status": "completed"
    },
    "tags": []
   },
   "outputs": [],
   "source": [
    "from sklearn.ensemble import RandomForestRegressor\n",
    "from sklearn.metrics import mean_absolute_error\n",
    "\n",
    "# function for comparing different approaches\n",
    "def score_dataset(X_train, X_valid, y_train, y_valid):\n",
    "    model = RandomForestRegressor(n_estimators=100, random_state=0)\n",
    "    model.fit(X_train, y_train)\n",
    "    preds = model.predict(X_valid)\n",
    "    return mean_absolute_error(y_valid, preds)"
   ]
  },
  {
   "cell_type": "markdown",
   "id": "25eac49c",
   "metadata": {
    "papermill": {
     "duration": 0.0335,
     "end_time": "2021-08-13T18:06:08.320787",
     "exception": false,
     "start_time": "2021-08-13T18:06:08.287287",
     "status": "completed"
    },
    "tags": []
   },
   "source": [
    "# Step 1: Drop columns with categorical data\n",
    "\n",
    "You'll get started with the most straightforward approach.  Use the code cell below to preprocess the data in `X_train` and `X_valid` to remove columns with categorical data.  Set the preprocessed DataFrames to `drop_X_train` and `drop_X_valid`, respectively.  "
   ]
  },
  {
   "cell_type": "code",
   "execution_count": 5,
   "id": "27bc0e67",
   "metadata": {
    "execution": {
     "iopub.execute_input": "2021-08-13T18:06:08.399640Z",
     "iopub.status.busy": "2021-08-13T18:06:08.398872Z",
     "iopub.status.idle": "2021-08-13T18:06:08.403547Z",
     "shell.execute_reply": "2021-08-13T18:06:08.404073Z",
     "shell.execute_reply.started": "2021-08-13T18:05:30.282509Z"
    },
    "papermill": {
     "duration": 0.04993,
     "end_time": "2021-08-13T18:06:08.404266",
     "exception": false,
     "start_time": "2021-08-13T18:06:08.354336",
     "status": "completed"
    },
    "tags": []
   },
   "outputs": [
    {
     "data": {
      "application/javascript": [
       "parent.postMessage({\"jupyterEvent\": \"custom.exercise_interaction\", \"data\": {\"outcomeType\": 1, \"valueTowardsCompletion\": 0.5, \"interactionType\": 1, \"questionType\": 2, \"questionId\": \"1_Drop\", \"learnToolsVersion\": \"0.3.4\", \"failureMessage\": \"\", \"exceptionClass\": \"\", \"trace\": \"\"}}, \"*\")"
      ],
      "text/plain": [
       "<IPython.core.display.Javascript object>"
      ]
     },
     "metadata": {},
     "output_type": "display_data"
    },
    {
     "data": {
      "text/markdown": [
       "<span style=\"color:#33cc33\">Correct</span>"
      ],
      "text/plain": [
       "Correct"
      ]
     },
     "metadata": {},
     "output_type": "display_data"
    }
   ],
   "source": [
    "# Fill in the lines below: drop columns in training and validation data\n",
    "drop_X_train = X_train.select_dtypes(exclude = \"object\")\n",
    "drop_X_valid = X_valid.select_dtypes(exclude = \"object\")\n",
    "\n",
    "# Check your answers\n",
    "step_1.check()"
   ]
  },
  {
   "cell_type": "code",
   "execution_count": 6,
   "id": "b029a790",
   "metadata": {
    "execution": {
     "iopub.execute_input": "2021-08-13T18:06:08.476896Z",
     "iopub.status.busy": "2021-08-13T18:06:08.475921Z",
     "iopub.status.idle": "2021-08-13T18:06:08.479186Z",
     "shell.execute_reply": "2021-08-13T18:06:08.478540Z",
     "shell.execute_reply.started": "2021-08-13T18:05:30.297963Z"
    },
    "papermill": {
     "duration": 0.041241,
     "end_time": "2021-08-13T18:06:08.479335",
     "exception": false,
     "start_time": "2021-08-13T18:06:08.438094",
     "status": "completed"
    },
    "tags": []
   },
   "outputs": [],
   "source": [
    "# Lines below will give you a hint or solution code\n",
    "#step_1.hint()\n",
    "#step_1.solution()"
   ]
  },
  {
   "cell_type": "markdown",
   "id": "868b6e2f",
   "metadata": {
    "papermill": {
     "duration": 0.032909,
     "end_time": "2021-08-13T18:06:08.545712",
     "exception": false,
     "start_time": "2021-08-13T18:06:08.512803",
     "status": "completed"
    },
    "tags": []
   },
   "source": [
    "Run the next code cell to get the MAE for this approach."
   ]
  },
  {
   "cell_type": "code",
   "execution_count": 7,
   "id": "154a11d2",
   "metadata": {
    "execution": {
     "iopub.execute_input": "2021-08-13T18:06:08.620888Z",
     "iopub.status.busy": "2021-08-13T18:06:08.619922Z",
     "iopub.status.idle": "2021-08-13T18:06:09.871285Z",
     "shell.execute_reply": "2021-08-13T18:06:09.872330Z",
     "shell.execute_reply.started": "2021-08-13T18:05:30.313163Z"
    },
    "papermill": {
     "duration": 1.293731,
     "end_time": "2021-08-13T18:06:09.872629",
     "exception": false,
     "start_time": "2021-08-13T18:06:08.578898",
     "status": "completed"
    },
    "tags": []
   },
   "outputs": [
    {
     "name": "stdout",
     "output_type": "stream",
     "text": [
      "MAE from Approach 1 (Drop categorical variables):\n",
      "17837.82570776256\n"
     ]
    }
   ],
   "source": [
    "print(\"MAE from Approach 1 (Drop categorical variables):\")\n",
    "print(score_dataset(drop_X_train, drop_X_valid, y_train, y_valid))"
   ]
  },
  {
   "cell_type": "markdown",
   "id": "f4a4358e",
   "metadata": {
    "papermill": {
     "duration": 0.033309,
     "end_time": "2021-08-13T18:06:09.941194",
     "exception": false,
     "start_time": "2021-08-13T18:06:09.907885",
     "status": "completed"
    },
    "tags": []
   },
   "source": [
    "Before jumping into ordinal encoding, we'll investigate the dataset.  Specifically, we'll look at the `'Condition2'` column.  The code cell below prints the unique entries in both the training and validation sets."
   ]
  },
  {
   "cell_type": "code",
   "execution_count": 8,
   "id": "e5c8a5f6",
   "metadata": {
    "execution": {
     "iopub.execute_input": "2021-08-13T18:06:10.016771Z",
     "iopub.status.busy": "2021-08-13T18:06:10.016129Z",
     "iopub.status.idle": "2021-08-13T18:06:10.020087Z",
     "shell.execute_reply": "2021-08-13T18:06:10.020564Z",
     "shell.execute_reply.started": "2021-08-13T18:05:31.572373Z"
    },
    "papermill": {
     "duration": 0.045258,
     "end_time": "2021-08-13T18:06:10.020755",
     "exception": false,
     "start_time": "2021-08-13T18:06:09.975497",
     "status": "completed"
    },
    "tags": []
   },
   "outputs": [
    {
     "name": "stdout",
     "output_type": "stream",
     "text": [
      "Unique values in 'Condition2' column in training data: ['Norm' 'PosA' 'Feedr' 'PosN' 'Artery' 'RRAe']\n",
      "\n",
      "Unique values in 'Condition2' column in validation data: ['Norm' 'RRAn' 'RRNn' 'Artery' 'Feedr' 'PosN']\n"
     ]
    }
   ],
   "source": [
    "print(\"Unique values in 'Condition2' column in training data:\", X_train['Condition2'].unique())\n",
    "print(\"\\nUnique values in 'Condition2' column in validation data:\", X_valid['Condition2'].unique())"
   ]
  },
  {
   "cell_type": "markdown",
   "id": "426464e7",
   "metadata": {
    "papermill": {
     "duration": 0.034599,
     "end_time": "2021-08-13T18:06:10.089395",
     "exception": false,
     "start_time": "2021-08-13T18:06:10.054796",
     "status": "completed"
    },
    "tags": []
   },
   "source": [
    "# Step 2: Ordinal encoding\n",
    "\n",
    "### Part A\n",
    "\n",
    "If you now write code to: \n",
    "- fit an ordinal encoder to the training data, and then \n",
    "- use it to transform both the training and validation data, \n",
    "\n",
    "you'll get an error.  Can you see why this is the case?  (_You'll need  to use the above output to answer this question._)"
   ]
  },
  {
   "cell_type": "code",
   "execution_count": 9,
   "id": "51410a19",
   "metadata": {
    "execution": {
     "iopub.execute_input": "2021-08-13T18:06:10.163663Z",
     "iopub.status.busy": "2021-08-13T18:06:10.162681Z",
     "iopub.status.idle": "2021-08-13T18:06:10.168055Z",
     "shell.execute_reply": "2021-08-13T18:06:10.168543Z",
     "shell.execute_reply.started": "2021-08-13T18:05:31.582050Z"
    },
    "papermill": {
     "duration": 0.044711,
     "end_time": "2021-08-13T18:06:10.168712",
     "exception": false,
     "start_time": "2021-08-13T18:06:10.124001",
     "status": "completed"
    },
    "tags": []
   },
   "outputs": [
    {
     "data": {
      "application/javascript": [
       "parent.postMessage({\"jupyterEvent\": \"custom.exercise_interaction\", \"data\": {\"outcomeType\": 1, \"valueTowardsCompletion\": 0.5, \"interactionType\": 1, \"questionType\": 4, \"questionId\": \"2.1_LabelA\", \"learnToolsVersion\": \"0.3.4\", \"failureMessage\": \"\", \"exceptionClass\": \"\", \"trace\": \"\"}}, \"*\")"
      ],
      "text/plain": [
       "<IPython.core.display.Javascript object>"
      ]
     },
     "metadata": {},
     "output_type": "display_data"
    },
    {
     "data": {
      "text/markdown": [
       "<span style=\"color:#33cc33\">Correct:</span> \n",
       "\n",
       "Fitting an ordinal encoder to a column in the training data creates a corresponding integer-valued label for each unique value **that appears in the training data**. In the case that the validation data contains values that don't also appear in the training data, the encoder will throw an error, because these values won't have an integer assigned to them.  Notice that the `'Condition2'` column in the validation data contains the values `'RRAn'` and `'RRNn'`, but these don't appear in the training data -- thus, if we try to use an ordinal encoder with scikit-learn, the code will throw an error."
      ],
      "text/plain": [
       "Correct: \n",
       "\n",
       "Fitting an ordinal encoder to a column in the training data creates a corresponding integer-valued label for each unique value **that appears in the training data**. In the case that the validation data contains values that don't also appear in the training data, the encoder will throw an error, because these values won't have an integer assigned to them.  Notice that the `'Condition2'` column in the validation data contains the values `'RRAn'` and `'RRNn'`, but these don't appear in the training data -- thus, if we try to use an ordinal encoder with scikit-learn, the code will throw an error."
      ]
     },
     "metadata": {},
     "output_type": "display_data"
    }
   ],
   "source": [
    "# Check your answer (Run this code cell to receive credit!)\n",
    "step_2.a.check()"
   ]
  },
  {
   "cell_type": "code",
   "execution_count": 10,
   "id": "eedc59ed",
   "metadata": {
    "execution": {
     "iopub.execute_input": "2021-08-13T18:06:10.242437Z",
     "iopub.status.busy": "2021-08-13T18:06:10.241475Z",
     "iopub.status.idle": "2021-08-13T18:06:10.244824Z",
     "shell.execute_reply": "2021-08-13T18:06:10.245267Z",
     "shell.execute_reply.started": "2021-08-13T18:05:31.603483Z"
    },
    "papermill": {
     "duration": 0.04163,
     "end_time": "2021-08-13T18:06:10.245447",
     "exception": false,
     "start_time": "2021-08-13T18:06:10.203817",
     "status": "completed"
    },
    "tags": []
   },
   "outputs": [],
   "source": [
    "#step_2.a.hint()"
   ]
  },
  {
   "cell_type": "markdown",
   "id": "3bc3303c",
   "metadata": {
    "papermill": {
     "duration": 0.034417,
     "end_time": "2021-08-13T18:06:10.314688",
     "exception": false,
     "start_time": "2021-08-13T18:06:10.280271",
     "status": "completed"
    },
    "tags": []
   },
   "source": [
    "This is a common problem that you'll encounter with real-world data, and there are many approaches to fixing this issue.  For instance, you can write a custom ordinal encoder to deal with new categories.  The simplest approach, however, is to drop the problematic categorical columns.  \n",
    "\n",
    "Run the code cell below to save the problematic columns to a Python list `bad_label_cols`.  Likewise, columns that can be safely ordinal encoded are stored in `good_label_cols`."
   ]
  },
  {
   "cell_type": "code",
   "execution_count": 11,
   "id": "8895a1ba",
   "metadata": {
    "execution": {
     "iopub.execute_input": "2021-08-13T18:06:10.388241Z",
     "iopub.status.busy": "2021-08-13T18:06:10.387289Z",
     "iopub.status.idle": "2021-08-13T18:06:10.403284Z",
     "shell.execute_reply": "2021-08-13T18:06:10.403805Z",
     "shell.execute_reply.started": "2021-08-13T18:05:31.611821Z"
    },
    "papermill": {
     "duration": 0.054452,
     "end_time": "2021-08-13T18:06:10.403978",
     "exception": false,
     "start_time": "2021-08-13T18:06:10.349526",
     "status": "completed"
    },
    "tags": []
   },
   "outputs": [
    {
     "name": "stdout",
     "output_type": "stream",
     "text": [
      "Categorical columns that will be ordinal encoded: ['MSZoning', 'Street', 'LotShape', 'LandContour', 'Utilities', 'LotConfig', 'LandSlope', 'Neighborhood', 'Condition1', 'BldgType', 'HouseStyle', 'RoofStyle', 'Exterior1st', 'Exterior2nd', 'ExterQual', 'ExterCond', 'Foundation', 'Heating', 'HeatingQC', 'CentralAir', 'KitchenQual', 'PavedDrive', 'SaleType', 'SaleCondition']\n",
      "\n",
      "Categorical columns that will be dropped from the dataset: ['Condition2', 'RoofMatl', 'Functional']\n"
     ]
    }
   ],
   "source": [
    "# All categorical columns\n",
    "object_cols = [col for col in X_train.columns if X_train[col].dtype == \"object\"]\n",
    "\n",
    "# Columns that can be safely ordinal encoded\n",
    "good_label_cols = [col for col in object_cols if \n",
    "                   set(X_valid[col]).issubset(set(X_train[col]))]\n",
    "        \n",
    "# Problematic columns that will be dropped from the dataset\n",
    "bad_label_cols = list(set(object_cols)-set(good_label_cols))\n",
    "        \n",
    "print('Categorical columns that will be ordinal encoded:', good_label_cols)\n",
    "print('\\nCategorical columns that will be dropped from the dataset:', bad_label_cols)"
   ]
  },
  {
   "cell_type": "markdown",
   "id": "9ebbd069",
   "metadata": {
    "papermill": {
     "duration": 0.034816,
     "end_time": "2021-08-13T18:06:10.473639",
     "exception": false,
     "start_time": "2021-08-13T18:06:10.438823",
     "status": "completed"
    },
    "tags": []
   },
   "source": [
    "### Part B\n",
    "\n",
    "Use the next code cell to ordinal encode the data in `X_train` and `X_valid`.  Set the preprocessed DataFrames to `label_X_train` and `label_X_valid`, respectively.  \n",
    "- We have provided code below to drop the categorical columns in `bad_label_cols` from the dataset. \n",
    "- You should ordinal encode the categorical columns in `good_label_cols`.  "
   ]
  },
  {
   "cell_type": "code",
   "execution_count": 12,
   "id": "0795e246",
   "metadata": {
    "execution": {
     "iopub.execute_input": "2021-08-13T18:06:10.547473Z",
     "iopub.status.busy": "2021-08-13T18:06:10.546527Z",
     "iopub.status.idle": "2021-08-13T18:06:10.553599Z",
     "shell.execute_reply": "2021-08-13T18:06:10.552998Z",
     "shell.execute_reply.started": "2021-08-13T18:05:31.636705Z"
    },
    "papermill": {
     "duration": 0.045082,
     "end_time": "2021-08-13T18:06:10.553754",
     "exception": false,
     "start_time": "2021-08-13T18:06:10.508672",
     "status": "completed"
    },
    "tags": []
   },
   "outputs": [
    {
     "data": {
      "text/plain": [
       "['MSZoning',\n",
       " 'Street',\n",
       " 'LotShape',\n",
       " 'LandContour',\n",
       " 'Utilities',\n",
       " 'LotConfig',\n",
       " 'LandSlope',\n",
       " 'Neighborhood',\n",
       " 'Condition1',\n",
       " 'Condition2',\n",
       " 'BldgType',\n",
       " 'HouseStyle',\n",
       " 'RoofStyle',\n",
       " 'RoofMatl',\n",
       " 'Exterior1st',\n",
       " 'Exterior2nd',\n",
       " 'ExterQual',\n",
       " 'ExterCond',\n",
       " 'Foundation',\n",
       " 'Heating',\n",
       " 'HeatingQC',\n",
       " 'CentralAir',\n",
       " 'KitchenQual',\n",
       " 'Functional',\n",
       " 'PavedDrive',\n",
       " 'SaleType',\n",
       " 'SaleCondition']"
      ]
     },
     "execution_count": 12,
     "metadata": {},
     "output_type": "execute_result"
    }
   ],
   "source": [
    "object_cols"
   ]
  },
  {
   "cell_type": "code",
   "execution_count": 13,
   "id": "2175d9dc",
   "metadata": {
    "execution": {
     "iopub.execute_input": "2021-08-13T18:06:10.664093Z",
     "iopub.status.busy": "2021-08-13T18:06:10.657981Z",
     "iopub.status.idle": "2021-08-13T18:06:10.702429Z",
     "shell.execute_reply": "2021-08-13T18:06:10.701781Z",
     "shell.execute_reply.started": "2021-08-13T18:05:31.650806Z"
    },
    "papermill": {
     "duration": 0.112288,
     "end_time": "2021-08-13T18:06:10.702591",
     "exception": false,
     "start_time": "2021-08-13T18:06:10.590303",
     "status": "completed"
    },
    "tags": []
   },
   "outputs": [
    {
     "data": {
      "application/javascript": [
       "parent.postMessage({\"jupyterEvent\": \"custom.exercise_interaction\", \"data\": {\"outcomeType\": 1, \"valueTowardsCompletion\": 0.5, \"interactionType\": 1, \"questionType\": 2, \"questionId\": \"2.2_LabelB\", \"learnToolsVersion\": \"0.3.4\", \"failureMessage\": \"\", \"exceptionClass\": \"\", \"trace\": \"\"}}, \"*\")"
      ],
      "text/plain": [
       "<IPython.core.display.Javascript object>"
      ]
     },
     "metadata": {},
     "output_type": "display_data"
    },
    {
     "data": {
      "text/markdown": [
       "<span style=\"color:#33cc33\">Correct</span>"
      ],
      "text/plain": [
       "Correct"
      ]
     },
     "metadata": {},
     "output_type": "display_data"
    }
   ],
   "source": [
    "from sklearn.preprocessing import OrdinalEncoder\n",
    "\n",
    "# Drop categorical columns that will not be encoded\n",
    "label_X_train = X_train.drop(bad_label_cols, axis=1)\n",
    "label_X_valid = X_valid.drop(bad_label_cols, axis=1)\n",
    "\n",
    "# Apply ordinal encoder \n",
    "# Your code here\n",
    "ordinal_enc = OrdinalEncoder()\n",
    "label_X_train[good_label_cols] = ordinal_enc.fit_transform(X_train[good_label_cols])\n",
    "label_X_valid[good_label_cols] = ordinal_enc.transform(X_valid[good_label_cols])\n",
    "    \n",
    "# Check your answer\n",
    "step_2.b.check()"
   ]
  },
  {
   "cell_type": "code",
   "execution_count": 14,
   "id": "f5cfb052",
   "metadata": {
    "execution": {
     "iopub.execute_input": "2021-08-13T18:06:10.781499Z",
     "iopub.status.busy": "2021-08-13T18:06:10.780842Z",
     "iopub.status.idle": "2021-08-13T18:06:10.784093Z",
     "shell.execute_reply": "2021-08-13T18:06:10.783606Z",
     "shell.execute_reply.started": "2021-08-13T18:05:31.713975Z"
    },
    "papermill": {
     "duration": 0.044179,
     "end_time": "2021-08-13T18:06:10.784228",
     "exception": false,
     "start_time": "2021-08-13T18:06:10.740049",
     "status": "completed"
    },
    "tags": []
   },
   "outputs": [],
   "source": [
    "# Lines below will give you a hint or solution code\n",
    "#step_2.b.hint()\n",
    "#step_2.b.solution()"
   ]
  },
  {
   "cell_type": "markdown",
   "id": "54cc5499",
   "metadata": {
    "papermill": {
     "duration": 0.03641,
     "end_time": "2021-08-13T18:06:10.857904",
     "exception": false,
     "start_time": "2021-08-13T18:06:10.821494",
     "status": "completed"
    },
    "tags": []
   },
   "source": [
    "Run the next code cell to get the MAE for this approach."
   ]
  },
  {
   "cell_type": "code",
   "execution_count": 15,
   "id": "ee151a8f",
   "metadata": {
    "execution": {
     "iopub.execute_input": "2021-08-13T18:06:10.936619Z",
     "iopub.status.busy": "2021-08-13T18:06:10.935905Z",
     "iopub.status.idle": "2021-08-13T18:06:12.558748Z",
     "shell.execute_reply": "2021-08-13T18:06:12.557832Z",
     "shell.execute_reply.started": "2021-08-13T18:05:31.720666Z"
    },
    "papermill": {
     "duration": 1.66259,
     "end_time": "2021-08-13T18:06:12.558935",
     "exception": false,
     "start_time": "2021-08-13T18:06:10.896345",
     "status": "completed"
    },
    "tags": []
   },
   "outputs": [
    {
     "name": "stdout",
     "output_type": "stream",
     "text": [
      "MAE from Approach 2 (Ordinal Encoding):\n",
      "17098.01649543379\n"
     ]
    }
   ],
   "source": [
    "print(\"MAE from Approach 2 (Ordinal Encoding):\") \n",
    "print(score_dataset(label_X_train, label_X_valid, y_train, y_valid))"
   ]
  },
  {
   "cell_type": "markdown",
   "id": "904b216d",
   "metadata": {
    "papermill": {
     "duration": 0.037046,
     "end_time": "2021-08-13T18:06:12.633255",
     "exception": false,
     "start_time": "2021-08-13T18:06:12.596209",
     "status": "completed"
    },
    "tags": []
   },
   "source": [
    "So far, you've tried two different approaches to dealing with categorical variables.  And, you've seen that encoding categorical data yields better results than removing columns from the dataset.\n",
    "\n",
    "Soon, you'll try one-hot encoding.  Before then, there's one additional topic we need to cover.  Begin by running the next code cell without changes.  "
   ]
  },
  {
   "cell_type": "code",
   "execution_count": 16,
   "id": "3f11969f",
   "metadata": {
    "execution": {
     "iopub.execute_input": "2021-08-13T18:06:12.717937Z",
     "iopub.status.busy": "2021-08-13T18:06:12.717127Z",
     "iopub.status.idle": "2021-08-13T18:06:12.736059Z",
     "shell.execute_reply": "2021-08-13T18:06:12.735511Z",
     "shell.execute_reply.started": "2021-08-13T18:05:33.301870Z"
    },
    "papermill": {
     "duration": 0.065788,
     "end_time": "2021-08-13T18:06:12.736196",
     "exception": false,
     "start_time": "2021-08-13T18:06:12.670408",
     "status": "completed"
    },
    "tags": []
   },
   "outputs": [
    {
     "data": {
      "text/plain": [
       "[('Street', 2),\n",
       " ('Utilities', 2),\n",
       " ('CentralAir', 2),\n",
       " ('LandSlope', 3),\n",
       " ('PavedDrive', 3),\n",
       " ('LotShape', 4),\n",
       " ('LandContour', 4),\n",
       " ('ExterQual', 4),\n",
       " ('KitchenQual', 4),\n",
       " ('MSZoning', 5),\n",
       " ('LotConfig', 5),\n",
       " ('BldgType', 5),\n",
       " ('ExterCond', 5),\n",
       " ('HeatingQC', 5),\n",
       " ('Condition2', 6),\n",
       " ('RoofStyle', 6),\n",
       " ('Foundation', 6),\n",
       " ('Heating', 6),\n",
       " ('Functional', 6),\n",
       " ('SaleCondition', 6),\n",
       " ('RoofMatl', 7),\n",
       " ('HouseStyle', 8),\n",
       " ('Condition1', 9),\n",
       " ('SaleType', 9),\n",
       " ('Exterior1st', 15),\n",
       " ('Exterior2nd', 16),\n",
       " ('Neighborhood', 25)]"
      ]
     },
     "execution_count": 16,
     "metadata": {},
     "output_type": "execute_result"
    }
   ],
   "source": [
    "# Get number of unique entries in each column with categorical data\n",
    "object_nunique = list(map(lambda col: X_train[col].nunique(), object_cols))\n",
    "d = dict(zip(object_cols, object_nunique))\n",
    "\n",
    "# Print number of unique entries by column, in ascending order\n",
    "sorted(d.items(), key=lambda x: x[1])"
   ]
  },
  {
   "cell_type": "markdown",
   "id": "fa6a257a",
   "metadata": {
    "papermill": {
     "duration": 0.037546,
     "end_time": "2021-08-13T18:06:12.811523",
     "exception": false,
     "start_time": "2021-08-13T18:06:12.773977",
     "status": "completed"
    },
    "tags": []
   },
   "source": [
    "# Step 3: Investigating cardinality\n",
    "\n",
    "### Part A\n",
    "\n",
    "The output above shows, for each column with categorical data, the number of unique values in the column.  For instance, the `'Street'` column in the training data has two unique values: `'Grvl'` and `'Pave'`, corresponding to a gravel road and a paved road, respectively.\n",
    "\n",
    "We refer to the number of unique entries of a categorical variable as the **cardinality** of that categorical variable.  For instance, the `'Street'` variable has cardinality 2.\n",
    "\n",
    "Use the output above to answer the questions below."
   ]
  },
  {
   "cell_type": "code",
   "execution_count": 17,
   "id": "5bf2cc4d",
   "metadata": {
    "execution": {
     "iopub.execute_input": "2021-08-13T18:06:12.894565Z",
     "iopub.status.busy": "2021-08-13T18:06:12.893871Z",
     "iopub.status.idle": "2021-08-13T18:06:12.898710Z",
     "shell.execute_reply": "2021-08-13T18:06:12.899174Z",
     "shell.execute_reply.started": "2021-08-13T18:05:33.324960Z"
    },
    "papermill": {
     "duration": 0.049469,
     "end_time": "2021-08-13T18:06:12.899386",
     "exception": false,
     "start_time": "2021-08-13T18:06:12.849917",
     "status": "completed"
    },
    "tags": []
   },
   "outputs": [
    {
     "data": {
      "application/javascript": [
       "parent.postMessage({\"jupyterEvent\": \"custom.exercise_interaction\", \"data\": {\"outcomeType\": 1, \"valueTowardsCompletion\": 0.5, \"interactionType\": 1, \"questionType\": 1, \"questionId\": \"3.1_CardinalityA\", \"learnToolsVersion\": \"0.3.4\", \"failureMessage\": \"\", \"exceptionClass\": \"\", \"trace\": \"\"}}, \"*\")"
      ],
      "text/plain": [
       "<IPython.core.display.Javascript object>"
      ]
     },
     "metadata": {},
     "output_type": "display_data"
    },
    {
     "data": {
      "text/markdown": [
       "<span style=\"color:#33cc33\">Correct</span>"
      ],
      "text/plain": [
       "Correct"
      ]
     },
     "metadata": {},
     "output_type": "display_data"
    }
   ],
   "source": [
    "# Fill in the line below: How many categorical variables in the training data\n",
    "# have cardinality greater than 10?\n",
    "high_cardinality_numcols = 3\n",
    "\n",
    "# Fill in the line below: How many columns are needed to one-hot encode the \n",
    "# 'Neighborhood' variable in the training data?\n",
    "num_cols_neighborhood = 25\n",
    "\n",
    "# Check your answers\n",
    "step_3.a.check()"
   ]
  },
  {
   "cell_type": "code",
   "execution_count": 18,
   "id": "9ee2c21f",
   "metadata": {
    "execution": {
     "iopub.execute_input": "2021-08-13T18:06:12.982998Z",
     "iopub.status.busy": "2021-08-13T18:06:12.982221Z",
     "iopub.status.idle": "2021-08-13T18:06:12.984934Z",
     "shell.execute_reply": "2021-08-13T18:06:12.985454Z",
     "shell.execute_reply.started": "2021-08-13T18:05:33.336714Z"
    },
    "papermill": {
     "duration": 0.047353,
     "end_time": "2021-08-13T18:06:12.985652",
     "exception": false,
     "start_time": "2021-08-13T18:06:12.938299",
     "status": "completed"
    },
    "tags": []
   },
   "outputs": [],
   "source": [
    "# Lines below will give you a hint or solution code\n",
    "#step_3.a.hint()\n",
    "#step_3.a.solution()"
   ]
  },
  {
   "cell_type": "markdown",
   "id": "d89652ea",
   "metadata": {
    "papermill": {
     "duration": 0.040564,
     "end_time": "2021-08-13T18:06:13.071211",
     "exception": false,
     "start_time": "2021-08-13T18:06:13.030647",
     "status": "completed"
    },
    "tags": []
   },
   "source": [
    "### Part B\n",
    "\n",
    "For large datasets with many rows, one-hot encoding can greatly expand the size of the dataset.  For this reason, we typically will only one-hot encode columns with relatively low cardinality.  Then, high cardinality columns can either be dropped from the dataset, or we can use ordinal encoding.\n",
    "\n",
    "As an example, consider a dataset with 10,000 rows, and containing one categorical column with 100 unique entries.  \n",
    "- If this column is replaced with the corresponding one-hot encoding, how many entries are added to the dataset?  \n",
    "- If we instead replace the column with the ordinal encoding, how many entries are added?  \n",
    "\n",
    "Use your answers to fill in the lines below."
   ]
  },
  {
   "cell_type": "code",
   "execution_count": 19,
   "id": "0ca73ef6",
   "metadata": {
    "execution": {
     "iopub.execute_input": "2021-08-13T18:06:13.159723Z",
     "iopub.status.busy": "2021-08-13T18:06:13.158703Z",
     "iopub.status.idle": "2021-08-13T18:06:13.164121Z",
     "shell.execute_reply": "2021-08-13T18:06:13.164678Z",
     "shell.execute_reply.started": "2021-08-13T18:05:33.344183Z"
    },
    "papermill": {
     "duration": 0.052292,
     "end_time": "2021-08-13T18:06:13.164876",
     "exception": false,
     "start_time": "2021-08-13T18:06:13.112584",
     "status": "completed"
    },
    "tags": []
   },
   "outputs": [
    {
     "data": {
      "application/javascript": [
       "parent.postMessage({\"jupyterEvent\": \"custom.exercise_interaction\", \"data\": {\"outcomeType\": 1, \"valueTowardsCompletion\": 0.5, \"interactionType\": 1, \"questionType\": 1, \"questionId\": \"3.2_CardinalityB\", \"learnToolsVersion\": \"0.3.4\", \"failureMessage\": \"\", \"exceptionClass\": \"\", \"trace\": \"\"}}, \"*\")"
      ],
      "text/plain": [
       "<IPython.core.display.Javascript object>"
      ]
     },
     "metadata": {},
     "output_type": "display_data"
    },
    {
     "data": {
      "text/markdown": [
       "<span style=\"color:#33cc33\">Correct</span>"
      ],
      "text/plain": [
       "Correct"
      ]
     },
     "metadata": {},
     "output_type": "display_data"
    }
   ],
   "source": [
    "# Fill in the line below: How many entries are added to the dataset by \n",
    "# replacing the column with a one-hot encoding?\n",
    "OH_entries_added = 1e4*100 - 1e4\n",
    "\n",
    "# Fill in the line below: How many entries are added to the dataset by\n",
    "# replacing the column with an ordinal encoding?\n",
    "label_entries_added = 0\n",
    "\n",
    "# Check your answers\n",
    "step_3.b.check()"
   ]
  },
  {
   "cell_type": "code",
   "execution_count": 20,
   "id": "1c5ccee0",
   "metadata": {
    "execution": {
     "iopub.execute_input": "2021-08-13T18:06:13.248265Z",
     "iopub.status.busy": "2021-08-13T18:06:13.247616Z",
     "iopub.status.idle": "2021-08-13T18:06:13.255682Z",
     "shell.execute_reply": "2021-08-13T18:06:13.254971Z",
     "shell.execute_reply.started": "2021-08-13T18:05:33.369934Z"
    },
    "papermill": {
     "duration": 0.05113,
     "end_time": "2021-08-13T18:06:13.255829",
     "exception": false,
     "start_time": "2021-08-13T18:06:13.204699",
     "status": "completed"
    },
    "tags": []
   },
   "outputs": [
    {
     "data": {
      "application/javascript": [
       "parent.postMessage({\"jupyterEvent\": \"custom.exercise_interaction\", \"data\": {\"interactionType\": 3, \"questionType\": 1, \"questionId\": \"3.2_CardinalityB\", \"learnToolsVersion\": \"0.3.4\", \"valueTowardsCompletion\": 0.0, \"failureMessage\": \"\", \"exceptionClass\": \"\", \"trace\": \"\", \"outcomeType\": 4}}, \"*\")"
      ],
      "text/plain": [
       "<IPython.core.display.Javascript object>"
      ]
     },
     "metadata": {},
     "output_type": "display_data"
    },
    {
     "data": {
      "text/markdown": [
       "<span style=\"color:#33cc99\">Solution:</span> \n",
       "```python\n",
       "# How many entries are added to the dataset by\n",
       "# replacing the column with a one-hot encoding?\n",
       "OH_entries_added = 1e4*100 - 1e4\n",
       "\n",
       "# How many entries are added to the dataset by\n",
       "# replacing the column with an ordinal encoding?\n",
       "label_entries_added = 0\n",
       "\n",
       "```"
      ],
      "text/plain": [
       "Solution: \n",
       "```python\n",
       "# How many entries are added to the dataset by\n",
       "# replacing the column with a one-hot encoding?\n",
       "OH_entries_added = 1e4*100 - 1e4\n",
       "\n",
       "# How many entries are added to the dataset by\n",
       "# replacing the column with an ordinal encoding?\n",
       "label_entries_added = 0\n",
       "\n",
       "```"
      ]
     },
     "metadata": {},
     "output_type": "display_data"
    }
   ],
   "source": [
    "# Lines below will give you a hint or solution code\n",
    "#step_3.b.hint()\n",
    "step_3.b.solution()"
   ]
  },
  {
   "cell_type": "markdown",
   "id": "a5733758",
   "metadata": {
    "papermill": {
     "duration": 0.040656,
     "end_time": "2021-08-13T18:06:13.337759",
     "exception": false,
     "start_time": "2021-08-13T18:06:13.297103",
     "status": "completed"
    },
    "tags": []
   },
   "source": [
    "Next, you'll experiment with one-hot encoding.  But, instead of encoding all of the categorical variables in the dataset, you'll only create a one-hot encoding for columns with cardinality less than 10.\n",
    "\n",
    "Run the code cell below without changes to set `low_cardinality_cols` to a Python list containing the columns that will be one-hot encoded.  Likewise, `high_cardinality_cols` contains a list of categorical columns that will be dropped from the dataset."
   ]
  },
  {
   "cell_type": "code",
   "execution_count": 21,
   "id": "2cb4da77",
   "metadata": {
    "execution": {
     "iopub.execute_input": "2021-08-13T18:06:13.428641Z",
     "iopub.status.busy": "2021-08-13T18:06:13.427960Z",
     "iopub.status.idle": "2021-08-13T18:06:13.445323Z",
     "shell.execute_reply": "2021-08-13T18:06:13.444746Z",
     "shell.execute_reply.started": "2021-08-13T18:05:33.382982Z"
    },
    "papermill": {
     "duration": 0.066307,
     "end_time": "2021-08-13T18:06:13.445503",
     "exception": false,
     "start_time": "2021-08-13T18:06:13.379196",
     "status": "completed"
    },
    "tags": []
   },
   "outputs": [
    {
     "name": "stdout",
     "output_type": "stream",
     "text": [
      "Categorical columns that will be one-hot encoded: ['MSZoning', 'Street', 'LotShape', 'LandContour', 'Utilities', 'LotConfig', 'LandSlope', 'Condition1', 'Condition2', 'BldgType', 'HouseStyle', 'RoofStyle', 'RoofMatl', 'ExterQual', 'ExterCond', 'Foundation', 'Heating', 'HeatingQC', 'CentralAir', 'KitchenQual', 'Functional', 'PavedDrive', 'SaleType', 'SaleCondition']\n",
      "\n",
      "Categorical columns that will be dropped from the dataset: ['Exterior1st', 'Exterior2nd', 'Neighborhood']\n"
     ]
    }
   ],
   "source": [
    "# Columns that will be one-hot encoded\n",
    "low_cardinality_cols = [col for col in object_cols if X_train[col].nunique() < 10]\n",
    "\n",
    "# Columns that will be dropped from the dataset\n",
    "high_cardinality_cols = list(set(object_cols)-set(low_cardinality_cols))\n",
    "\n",
    "print('Categorical columns that will be one-hot encoded:', low_cardinality_cols)\n",
    "print('\\nCategorical columns that will be dropped from the dataset:', high_cardinality_cols)"
   ]
  },
  {
   "cell_type": "markdown",
   "id": "c1c32136",
   "metadata": {
    "papermill": {
     "duration": 0.040763,
     "end_time": "2021-08-13T18:06:13.528251",
     "exception": false,
     "start_time": "2021-08-13T18:06:13.487488",
     "status": "completed"
    },
    "tags": []
   },
   "source": [
    "# Step 4: One-hot encoding\n",
    "\n",
    "Use the next code cell to one-hot encode the data in `X_train` and `X_valid`.  Set the preprocessed DataFrames to `OH_X_train` and `OH_X_valid`, respectively.  \n",
    "- The full list of categorical columns in the dataset can be found in the Python list `object_cols`.\n",
    "- You should only one-hot encode the categorical columns in `low_cardinality_cols`.  All other categorical columns should be dropped from the dataset. "
   ]
  },
  {
   "cell_type": "code",
   "execution_count": 22,
   "id": "625a4e79",
   "metadata": {
    "execution": {
     "iopub.execute_input": "2021-08-13T18:06:13.631177Z",
     "iopub.status.busy": "2021-08-13T18:06:13.630533Z",
     "iopub.status.idle": "2021-08-13T18:06:13.662655Z",
     "shell.execute_reply": "2021-08-13T18:06:13.663190Z",
     "shell.execute_reply.started": "2021-08-13T18:05:33.408953Z"
    },
    "papermill": {
     "duration": 0.094086,
     "end_time": "2021-08-13T18:06:13.663407",
     "exception": false,
     "start_time": "2021-08-13T18:06:13.569321",
     "status": "completed"
    },
    "tags": []
   },
   "outputs": [
    {
     "data": {
      "application/javascript": [
       "parent.postMessage({\"jupyterEvent\": \"custom.exercise_interaction\", \"data\": {\"outcomeType\": 1, \"valueTowardsCompletion\": 0.5, \"interactionType\": 1, \"questionType\": 2, \"questionId\": \"4_OneHot\", \"learnToolsVersion\": \"0.3.4\", \"failureMessage\": \"\", \"exceptionClass\": \"\", \"trace\": \"\"}}, \"*\")"
      ],
      "text/plain": [
       "<IPython.core.display.Javascript object>"
      ]
     },
     "metadata": {},
     "output_type": "display_data"
    },
    {
     "data": {
      "text/markdown": [
       "<span style=\"color:#33cc33\">Correct</span>"
      ],
      "text/plain": [
       "Correct"
      ]
     },
     "metadata": {},
     "output_type": "display_data"
    }
   ],
   "source": [
    "from sklearn.preprocessing import OneHotEncoder\n",
    "\n",
    "# Use as many lines of code as you need!\n",
    "oh_encoder = OneHotEncoder(handle_unknown = \"ignore\", sparse = False)\n",
    "OH_X_train_cols = pd.DataFrame(oh_encoder.fit_transform(X_train[low_cardinality_cols]))\n",
    "OH_X_valid_cols = pd.DataFrame(oh_encoder.transform(X_valid[low_cardinality_cols]))\n",
    "\n",
    "OH_X_train_cols.index = X_train.index\n",
    "OH_X_valid_cols.index = X_valid.index\n",
    "\n",
    "num_X_train = X_train.drop(object_cols, axis = 1)\n",
    "num_X_valid = X_valid.drop(object_cols, axis = 1)\n",
    "\n",
    "OH_X_train = pd.concat([num_X_train, OH_X_train_cols], axis = 1)\n",
    "OH_X_valid = pd.concat([num_X_valid, OH_X_valid_cols], axis = 1)\n",
    "# Check your answer\n",
    "step_4.check()"
   ]
  },
  {
   "cell_type": "code",
   "execution_count": 23,
   "id": "bde40802",
   "metadata": {
    "execution": {
     "iopub.execute_input": "2021-08-13T18:06:13.755281Z",
     "iopub.status.busy": "2021-08-13T18:06:13.754653Z",
     "iopub.status.idle": "2021-08-13T18:06:13.758718Z",
     "shell.execute_reply": "2021-08-13T18:06:13.758061Z",
     "shell.execute_reply.started": "2021-08-13T18:05:33.449603Z"
    },
    "papermill": {
     "duration": 0.0519,
     "end_time": "2021-08-13T18:06:13.758875",
     "exception": false,
     "start_time": "2021-08-13T18:06:13.706975",
     "status": "completed"
    },
    "tags": []
   },
   "outputs": [],
   "source": [
    "# Lines below will give you a hint or solution code\n",
    "#step_4.hint()\n",
    "#step_4.solution()"
   ]
  },
  {
   "cell_type": "markdown",
   "id": "e2448393",
   "metadata": {
    "papermill": {
     "duration": 0.042694,
     "end_time": "2021-08-13T18:06:13.844646",
     "exception": false,
     "start_time": "2021-08-13T18:06:13.801952",
     "status": "completed"
    },
    "tags": []
   },
   "source": [
    "Run the next code cell to get the MAE for this approach."
   ]
  },
  {
   "cell_type": "code",
   "execution_count": 24,
   "id": "fb5d58b1",
   "metadata": {
    "execution": {
     "iopub.execute_input": "2021-08-13T18:06:13.934454Z",
     "iopub.status.busy": "2021-08-13T18:06:13.933802Z",
     "iopub.status.idle": "2021-08-13T18:06:15.915300Z",
     "shell.execute_reply": "2021-08-13T18:06:15.916146Z",
     "shell.execute_reply.started": "2021-08-13T18:05:33.456180Z"
    },
    "papermill": {
     "duration": 2.0284,
     "end_time": "2021-08-13T18:06:15.916428",
     "exception": false,
     "start_time": "2021-08-13T18:06:13.888028",
     "status": "completed"
    },
    "tags": []
   },
   "outputs": [
    {
     "name": "stdout",
     "output_type": "stream",
     "text": [
      "MAE from Approach 3 (One-Hot Encoding):\n",
      "17525.345719178084\n"
     ]
    }
   ],
   "source": [
    "print(\"MAE from Approach 3 (One-Hot Encoding):\") \n",
    "print(score_dataset(OH_X_train, OH_X_valid, y_train, y_valid))"
   ]
  },
  {
   "cell_type": "markdown",
   "id": "c75267fc",
   "metadata": {
    "papermill": {
     "duration": 0.04215,
     "end_time": "2021-08-13T18:06:16.001947",
     "exception": false,
     "start_time": "2021-08-13T18:06:15.959797",
     "status": "completed"
    },
    "tags": []
   },
   "source": [
    "# Generate test predictions and submit your results\n",
    "\n",
    "After you complete Step 4, if you'd like to use what you've learned to submit your results to the leaderboard, you'll need to preprocess the test data before generating predictions.\n",
    "\n",
    "**This step is completely optional, and you do not need to submit results to the leaderboard to successfully complete the exercise.**\n",
    "\n",
    "Check out the previous exercise if you need help with remembering how to [join the competition](https://www.kaggle.com/c/home-data-for-ml-course) or save your results to CSV.  Once you have generated a file with your results, follow the instructions below:\n",
    "1. Begin by clicking on the **Save Version** button in the top right corner of the window.  This will generate a pop-up window.  \n",
    "2. Ensure that the **Save and Run All** option is selected, and then click on the **Save** button.\n",
    "3. This generates a window in the bottom left corner of the notebook.  After it has finished running, click on the number to the right of the **Save Version** button.  This pulls up a list of versions on the right of the screen.  Click on the ellipsis **(...)** to the right of the most recent version, and select **Open in Viewer**.  This brings you into view mode of the same page. You will need to scroll down to get back to these instructions.\n",
    "4. Click on the **Output** tab on the right of the screen.  Then, click on the file you would like to submit, and click on the blue **Submit** button to submit your results to the leaderboard.\n",
    "\n",
    "You have now successfully submitted to the competition!\n",
    "\n",
    "If you want to keep working to improve your performance, select the **Edit** button in the top right of the screen. Then you can change your code and repeat the process. There's a lot of room to improve, and you will climb up the leaderboard as you work.\n"
   ]
  },
  {
   "cell_type": "code",
   "execution_count": 25,
   "id": "1bd74536",
   "metadata": {
    "execution": {
     "iopub.execute_input": "2021-08-13T18:06:16.097287Z",
     "iopub.status.busy": "2021-08-13T18:06:16.096266Z",
     "iopub.status.idle": "2021-08-13T18:06:18.061649Z",
     "shell.execute_reply": "2021-08-13T18:06:18.060945Z",
     "shell.execute_reply.started": "2021-08-13T18:05:35.412808Z"
    },
    "papermill": {
     "duration": 2.016865,
     "end_time": "2021-08-13T18:06:18.061796",
     "exception": false,
     "start_time": "2021-08-13T18:06:16.044931",
     "status": "completed"
    },
    "tags": []
   },
   "outputs": [],
   "source": [
    "my_model = RandomForestRegressor()\n",
    "my_model.fit(OH_X_train, y_train)\n",
    "preds_test = my_model.predict(OH_X_valid)"
   ]
  },
  {
   "cell_type": "code",
   "execution_count": 26,
   "id": "e6e1b6a9",
   "metadata": {
    "execution": {
     "iopub.execute_input": "2021-08-13T18:06:18.158391Z",
     "iopub.status.busy": "2021-08-13T18:06:18.157655Z",
     "iopub.status.idle": "2021-08-13T18:06:18.165957Z",
     "shell.execute_reply": "2021-08-13T18:06:18.165255Z",
     "shell.execute_reply.started": "2021-08-13T18:05:37.368400Z"
    },
    "papermill": {
     "duration": 0.060107,
     "end_time": "2021-08-13T18:06:18.166144",
     "exception": false,
     "start_time": "2021-08-13T18:06:18.106037",
     "status": "completed"
    },
    "tags": []
   },
   "outputs": [],
   "source": [
    "output = pd.DataFrame({'Id': OH_X_valid.index,\n",
    "                       'SalePrice': preds_test})\n",
    "output.to_csv('submission.csv', index=False)"
   ]
  },
  {
   "cell_type": "markdown",
   "id": "a5fec4fe",
   "metadata": {
    "papermill": {
     "duration": 0.049565,
     "end_time": "2021-08-13T18:06:18.261192",
     "exception": false,
     "start_time": "2021-08-13T18:06:18.211627",
     "status": "completed"
    },
    "tags": []
   },
   "source": [
    "# Keep going\n",
    "\n",
    "With missing value handling and categorical encoding, your modeling process is getting complex. This complexity gets worse when you want to save your model to use in the future. The key to managing this complexity is something called **pipelines**. \n",
    "\n",
    "**[Learn to use pipelines](https://www.kaggle.com/alexisbcook/pipelines)** to preprocess datasets with categorical variables, missing values and any other messiness your data throws at you."
   ]
  },
  {
   "cell_type": "markdown",
   "id": "b4c8579b",
   "metadata": {
    "papermill": {
     "duration": 0.051228,
     "end_time": "2021-08-13T18:06:18.377272",
     "exception": false,
     "start_time": "2021-08-13T18:06:18.326044",
     "status": "completed"
    },
    "tags": []
   },
   "source": [
    "---\n",
    "\n",
    "\n",
    "\n",
    "\n",
    "*Have questions or comments? Visit the [Learn Discussion forum](https://www.kaggle.com/learn-forum/161289) to chat with other Learners.*"
   ]
  }
 ],
 "metadata": {
  "kernelspec": {
   "display_name": "Python 3",
   "language": "python",
   "name": "python3"
  },
  "language_info": {
   "codemirror_mode": {
    "name": "ipython",
    "version": 3
   },
   "file_extension": ".py",
   "mimetype": "text/x-python",
   "name": "python",
   "nbconvert_exporter": "python",
   "pygments_lexer": "ipython3",
   "version": "3.7.10"
  },
  "papermill": {
   "default_parameters": {},
   "duration": 22.878984,
   "end_time": "2021-08-13T18:06:20.404828",
   "environment_variables": {},
   "exception": null,
   "input_path": "__notebook__.ipynb",
   "output_path": "__notebook__.ipynb",
   "parameters": {},
   "start_time": "2021-08-13T18:05:57.525844",
   "version": "2.3.3"
  }
 },
 "nbformat": 4,
 "nbformat_minor": 5
}
