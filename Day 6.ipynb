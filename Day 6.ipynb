{
 "cells": [
  {
   "cell_type": "markdown",
   "id": "5ee20d26",
   "metadata": {
    "papermill": {
     "duration": 0.017474,
     "end_time": "2021-08-07T17:46:48.379775",
     "exception": false,
     "start_time": "2021-08-07T17:46:48.362301",
     "status": "completed"
    },
    "tags": []
   },
   "source": [
    "**This notebook is an exercise in the [Python](https://www.kaggle.com/learn/python) course.  You can reference the tutorial at [this link](https://www.kaggle.com/colinmorris/strings-and-dictionaries).**\n",
    "\n",
    "---\n"
   ]
  },
  {
   "cell_type": "markdown",
   "id": "5759b84c",
   "metadata": {
    "papermill": {
     "duration": 0.01597,
     "end_time": "2021-08-07T17:46:48.415603",
     "exception": false,
     "start_time": "2021-08-07T17:46:48.399633",
     "status": "completed"
    },
    "tags": []
   },
   "source": [
    "You are almost done with the course. Nice job!\n",
    "\n",
    "We have a couple more interesting problems for you before you go. \n",
    "\n",
    "As always, run the setup code below before working on the questions."
   ]
  },
  {
   "cell_type": "code",
   "execution_count": 1,
   "id": "6f51f4f3",
   "metadata": {
    "execution": {
     "iopub.execute_input": "2021-08-07T17:46:48.452120Z",
     "iopub.status.busy": "2021-08-07T17:46:48.450954Z",
     "iopub.status.idle": "2021-08-07T17:46:48.593410Z",
     "shell.execute_reply": "2021-08-07T17:46:48.593924Z",
     "shell.execute_reply.started": "2021-08-07T17:15:17.741524Z"
    },
    "papermill": {
     "duration": 0.16253,
     "end_time": "2021-08-07T17:46:48.594312",
     "exception": false,
     "start_time": "2021-08-07T17:46:48.431782",
     "status": "completed"
    },
    "tags": []
   },
   "outputs": [
    {
     "name": "stdout",
     "output_type": "stream",
     "text": [
      "Setup complete.\n"
     ]
    }
   ],
   "source": [
    "from learntools.core import binder; binder.bind(globals())\n",
    "from learntools.python.ex6 import *\n",
    "print('Setup complete.')"
   ]
  },
  {
   "cell_type": "markdown",
   "id": "eac8f59c",
   "metadata": {
    "papermill": {
     "duration": 0.0171,
     "end_time": "2021-08-07T17:46:48.628640",
     "exception": false,
     "start_time": "2021-08-07T17:46:48.611540",
     "status": "completed"
    },
    "tags": []
   },
   "source": [
    "Let's start with a string lightning round to warm up. What are the lengths of the strings below?\n",
    "\n",
    "For each of the five strings below, predict what `len()` would return when passed that string. Use the variable `length` to record your answer, then run the cell to check whether you were right.  \n",
    "\n",
    "# 0a."
   ]
  },
  {
   "cell_type": "code",
   "execution_count": 2,
   "id": "e2d39889",
   "metadata": {
    "execution": {
     "iopub.execute_input": "2021-08-07T17:46:48.669545Z",
     "iopub.status.busy": "2021-08-07T17:46:48.668843Z",
     "iopub.status.idle": "2021-08-07T17:46:48.674568Z",
     "shell.execute_reply": "2021-08-07T17:46:48.673994Z",
     "shell.execute_reply.started": "2021-08-07T17:15:24.524485Z"
    },
    "papermill": {
     "duration": 0.029405,
     "end_time": "2021-08-07T17:46:48.674717",
     "exception": false,
     "start_time": "2021-08-07T17:46:48.645312",
     "status": "completed"
    },
    "tags": []
   },
   "outputs": [
    {
     "data": {
      "application/javascript": [
       "parent.postMessage({\"jupyterEvent\": \"custom.exercise_interaction\", \"data\": {\"outcomeType\": 1, \"valueTowardsCompletion\": 0.3333333333333333, \"interactionType\": 1, \"questionType\": 1, \"questionId\": \"0.1_ZA\", \"learnToolsVersion\": \"0.3.4\", \"failureMessage\": \"\", \"exceptionClass\": \"\", \"trace\": \"\"}}, \"*\")"
      ],
      "text/plain": [
       "<IPython.core.display.Javascript object>"
      ]
     },
     "metadata": {},
     "output_type": "display_data"
    },
    {
     "data": {
      "text/markdown": [
       "<span style=\"color:#33cc33\">Correct:</span> \n",
       "\n",
       "The empty string has length zero. Note that the empty string is also the only string that Python considers as False when converting to boolean."
      ],
      "text/plain": [
       "Correct: \n",
       "\n",
       "The empty string has length zero. Note that the empty string is also the only string that Python considers as False when converting to boolean."
      ]
     },
     "metadata": {},
     "output_type": "display_data"
    }
   ],
   "source": [
    "a = \"\"\n",
    "length = 0\n",
    "q0.a.check()"
   ]
  },
  {
   "cell_type": "markdown",
   "id": "94dc74e1",
   "metadata": {
    "papermill": {
     "duration": 0.017052,
     "end_time": "2021-08-07T17:46:48.709378",
     "exception": false,
     "start_time": "2021-08-07T17:46:48.692326",
     "status": "completed"
    },
    "tags": []
   },
   "source": [
    "# 0b."
   ]
  },
  {
   "cell_type": "code",
   "execution_count": 3,
   "id": "c8723ebf",
   "metadata": {
    "execution": {
     "iopub.execute_input": "2021-08-07T17:46:48.747259Z",
     "iopub.status.busy": "2021-08-07T17:46:48.746642Z",
     "iopub.status.idle": "2021-08-07T17:46:48.754215Z",
     "shell.execute_reply": "2021-08-07T17:46:48.753626Z",
     "shell.execute_reply.started": "2021-08-07T17:15:38.980426Z"
    },
    "papermill": {
     "duration": 0.027617,
     "end_time": "2021-08-07T17:46:48.754383",
     "exception": false,
     "start_time": "2021-08-07T17:46:48.726766",
     "status": "completed"
    },
    "tags": []
   },
   "outputs": [
    {
     "data": {
      "application/javascript": [
       "parent.postMessage({\"jupyterEvent\": \"custom.exercise_interaction\", \"data\": {\"outcomeType\": 1, \"valueTowardsCompletion\": 0.3333333333333333, \"interactionType\": 1, \"questionType\": 1, \"questionId\": \"0.2_ZB\", \"learnToolsVersion\": \"0.3.4\", \"failureMessage\": \"\", \"exceptionClass\": \"\", \"trace\": \"\"}}, \"*\")"
      ],
      "text/plain": [
       "<IPython.core.display.Javascript object>"
      ]
     },
     "metadata": {},
     "output_type": "display_data"
    },
    {
     "data": {
      "text/markdown": [
       "<span style=\"color:#33cc33\">Correct:</span> \n",
       "\n",
       "Keep in mind Python includes spaces (and punctuation) when counting string length."
      ],
      "text/plain": [
       "Correct: \n",
       "\n",
       "Keep in mind Python includes spaces (and punctuation) when counting string length."
      ]
     },
     "metadata": {},
     "output_type": "display_data"
    }
   ],
   "source": [
    "b = \"it's ok\"\n",
    "length = 7\n",
    "q0.b.check()"
   ]
  },
  {
   "cell_type": "markdown",
   "id": "32f28b84",
   "metadata": {
    "papermill": {
     "duration": 0.018207,
     "end_time": "2021-08-07T17:46:48.791195",
     "exception": false,
     "start_time": "2021-08-07T17:46:48.772988",
     "status": "completed"
    },
    "tags": []
   },
   "source": [
    "# 0c."
   ]
  },
  {
   "cell_type": "code",
   "execution_count": 4,
   "id": "2e95975a",
   "metadata": {
    "execution": {
     "iopub.execute_input": "2021-08-07T17:46:48.833961Z",
     "iopub.status.busy": "2021-08-07T17:46:48.833016Z",
     "iopub.status.idle": "2021-08-07T17:46:48.838789Z",
     "shell.execute_reply": "2021-08-07T17:46:48.839288Z",
     "shell.execute_reply.started": "2021-08-07T17:15:49.091015Z"
    },
    "papermill": {
     "duration": 0.030005,
     "end_time": "2021-08-07T17:46:48.839457",
     "exception": false,
     "start_time": "2021-08-07T17:46:48.809452",
     "status": "completed"
    },
    "tags": []
   },
   "outputs": [
    {
     "data": {
      "application/javascript": [
       "parent.postMessage({\"jupyterEvent\": \"custom.exercise_interaction\", \"data\": {\"outcomeType\": 1, \"valueTowardsCompletion\": 0.3333333333333333, \"interactionType\": 1, \"questionType\": 1, \"questionId\": \"0.3_ZC\", \"learnToolsVersion\": \"0.3.4\", \"failureMessage\": \"\", \"exceptionClass\": \"\", \"trace\": \"\"}}, \"*\")"
      ],
      "text/plain": [
       "<IPython.core.display.Javascript object>"
      ]
     },
     "metadata": {},
     "output_type": "display_data"
    },
    {
     "data": {
      "text/markdown": [
       "<span style=\"color:#33cc33\">Correct:</span> \n",
       "\n",
       "Even though we use different syntax to create it, the string `c` is identical to `b`. In particular, note that the backslash is not part of the string, so it doesn't contribute to its length."
      ],
      "text/plain": [
       "Correct: \n",
       "\n",
       "Even though we use different syntax to create it, the string `c` is identical to `b`. In particular, note that the backslash is not part of the string, so it doesn't contribute to its length."
      ]
     },
     "metadata": {},
     "output_type": "display_data"
    }
   ],
   "source": [
    "c = 'it\\'s ok'\n",
    "length =7\n",
    "q0.c.check()"
   ]
  },
  {
   "cell_type": "markdown",
   "id": "f2e2116c",
   "metadata": {
    "papermill": {
     "duration": 0.018758,
     "end_time": "2021-08-07T17:46:48.877305",
     "exception": false,
     "start_time": "2021-08-07T17:46:48.858547",
     "status": "completed"
    },
    "tags": []
   },
   "source": [
    "# 0d."
   ]
  },
  {
   "cell_type": "code",
   "execution_count": 5,
   "id": "3d337ce4",
   "metadata": {
    "execution": {
     "iopub.execute_input": "2021-08-07T17:46:48.922066Z",
     "iopub.status.busy": "2021-08-07T17:46:48.921141Z",
     "iopub.status.idle": "2021-08-07T17:46:48.926441Z",
     "shell.execute_reply": "2021-08-07T17:46:48.927002Z",
     "shell.execute_reply.started": "2021-08-07T17:15:56.839836Z"
    },
    "papermill": {
     "duration": 0.030814,
     "end_time": "2021-08-07T17:46:48.927190",
     "exception": false,
     "start_time": "2021-08-07T17:46:48.896376",
     "status": "completed"
    },
    "tags": []
   },
   "outputs": [
    {
     "data": {
      "application/javascript": [
       "parent.postMessage({\"jupyterEvent\": \"custom.exercise_interaction\", \"data\": {\"outcomeType\": 1, \"valueTowardsCompletion\": 0.3333333333333333, \"interactionType\": 1, \"questionType\": 1, \"questionId\": \"0.4_ZD\", \"learnToolsVersion\": \"0.3.4\", \"failureMessage\": \"\", \"exceptionClass\": \"\", \"trace\": \"\"}}, \"*\")"
      ],
      "text/plain": [
       "<IPython.core.display.Javascript object>"
      ]
     },
     "metadata": {},
     "output_type": "display_data"
    },
    {
     "data": {
      "text/markdown": [
       "<span style=\"color:#33cc33\">Correct:</span> \n",
       "\n",
       "The fact that this string was created using triple-quote syntax doesn't make any difference in terms of its content or length. This string is exactly the same as `'hey'`."
      ],
      "text/plain": [
       "Correct: \n",
       "\n",
       "The fact that this string was created using triple-quote syntax doesn't make any difference in terms of its content or length. This string is exactly the same as `'hey'`."
      ]
     },
     "metadata": {},
     "output_type": "display_data"
    }
   ],
   "source": [
    "d = \"\"\"hey\"\"\"\n",
    "length = 3\n",
    "q0.d.check()"
   ]
  },
  {
   "cell_type": "markdown",
   "id": "0cce768b",
   "metadata": {
    "papermill": {
     "duration": 0.01986,
     "end_time": "2021-08-07T17:46:48.967190",
     "exception": false,
     "start_time": "2021-08-07T17:46:48.947330",
     "status": "completed"
    },
    "tags": []
   },
   "source": [
    "# 0e."
   ]
  },
  {
   "cell_type": "code",
   "execution_count": 6,
   "id": "7ff5a34d",
   "metadata": {
    "execution": {
     "iopub.execute_input": "2021-08-07T17:46:49.011196Z",
     "iopub.status.busy": "2021-08-07T17:46:49.010270Z",
     "iopub.status.idle": "2021-08-07T17:46:49.018074Z",
     "shell.execute_reply": "2021-08-07T17:46:49.018563Z",
     "shell.execute_reply.started": "2021-08-07T17:16:02.434732Z"
    },
    "papermill": {
     "duration": 0.0313,
     "end_time": "2021-08-07T17:46:49.018728",
     "exception": false,
     "start_time": "2021-08-07T17:46:48.987428",
     "status": "completed"
    },
    "tags": []
   },
   "outputs": [
    {
     "data": {
      "application/javascript": [
       "parent.postMessage({\"jupyterEvent\": \"custom.exercise_interaction\", \"data\": {\"outcomeType\": 1, \"valueTowardsCompletion\": 0.3333333333333333, \"interactionType\": 1, \"questionType\": 1, \"questionId\": \"0.5_ZE\", \"learnToolsVersion\": \"0.3.4\", \"failureMessage\": \"\", \"exceptionClass\": \"\", \"trace\": \"\"}}, \"*\")"
      ],
      "text/plain": [
       "<IPython.core.display.Javascript object>"
      ]
     },
     "metadata": {},
     "output_type": "display_data"
    },
    {
     "data": {
      "text/markdown": [
       "<span style=\"color:#33cc33\">Correct:</span> \n",
       "\n",
       "The newline character is just a single character! (Even though we represent it to Python using a combination of two characters.)"
      ],
      "text/plain": [
       "Correct: \n",
       "\n",
       "The newline character is just a single character! (Even though we represent it to Python using a combination of two characters.)"
      ]
     },
     "metadata": {},
     "output_type": "display_data"
    }
   ],
   "source": [
    "e = '\\n'\n",
    "length = 1\n",
    "q0.e.check()"
   ]
  },
  {
   "cell_type": "markdown",
   "id": "6e790754",
   "metadata": {
    "papermill": {
     "duration": 0.020897,
     "end_time": "2021-08-07T17:46:49.060733",
     "exception": false,
     "start_time": "2021-08-07T17:46:49.039836",
     "status": "completed"
    },
    "tags": []
   },
   "source": [
    "# 1.\n",
    "\n",
    "There is a saying that \"Data scientists spend 80% of their time cleaning data, and 20% of their time complaining about cleaning data.\" Let's see if you can write a function to help clean US zip code data. Given a string, it should return whether or not that string represents a valid zip code. For our purposes, a valid zip code is any string consisting of exactly 5 digits.\n",
    "\n",
    "HINT: `str` has a method that will be useful here. Use `help(str)` to review a list of string methods."
   ]
  },
  {
   "cell_type": "code",
   "execution_count": 7,
   "id": "f485f0d5",
   "metadata": {
    "execution": {
     "iopub.execute_input": "2021-08-07T17:46:49.107329Z",
     "iopub.status.busy": "2021-08-07T17:46:49.106395Z",
     "iopub.status.idle": "2021-08-07T17:46:49.115149Z",
     "shell.execute_reply": "2021-08-07T17:46:49.114487Z",
     "shell.execute_reply.started": "2021-08-07T17:18:56.798865Z"
    },
    "papermill": {
     "duration": 0.033411,
     "end_time": "2021-08-07T17:46:49.115304",
     "exception": false,
     "start_time": "2021-08-07T17:46:49.081893",
     "status": "completed"
    },
    "tags": []
   },
   "outputs": [
    {
     "data": {
      "application/javascript": [
       "parent.postMessage({\"jupyterEvent\": \"custom.exercise_interaction\", \"data\": {\"outcomeType\": 1, \"valueTowardsCompletion\": 0.3333333333333333, \"interactionType\": 1, \"questionType\": 2, \"questionId\": \"1_ZipValidator\", \"learnToolsVersion\": \"0.3.4\", \"failureMessage\": \"\", \"exceptionClass\": \"\", \"trace\": \"\"}}, \"*\")"
      ],
      "text/plain": [
       "<IPython.core.display.Javascript object>"
      ]
     },
     "metadata": {},
     "output_type": "display_data"
    },
    {
     "data": {
      "text/markdown": [
       "<span style=\"color:#33cc33\">Correct</span>"
      ],
      "text/plain": [
       "Correct"
      ]
     },
     "metadata": {},
     "output_type": "display_data"
    }
   ],
   "source": [
    "def is_valid_zip(zip_code):\n",
    "    \"\"\"Returns whether the input string is a valid (5 digit) zip code\n",
    "    \"\"\"\n",
    "    if len(zip_code) == 5 and zip_code.isnumeric():\n",
    "        return True\n",
    "    return False\n",
    "\n",
    "# Check your answer\n",
    "q1.check()"
   ]
  },
  {
   "cell_type": "code",
   "execution_count": 8,
   "id": "659fbb56",
   "metadata": {
    "execution": {
     "iopub.execute_input": "2021-08-07T17:46:49.163437Z",
     "iopub.status.busy": "2021-08-07T17:46:49.162817Z",
     "iopub.status.idle": "2021-08-07T17:46:49.165714Z",
     "shell.execute_reply": "2021-08-07T17:46:49.166336Z"
    },
    "papermill": {
     "duration": 0.028667,
     "end_time": "2021-08-07T17:46:49.166522",
     "exception": false,
     "start_time": "2021-08-07T17:46:49.137855",
     "status": "completed"
    },
    "tags": []
   },
   "outputs": [],
   "source": [
    "#q1.hint()\n",
    "#q1.solution()"
   ]
  },
  {
   "cell_type": "markdown",
   "id": "08e1526c",
   "metadata": {
    "papermill": {
     "duration": 0.02283,
     "end_time": "2021-08-07T17:46:49.211792",
     "exception": false,
     "start_time": "2021-08-07T17:46:49.188962",
     "status": "completed"
    },
    "tags": []
   },
   "source": [
    "# 2.\n",
    "\n",
    "A researcher has gathered thousands of news articles. But she wants to focus her attention on articles including a specific word. Complete the function below to help her filter her list of articles.\n",
    "\n",
    "Your function should meet the following criteria:\n",
    "\n",
    "- Do not include documents where the keyword string shows up only as a part of a larger word. For example, if she were looking for the keyword “closed”, you would not include the string “enclosed.” \n",
    "- She does not want you to distinguish upper case from lower case letters. So the phrase “Closed the case.” would be included when the keyword is “closed”\n",
    "- Do not let periods or commas affect what is matched. “It is closed.” would be included when the keyword is “closed”. But you can assume there are no other types of punctuation."
   ]
  },
  {
   "cell_type": "code",
   "execution_count": 9,
   "id": "53d6e28d",
   "metadata": {
    "execution": {
     "iopub.execute_input": "2021-08-07T17:46:49.260173Z",
     "iopub.status.busy": "2021-08-07T17:46:49.259493Z",
     "iopub.status.idle": "2021-08-07T17:46:49.268613Z",
     "shell.execute_reply": "2021-08-07T17:46:49.267853Z",
     "shell.execute_reply.started": "2021-08-07T17:43:13.502296Z"
    },
    "papermill": {
     "duration": 0.034401,
     "end_time": "2021-08-07T17:46:49.268762",
     "exception": false,
     "start_time": "2021-08-07T17:46:49.234361",
     "status": "completed"
    },
    "tags": []
   },
   "outputs": [
    {
     "data": {
      "application/javascript": [
       "parent.postMessage({\"jupyterEvent\": \"custom.exercise_interaction\", \"data\": {\"outcomeType\": 1, \"valueTowardsCompletion\": 0.3333333333333333, \"interactionType\": 1, \"questionType\": 2, \"questionId\": \"2_WordSearch\", \"learnToolsVersion\": \"0.3.4\", \"failureMessage\": \"\", \"exceptionClass\": \"\", \"trace\": \"\"}}, \"*\")"
      ],
      "text/plain": [
       "<IPython.core.display.Javascript object>"
      ]
     },
     "metadata": {},
     "output_type": "display_data"
    },
    {
     "data": {
      "text/markdown": [
       "<span style=\"color:#33cc33\">Correct</span>"
      ],
      "text/plain": [
       "Correct"
      ]
     },
     "metadata": {},
     "output_type": "display_data"
    }
   ],
   "source": [
    "def word_search(doc_list, keyword):\n",
    "    \"\"\"\n",
    "    Takes a list of documents (each document is a string) and a keyword. \n",
    "    Returns list of the index values into the original list for all documents \n",
    "    containing the keyword.\n",
    "\n",
    "    Example:\n",
    "    doc_list = [\"The Learn Python Challenge Casino.\", \"They bought a car\", \"Casinoville\"]\n",
    "    >>> word_search(doc_list, 'casino')\n",
    "    >>> [0]\n",
    "    \"\"\"\n",
    "    indices = [] \n",
    "    for i, doc in enumerate(doc_list):\n",
    "        tokens = doc.split()\n",
    "        normalized = [token.rstrip('.,').lower() for token in tokens]\n",
    "        if keyword.lower() in normalized:\n",
    "            indices.append(i)\n",
    "    return indices\n",
    "\n",
    "# Check your answer\n",
    "q2.check()"
   ]
  },
  {
   "cell_type": "code",
   "execution_count": 10,
   "id": "e50b9d82",
   "metadata": {
    "execution": {
     "iopub.execute_input": "2021-08-07T17:46:49.322628Z",
     "iopub.status.busy": "2021-08-07T17:46:49.321894Z",
     "iopub.status.idle": "2021-08-07T17:46:49.324834Z",
     "shell.execute_reply": "2021-08-07T17:46:49.324209Z",
     "shell.execute_reply.started": "2021-08-07T17:43:18.706898Z"
    },
    "papermill": {
     "duration": 0.030724,
     "end_time": "2021-08-07T17:46:49.324983",
     "exception": false,
     "start_time": "2021-08-07T17:46:49.294259",
     "status": "completed"
    },
    "tags": []
   },
   "outputs": [],
   "source": [
    "#q2.hint()\n",
    "#q2.solution()"
   ]
  },
  {
   "cell_type": "markdown",
   "id": "687cc1d4",
   "metadata": {
    "papermill": {
     "duration": 0.023483,
     "end_time": "2021-08-07T17:46:49.372294",
     "exception": false,
     "start_time": "2021-08-07T17:46:49.348811",
     "status": "completed"
    },
    "tags": []
   },
   "source": [
    "# 3.\n",
    "\n",
    "Now the researcher wants to supply multiple keywords to search for. Complete the function below to help her.\n",
    "\n",
    "(You're encouraged to use the `word_search` function you just wrote when implementing this function. Reusing code in this way makes your programs more robust and readable - and it saves typing!)"
   ]
  },
  {
   "cell_type": "code",
   "execution_count": 11,
   "id": "3c53d01e",
   "metadata": {
    "execution": {
     "iopub.execute_input": "2021-08-07T17:46:49.434324Z",
     "iopub.status.busy": "2021-08-07T17:46:49.433273Z",
     "iopub.status.idle": "2021-08-07T17:46:49.439977Z",
     "shell.execute_reply": "2021-08-07T17:46:49.439366Z",
     "shell.execute_reply.started": "2021-08-07T17:46:22.728322Z"
    },
    "papermill": {
     "duration": 0.043878,
     "end_time": "2021-08-07T17:46:49.440177",
     "exception": false,
     "start_time": "2021-08-07T17:46:49.396299",
     "status": "completed"
    },
    "tags": []
   },
   "outputs": [
    {
     "data": {
      "application/javascript": [
       "parent.postMessage({\"jupyterEvent\": \"custom.exercise_interaction\", \"data\": {\"outcomeType\": 1, \"valueTowardsCompletion\": 0.3333333333333333, \"interactionType\": 1, \"questionType\": 2, \"questionId\": \"3_MultiWordSearch\", \"learnToolsVersion\": \"0.3.4\", \"failureMessage\": \"\", \"exceptionClass\": \"\", \"trace\": \"\"}}, \"*\")"
      ],
      "text/plain": [
       "<IPython.core.display.Javascript object>"
      ]
     },
     "metadata": {},
     "output_type": "display_data"
    },
    {
     "data": {
      "text/markdown": [
       "<span style=\"color:#33cc33\">Correct</span>"
      ],
      "text/plain": [
       "Correct"
      ]
     },
     "metadata": {},
     "output_type": "display_data"
    }
   ],
   "source": [
    "def multi_word_search(doc_list, keywords):\n",
    "    \"\"\"\n",
    "    Takes list of documents (each document is a string) and a list of keywords.  \n",
    "    Returns a dictionary where each key is a keyword, and the value is a list of indices\n",
    "    (from doc_list) of the documents containing that keyword\n",
    "\n",
    "    >>> doc_list = [\"The Learn Python Challenge Casino.\", \"They bought a car and a casino\", \"Casinoville\"]\n",
    "    >>> keywords = ['casino', 'they']\n",
    "    >>> multi_word_search(doc_list, keywords)\n",
    "    {'casino': [0, 1], 'they': [1]}\n",
    "    \"\"\"\n",
    "    keys = {}\n",
    "    for word in keywords:\n",
    "        keys[word] = word_search(doc_list, word)\n",
    "    return keys\n",
    "        \n",
    "\n",
    "# Check your answer\n",
    "q3.check()"
   ]
  },
  {
   "cell_type": "code",
   "execution_count": 12,
   "id": "5be3a974",
   "metadata": {
    "execution": {
     "iopub.execute_input": "2021-08-07T17:46:49.508900Z",
     "iopub.status.busy": "2021-08-07T17:46:49.508178Z",
     "iopub.status.idle": "2021-08-07T17:46:49.514164Z",
     "shell.execute_reply": "2021-08-07T17:46:49.513231Z",
     "shell.execute_reply.started": "2021-08-07T17:44:46.104590Z"
    },
    "papermill": {
     "duration": 0.041739,
     "end_time": "2021-08-07T17:46:49.514383",
     "exception": false,
     "start_time": "2021-08-07T17:46:49.472644",
     "status": "completed"
    },
    "tags": []
   },
   "outputs": [],
   "source": [
    "#q3.solution()"
   ]
  },
  {
   "cell_type": "markdown",
   "id": "6277732b",
   "metadata": {
    "papermill": {
     "duration": 0.024032,
     "end_time": "2021-08-07T17:46:49.564984",
     "exception": false,
     "start_time": "2021-08-07T17:46:49.540952",
     "status": "completed"
    },
    "tags": []
   },
   "source": [
    "# Keep Going\n",
    "\n",
    "You've learned a lot. But even the best programmers rely heavily on \"libraries\" of code from other programmers. You'll learn about that in **[the last lesson](https://www.kaggle.com/colinmorris/working-with-external-libraries)**.\n"
   ]
  },
  {
   "cell_type": "markdown",
   "id": "ccf72a57",
   "metadata": {
    "papermill": {
     "duration": 0.024198,
     "end_time": "2021-08-07T17:46:49.613675",
     "exception": false,
     "start_time": "2021-08-07T17:46:49.589477",
     "status": "completed"
    },
    "tags": []
   },
   "source": [
    "---\n",
    "\n",
    "\n",
    "\n",
    "\n",
    "*Have questions or comments? Visit the [Learn Discussion forum](https://www.kaggle.com/learn-forum/161283) to chat with other Learners.*"
   ]
  }
 ],
 "metadata": {
  "kernelspec": {
   "display_name": "Python 3",
   "language": "python",
   "name": "python3"
  },
  "language_info": {
   "codemirror_mode": {
    "name": "ipython",
    "version": 3
   },
   "file_extension": ".py",
   "mimetype": "text/x-python",
   "name": "python",
   "nbconvert_exporter": "python",
   "pygments_lexer": "ipython3",
   "version": "3.7.10"
  },
  "papermill": {
   "default_parameters": {},
   "duration": 10.723992,
   "end_time": "2021-08-07T17:46:51.207856",
   "environment_variables": {},
   "exception": null,
   "input_path": "__notebook__.ipynb",
   "output_path": "__notebook__.ipynb",
   "parameters": {},
   "start_time": "2021-08-07T17:46:40.483864",
   "version": "2.3.3"
  }
 },
 "nbformat": 4,
 "nbformat_minor": 5
}
