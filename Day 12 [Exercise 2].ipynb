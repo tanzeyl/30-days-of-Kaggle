{
 "cells": [
  {
   "cell_type": "markdown",
   "id": "4927b1e2",
   "metadata": {
    "papermill": {
     "duration": 0.022589,
     "end_time": "2021-08-13T17:22:22.629018",
     "exception": false,
     "start_time": "2021-08-13T17:22:22.606429",
     "status": "completed"
    },
    "tags": []
   },
   "source": [
    "**This notebook is an exercise in the [Intermediate Machine Learning](https://www.kaggle.com/learn/intermediate-machine-learning) course.  You can reference the tutorial at [this link](https://www.kaggle.com/alexisbcook/missing-values).**\n",
    "\n",
    "---\n"
   ]
  },
  {
   "cell_type": "markdown",
   "id": "ced76b36",
   "metadata": {
    "papermill": {
     "duration": 0.021238,
     "end_time": "2021-08-13T17:22:22.674002",
     "exception": false,
     "start_time": "2021-08-13T17:22:22.652764",
     "status": "completed"
    },
    "tags": []
   },
   "source": [
    "Now it's your turn to test your new knowledge of **missing values** handling. You'll probably find it makes a big difference.\n",
    "\n",
    "# Setup\n",
    "\n",
    "The questions will give you feedback on your work. Run the following cell to set up the feedback system."
   ]
  },
  {
   "cell_type": "code",
   "execution_count": 1,
   "id": "18b78d79",
   "metadata": {
    "execution": {
     "iopub.execute_input": "2021-08-13T17:22:22.720709Z",
     "iopub.status.busy": "2021-08-13T17:22:22.719656Z",
     "iopub.status.idle": "2021-08-13T17:22:22.853790Z",
     "shell.execute_reply": "2021-08-13T17:22:22.854227Z",
     "shell.execute_reply.started": "2021-08-13T17:21:19.568074Z"
    },
    "papermill": {
     "duration": 0.159145,
     "end_time": "2021-08-13T17:22:22.854517",
     "exception": false,
     "start_time": "2021-08-13T17:22:22.695372",
     "status": "completed"
    },
    "tags": []
   },
   "outputs": [
    {
     "name": "stdout",
     "output_type": "stream",
     "text": [
      "Setup Complete\n"
     ]
    }
   ],
   "source": [
    "# Set up code checking\n",
    "import os\n",
    "if not os.path.exists(\"../input/train.csv\"):\n",
    "    os.symlink(\"../input/home-data-for-ml-course/train.csv\", \"../input/train.csv\")  \n",
    "    os.symlink(\"../input/home-data-for-ml-course/test.csv\", \"../input/test.csv\") \n",
    "from learntools.core import binder\n",
    "binder.bind(globals())\n",
    "from learntools.ml_intermediate.ex2 import *\n",
    "print(\"Setup Complete\")"
   ]
  },
  {
   "cell_type": "markdown",
   "id": "3732e8ec",
   "metadata": {
    "papermill": {
     "duration": 0.021956,
     "end_time": "2021-08-13T17:22:22.899297",
     "exception": false,
     "start_time": "2021-08-13T17:22:22.877341",
     "status": "completed"
    },
    "tags": []
   },
   "source": [
    "In this exercise, you will work with data from the [Housing Prices Competition for Kaggle Learn Users](https://www.kaggle.com/c/home-data-for-ml-course). \n",
    "\n",
    "![Ames Housing dataset image](https://i.imgur.com/lTJVG4e.png)\n",
    "\n",
    "Run the next code cell without changes to load the training and validation sets in `X_train`, `X_valid`, `y_train`, and `y_valid`.  The test set is loaded in `X_test`."
   ]
  },
  {
   "cell_type": "code",
   "execution_count": 2,
   "id": "dce524bc",
   "metadata": {
    "execution": {
     "iopub.execute_input": "2021-08-13T17:22:22.950953Z",
     "iopub.status.busy": "2021-08-13T17:22:22.950151Z",
     "iopub.status.idle": "2021-08-13T17:22:23.964380Z",
     "shell.execute_reply": "2021-08-13T17:22:23.963858Z",
     "shell.execute_reply.started": "2021-08-13T17:21:21.502043Z"
    },
    "papermill": {
     "duration": 1.042964,
     "end_time": "2021-08-13T17:22:23.964534",
     "exception": false,
     "start_time": "2021-08-13T17:22:22.921570",
     "status": "completed"
    },
    "tags": []
   },
   "outputs": [],
   "source": [
    "import pandas as pd\n",
    "from sklearn.model_selection import train_test_split\n",
    "\n",
    "# Read the data\n",
    "X_full = pd.read_csv('../input/train.csv', index_col='Id')\n",
    "X_test_full = pd.read_csv('../input/test.csv', index_col='Id')\n",
    "\n",
    "# Remove rows with missing target, separate target from predictors\n",
    "X_full.dropna(axis=0, subset=['SalePrice'], inplace=True)\n",
    "y = X_full.SalePrice\n",
    "X_full.drop(['SalePrice'], axis=1, inplace=True)\n",
    "\n",
    "# To keep things simple, we'll use only numerical predictors\n",
    "X = X_full.select_dtypes(exclude=['object'])\n",
    "X_test = X_test_full.select_dtypes(exclude=['object'])\n",
    "\n",
    "# Break off validation set from training data\n",
    "X_train, X_valid, y_train, y_valid = train_test_split(X, y, train_size=0.8, test_size=0.2,\n",
    "                                                      random_state=0)"
   ]
  },
  {
   "cell_type": "markdown",
   "id": "e5d37827",
   "metadata": {
    "papermill": {
     "duration": 0.022286,
     "end_time": "2021-08-13T17:22:24.008439",
     "exception": false,
     "start_time": "2021-08-13T17:22:23.986153",
     "status": "completed"
    },
    "tags": []
   },
   "source": [
    "Use the next code cell to print the first five rows of the data."
   ]
  },
  {
   "cell_type": "code",
   "execution_count": 3,
   "id": "675abe17",
   "metadata": {
    "execution": {
     "iopub.execute_input": "2021-08-13T17:22:24.061339Z",
     "iopub.status.busy": "2021-08-13T17:22:24.060501Z",
     "iopub.status.idle": "2021-08-13T17:22:24.085497Z",
     "shell.execute_reply": "2021-08-13T17:22:24.085044Z",
     "shell.execute_reply.started": "2021-08-13T17:21:24.092204Z"
    },
    "papermill": {
     "duration": 0.055293,
     "end_time": "2021-08-13T17:22:24.085627",
     "exception": false,
     "start_time": "2021-08-13T17:22:24.030334",
     "status": "completed"
    },
    "tags": []
   },
   "outputs": [
    {
     "data": {
      "text/html": [
       "<div>\n",
       "<style scoped>\n",
       "    .dataframe tbody tr th:only-of-type {\n",
       "        vertical-align: middle;\n",
       "    }\n",
       "\n",
       "    .dataframe tbody tr th {\n",
       "        vertical-align: top;\n",
       "    }\n",
       "\n",
       "    .dataframe thead th {\n",
       "        text-align: right;\n",
       "    }\n",
       "</style>\n",
       "<table border=\"1\" class=\"dataframe\">\n",
       "  <thead>\n",
       "    <tr style=\"text-align: right;\">\n",
       "      <th></th>\n",
       "      <th>MSSubClass</th>\n",
       "      <th>LotFrontage</th>\n",
       "      <th>LotArea</th>\n",
       "      <th>OverallQual</th>\n",
       "      <th>OverallCond</th>\n",
       "      <th>YearBuilt</th>\n",
       "      <th>YearRemodAdd</th>\n",
       "      <th>MasVnrArea</th>\n",
       "      <th>BsmtFinSF1</th>\n",
       "      <th>BsmtFinSF2</th>\n",
       "      <th>...</th>\n",
       "      <th>GarageArea</th>\n",
       "      <th>WoodDeckSF</th>\n",
       "      <th>OpenPorchSF</th>\n",
       "      <th>EnclosedPorch</th>\n",
       "      <th>3SsnPorch</th>\n",
       "      <th>ScreenPorch</th>\n",
       "      <th>PoolArea</th>\n",
       "      <th>MiscVal</th>\n",
       "      <th>MoSold</th>\n",
       "      <th>YrSold</th>\n",
       "    </tr>\n",
       "    <tr>\n",
       "      <th>Id</th>\n",
       "      <th></th>\n",
       "      <th></th>\n",
       "      <th></th>\n",
       "      <th></th>\n",
       "      <th></th>\n",
       "      <th></th>\n",
       "      <th></th>\n",
       "      <th></th>\n",
       "      <th></th>\n",
       "      <th></th>\n",
       "      <th></th>\n",
       "      <th></th>\n",
       "      <th></th>\n",
       "      <th></th>\n",
       "      <th></th>\n",
       "      <th></th>\n",
       "      <th></th>\n",
       "      <th></th>\n",
       "      <th></th>\n",
       "      <th></th>\n",
       "      <th></th>\n",
       "    </tr>\n",
       "  </thead>\n",
       "  <tbody>\n",
       "    <tr>\n",
       "      <th>619</th>\n",
       "      <td>20</td>\n",
       "      <td>90.0</td>\n",
       "      <td>11694</td>\n",
       "      <td>9</td>\n",
       "      <td>5</td>\n",
       "      <td>2007</td>\n",
       "      <td>2007</td>\n",
       "      <td>452.0</td>\n",
       "      <td>48</td>\n",
       "      <td>0</td>\n",
       "      <td>...</td>\n",
       "      <td>774</td>\n",
       "      <td>0</td>\n",
       "      <td>108</td>\n",
       "      <td>0</td>\n",
       "      <td>0</td>\n",
       "      <td>260</td>\n",
       "      <td>0</td>\n",
       "      <td>0</td>\n",
       "      <td>7</td>\n",
       "      <td>2007</td>\n",
       "    </tr>\n",
       "    <tr>\n",
       "      <th>871</th>\n",
       "      <td>20</td>\n",
       "      <td>60.0</td>\n",
       "      <td>6600</td>\n",
       "      <td>5</td>\n",
       "      <td>5</td>\n",
       "      <td>1962</td>\n",
       "      <td>1962</td>\n",
       "      <td>0.0</td>\n",
       "      <td>0</td>\n",
       "      <td>0</td>\n",
       "      <td>...</td>\n",
       "      <td>308</td>\n",
       "      <td>0</td>\n",
       "      <td>0</td>\n",
       "      <td>0</td>\n",
       "      <td>0</td>\n",
       "      <td>0</td>\n",
       "      <td>0</td>\n",
       "      <td>0</td>\n",
       "      <td>8</td>\n",
       "      <td>2009</td>\n",
       "    </tr>\n",
       "    <tr>\n",
       "      <th>93</th>\n",
       "      <td>30</td>\n",
       "      <td>80.0</td>\n",
       "      <td>13360</td>\n",
       "      <td>5</td>\n",
       "      <td>7</td>\n",
       "      <td>1921</td>\n",
       "      <td>2006</td>\n",
       "      <td>0.0</td>\n",
       "      <td>713</td>\n",
       "      <td>0</td>\n",
       "      <td>...</td>\n",
       "      <td>432</td>\n",
       "      <td>0</td>\n",
       "      <td>0</td>\n",
       "      <td>44</td>\n",
       "      <td>0</td>\n",
       "      <td>0</td>\n",
       "      <td>0</td>\n",
       "      <td>0</td>\n",
       "      <td>8</td>\n",
       "      <td>2009</td>\n",
       "    </tr>\n",
       "    <tr>\n",
       "      <th>818</th>\n",
       "      <td>20</td>\n",
       "      <td>NaN</td>\n",
       "      <td>13265</td>\n",
       "      <td>8</td>\n",
       "      <td>5</td>\n",
       "      <td>2002</td>\n",
       "      <td>2002</td>\n",
       "      <td>148.0</td>\n",
       "      <td>1218</td>\n",
       "      <td>0</td>\n",
       "      <td>...</td>\n",
       "      <td>857</td>\n",
       "      <td>150</td>\n",
       "      <td>59</td>\n",
       "      <td>0</td>\n",
       "      <td>0</td>\n",
       "      <td>0</td>\n",
       "      <td>0</td>\n",
       "      <td>0</td>\n",
       "      <td>7</td>\n",
       "      <td>2008</td>\n",
       "    </tr>\n",
       "    <tr>\n",
       "      <th>303</th>\n",
       "      <td>20</td>\n",
       "      <td>118.0</td>\n",
       "      <td>13704</td>\n",
       "      <td>7</td>\n",
       "      <td>5</td>\n",
       "      <td>2001</td>\n",
       "      <td>2002</td>\n",
       "      <td>150.0</td>\n",
       "      <td>0</td>\n",
       "      <td>0</td>\n",
       "      <td>...</td>\n",
       "      <td>843</td>\n",
       "      <td>468</td>\n",
       "      <td>81</td>\n",
       "      <td>0</td>\n",
       "      <td>0</td>\n",
       "      <td>0</td>\n",
       "      <td>0</td>\n",
       "      <td>0</td>\n",
       "      <td>1</td>\n",
       "      <td>2006</td>\n",
       "    </tr>\n",
       "  </tbody>\n",
       "</table>\n",
       "<p>5 rows × 36 columns</p>\n",
       "</div>"
      ],
      "text/plain": [
       "     MSSubClass  LotFrontage  LotArea  OverallQual  OverallCond  YearBuilt  \\\n",
       "Id                                                                           \n",
       "619          20         90.0    11694            9            5       2007   \n",
       "871          20         60.0     6600            5            5       1962   \n",
       "93           30         80.0    13360            5            7       1921   \n",
       "818          20          NaN    13265            8            5       2002   \n",
       "303          20        118.0    13704            7            5       2001   \n",
       "\n",
       "     YearRemodAdd  MasVnrArea  BsmtFinSF1  BsmtFinSF2  ...  GarageArea  \\\n",
       "Id                                                     ...               \n",
       "619          2007       452.0          48           0  ...         774   \n",
       "871          1962         0.0           0           0  ...         308   \n",
       "93           2006         0.0         713           0  ...         432   \n",
       "818          2002       148.0        1218           0  ...         857   \n",
       "303          2002       150.0           0           0  ...         843   \n",
       "\n",
       "     WoodDeckSF  OpenPorchSF  EnclosedPorch  3SsnPorch  ScreenPorch  PoolArea  \\\n",
       "Id                                                                              \n",
       "619           0          108              0          0          260         0   \n",
       "871           0            0              0          0            0         0   \n",
       "93            0            0             44          0            0         0   \n",
       "818         150           59              0          0            0         0   \n",
       "303         468           81              0          0            0         0   \n",
       "\n",
       "     MiscVal  MoSold  YrSold  \n",
       "Id                            \n",
       "619        0       7    2007  \n",
       "871        0       8    2009  \n",
       "93         0       8    2009  \n",
       "818        0       7    2008  \n",
       "303        0       1    2006  \n",
       "\n",
       "[5 rows x 36 columns]"
      ]
     },
     "execution_count": 3,
     "metadata": {},
     "output_type": "execute_result"
    }
   ],
   "source": [
    "X_train.head()"
   ]
  },
  {
   "cell_type": "markdown",
   "id": "a05f6510",
   "metadata": {
    "papermill": {
     "duration": 0.021893,
     "end_time": "2021-08-13T17:22:24.130273",
     "exception": false,
     "start_time": "2021-08-13T17:22:24.108380",
     "status": "completed"
    },
    "tags": []
   },
   "source": [
    "You can already see a few missing values in the first several rows.  In the next step, you'll obtain a more comprehensive understanding of the missing values in the dataset.\n",
    "\n",
    "# Step 1: Preliminary investigation\n",
    "\n",
    "Run the code cell below without changes."
   ]
  },
  {
   "cell_type": "code",
   "execution_count": 4,
   "id": "f0208843",
   "metadata": {
    "execution": {
     "iopub.execute_input": "2021-08-13T17:22:24.179652Z",
     "iopub.status.busy": "2021-08-13T17:22:24.178678Z",
     "iopub.status.idle": "2021-08-13T17:22:24.187592Z",
     "shell.execute_reply": "2021-08-13T17:22:24.188156Z",
     "shell.execute_reply.started": "2021-08-13T17:21:25.713471Z"
    },
    "papermill": {
     "duration": 0.034516,
     "end_time": "2021-08-13T17:22:24.188329",
     "exception": false,
     "start_time": "2021-08-13T17:22:24.153813",
     "status": "completed"
    },
    "tags": []
   },
   "outputs": [
    {
     "name": "stdout",
     "output_type": "stream",
     "text": [
      "(1168, 36)\n",
      "LotFrontage    212\n",
      "MasVnrArea       6\n",
      "GarageYrBlt     58\n",
      "dtype: int64\n"
     ]
    }
   ],
   "source": [
    "# Shape of training data (num_rows, num_columns)\n",
    "print(X_train.shape)\n",
    "\n",
    "# Number of missing values in each column of training data\n",
    "missing_val_count_by_column = (X_train.isnull().sum())\n",
    "print(missing_val_count_by_column[missing_val_count_by_column > 0])"
   ]
  },
  {
   "cell_type": "markdown",
   "id": "dd7efafe",
   "metadata": {
    "papermill": {
     "duration": 0.022601,
     "end_time": "2021-08-13T17:22:24.233651",
     "exception": false,
     "start_time": "2021-08-13T17:22:24.211050",
     "status": "completed"
    },
    "tags": []
   },
   "source": [
    "### Part A\n",
    "\n",
    "Use the above output to answer the questions below."
   ]
  },
  {
   "cell_type": "code",
   "execution_count": 5,
   "id": "1fa02a51",
   "metadata": {
    "execution": {
     "iopub.execute_input": "2021-08-13T17:22:24.282408Z",
     "iopub.status.busy": "2021-08-13T17:22:24.281494Z",
     "iopub.status.idle": "2021-08-13T17:22:24.289151Z",
     "shell.execute_reply": "2021-08-13T17:22:24.289538Z",
     "shell.execute_reply.started": "2021-08-13T17:21:26.713104Z"
    },
    "papermill": {
     "duration": 0.033309,
     "end_time": "2021-08-13T17:22:24.289697",
     "exception": false,
     "start_time": "2021-08-13T17:22:24.256388",
     "status": "completed"
    },
    "tags": []
   },
   "outputs": [
    {
     "data": {
      "application/javascript": [
       "parent.postMessage({\"jupyterEvent\": \"custom.exercise_interaction\", \"data\": {\"outcomeType\": 1, \"valueTowardsCompletion\": 1.0, \"interactionType\": 1, \"questionType\": 1, \"questionId\": \"1.1_InvestigateEquality\", \"learnToolsVersion\": \"0.3.4\", \"failureMessage\": \"\", \"exceptionClass\": \"\", \"trace\": \"\"}}, \"*\")"
      ],
      "text/plain": [
       "<IPython.core.display.Javascript object>"
      ]
     },
     "metadata": {},
     "output_type": "display_data"
    },
    {
     "data": {
      "text/markdown": [
       "<span style=\"color:#33cc33\">Correct</span>"
      ],
      "text/plain": [
       "Correct"
      ]
     },
     "metadata": {},
     "output_type": "display_data"
    }
   ],
   "source": [
    "# Fill in the line below: How many rows are in the training data?\n",
    "num_rows = 1168\n",
    "\n",
    "# Fill in the line below: How many columns in the training data\n",
    "# have missing values?\n",
    "num_cols_with_missing = 3\n",
    "\n",
    "# Fill in the line below: How many missing entries are contained in \n",
    "# all of the training data?\n",
    "tot_missing = 276\n",
    "\n",
    "# Check your answers\n",
    "step_1.a.check()"
   ]
  },
  {
   "cell_type": "code",
   "execution_count": 6,
   "id": "0eef8168",
   "metadata": {
    "execution": {
     "iopub.execute_input": "2021-08-13T17:22:24.346861Z",
     "iopub.status.busy": "2021-08-13T17:22:24.346020Z",
     "iopub.status.idle": "2021-08-13T17:22:24.350878Z",
     "shell.execute_reply": "2021-08-13T17:22:24.350188Z",
     "shell.execute_reply.started": "2021-08-13T17:21:27.244675Z"
    },
    "papermill": {
     "duration": 0.035818,
     "end_time": "2021-08-13T17:22:24.351078",
     "exception": false,
     "start_time": "2021-08-13T17:22:24.315260",
     "status": "completed"
    },
    "tags": []
   },
   "outputs": [],
   "source": [
    "# Lines below will give you a hint or solution code\n",
    "#step_1.a.hint()\n",
    "#step_1.a.solution()"
   ]
  },
  {
   "cell_type": "markdown",
   "id": "a187767b",
   "metadata": {
    "papermill": {
     "duration": 0.023276,
     "end_time": "2021-08-13T17:22:24.404185",
     "exception": false,
     "start_time": "2021-08-13T17:22:24.380909",
     "status": "completed"
    },
    "tags": []
   },
   "source": [
    "### Part B\n",
    "Considering your answers above, what do you think is likely the best approach to dealing with the missing values?"
   ]
  },
  {
   "cell_type": "code",
   "execution_count": 7,
   "id": "7a4206e1",
   "metadata": {
    "execution": {
     "iopub.execute_input": "2021-08-13T17:22:24.456381Z",
     "iopub.status.busy": "2021-08-13T17:22:24.455801Z",
     "iopub.status.idle": "2021-08-13T17:22:24.461330Z",
     "shell.execute_reply": "2021-08-13T17:22:24.461848Z",
     "shell.execute_reply.started": "2021-08-13T17:21:28.575167Z"
    },
    "papermill": {
     "duration": 0.033317,
     "end_time": "2021-08-13T17:22:24.462017",
     "exception": false,
     "start_time": "2021-08-13T17:22:24.428700",
     "status": "completed"
    },
    "tags": []
   },
   "outputs": [
    {
     "data": {
      "application/javascript": [
       "parent.postMessage({\"jupyterEvent\": \"custom.exercise_interaction\", \"data\": {\"outcomeType\": 1, \"valueTowardsCompletion\": 1.0, \"interactionType\": 1, \"questionType\": 4, \"questionId\": \"1.2_InvestigateThought\", \"learnToolsVersion\": \"0.3.4\", \"failureMessage\": \"\", \"exceptionClass\": \"\", \"trace\": \"\"}}, \"*\")"
      ],
      "text/plain": [
       "<IPython.core.display.Javascript object>"
      ]
     },
     "metadata": {},
     "output_type": "display_data"
    },
    {
     "data": {
      "text/markdown": [
       "<span style=\"color:#33cc33\">Correct:</span> \n",
       "\n",
       "Since there are relatively few missing entries in the data (the column with the greatest percentage of missing values is missing less than 20% of its entries), we can expect that dropping columns is unlikely to yield good results.  This is because we'd be throwing away a lot of valuable data, and so imputation will likely perform better."
      ],
      "text/plain": [
       "Correct: \n",
       "\n",
       "Since there are relatively few missing entries in the data (the column with the greatest percentage of missing values is missing less than 20% of its entries), we can expect that dropping columns is unlikely to yield good results.  This is because we'd be throwing away a lot of valuable data, and so imputation will likely perform better."
      ]
     },
     "metadata": {},
     "output_type": "display_data"
    }
   ],
   "source": [
    "# Check your answer (Run this code cell to receive credit!)\n",
    "step_1.b.check()"
   ]
  },
  {
   "cell_type": "code",
   "execution_count": 8,
   "id": "fd24dc58",
   "metadata": {
    "execution": {
     "iopub.execute_input": "2021-08-13T17:22:24.512718Z",
     "iopub.status.busy": "2021-08-13T17:22:24.512162Z",
     "iopub.status.idle": "2021-08-13T17:22:24.515802Z",
     "shell.execute_reply": "2021-08-13T17:22:24.516280Z",
     "shell.execute_reply.started": "2021-08-13T17:21:29.158945Z"
    },
    "papermill": {
     "duration": 0.03033,
     "end_time": "2021-08-13T17:22:24.516443",
     "exception": false,
     "start_time": "2021-08-13T17:22:24.486113",
     "status": "completed"
    },
    "tags": []
   },
   "outputs": [],
   "source": [
    "#step_1.b.hint()"
   ]
  },
  {
   "cell_type": "markdown",
   "id": "fa7af17e",
   "metadata": {
    "papermill": {
     "duration": 0.023562,
     "end_time": "2021-08-13T17:22:24.564040",
     "exception": false,
     "start_time": "2021-08-13T17:22:24.540478",
     "status": "completed"
    },
    "tags": []
   },
   "source": [
    "To compare different approaches to dealing with missing values, you'll use the same `score_dataset()` function from the tutorial.  This function reports the [mean absolute error](https://en.wikipedia.org/wiki/Mean_absolute_error) (MAE) from a random forest model."
   ]
  },
  {
   "cell_type": "code",
   "execution_count": 9,
   "id": "349846a0",
   "metadata": {
    "execution": {
     "iopub.execute_input": "2021-08-13T17:22:24.614777Z",
     "iopub.status.busy": "2021-08-13T17:22:24.614239Z",
     "iopub.status.idle": "2021-08-13T17:22:24.800061Z",
     "shell.execute_reply": "2021-08-13T17:22:24.800560Z",
     "shell.execute_reply.started": "2021-08-13T17:21:30.178188Z"
    },
    "papermill": {
     "duration": 0.212575,
     "end_time": "2021-08-13T17:22:24.800728",
     "exception": false,
     "start_time": "2021-08-13T17:22:24.588153",
     "status": "completed"
    },
    "tags": []
   },
   "outputs": [],
   "source": [
    "from sklearn.ensemble import RandomForestRegressor\n",
    "from sklearn.metrics import mean_absolute_error\n",
    "\n",
    "# Function for comparing different approaches\n",
    "def score_dataset(X_train, X_valid, y_train, y_valid):\n",
    "    model = RandomForestRegressor(n_estimators=100, random_state=0)\n",
    "    model.fit(X_train, y_train)\n",
    "    preds = model.predict(X_valid)\n",
    "    return mean_absolute_error(y_valid, preds)"
   ]
  },
  {
   "cell_type": "markdown",
   "id": "cf2d3787",
   "metadata": {
    "papermill": {
     "duration": 0.035989,
     "end_time": "2021-08-13T17:22:24.860872",
     "exception": false,
     "start_time": "2021-08-13T17:22:24.824883",
     "status": "completed"
    },
    "tags": []
   },
   "source": [
    "# Step 2: Drop columns with missing values\n",
    "\n",
    "In this step, you'll preprocess the data in `X_train` and `X_valid` to remove columns with missing values.  Set the preprocessed DataFrames to `reduced_X_train` and `reduced_X_valid`, respectively.  "
   ]
  },
  {
   "cell_type": "code",
   "execution_count": 10,
   "id": "e727e921",
   "metadata": {
    "execution": {
     "iopub.execute_input": "2021-08-13T17:22:24.917500Z",
     "iopub.status.busy": "2021-08-13T17:22:24.916909Z",
     "iopub.status.idle": "2021-08-13T17:22:24.947091Z",
     "shell.execute_reply": "2021-08-13T17:22:24.947557Z",
     "shell.execute_reply.started": "2021-08-13T17:21:31.532405Z"
    },
    "papermill": {
     "duration": 0.057718,
     "end_time": "2021-08-13T17:22:24.947711",
     "exception": false,
     "start_time": "2021-08-13T17:22:24.889993",
     "status": "completed"
    },
    "tags": []
   },
   "outputs": [
    {
     "data": {
      "application/javascript": [
       "parent.postMessage({\"jupyterEvent\": \"custom.exercise_interaction\", \"data\": {\"outcomeType\": 1, \"valueTowardsCompletion\": 1.0, \"interactionType\": 1, \"questionType\": 2, \"questionId\": \"2_DropMissing\", \"learnToolsVersion\": \"0.3.4\", \"failureMessage\": \"\", \"exceptionClass\": \"\", \"trace\": \"\"}}, \"*\")"
      ],
      "text/plain": [
       "<IPython.core.display.Javascript object>"
      ]
     },
     "metadata": {},
     "output_type": "display_data"
    },
    {
     "data": {
      "text/markdown": [
       "<span style=\"color:#33cc33\">Correct</span>"
      ],
      "text/plain": [
       "Correct"
      ]
     },
     "metadata": {},
     "output_type": "display_data"
    }
   ],
   "source": [
    "# Fill in the line below: get names of columns with missing values\n",
    "# Your code here\n",
    "X_train_missing = [column for column in X_train.columns if X_train[column].isnull().any()]\n",
    "\n",
    "# Fill in the lines below: drop columns in training and validation data\n",
    "reduced_X_train = X_train.drop(X_train_missing, axis = 1)\n",
    "reduced_X_valid = X_valid.drop(X_train_missing, axis = 1)\n",
    "# Check your answers\n",
    "step_2.check()"
   ]
  },
  {
   "cell_type": "code",
   "execution_count": 11,
   "id": "309ecb1b",
   "metadata": {
    "execution": {
     "iopub.execute_input": "2021-08-13T17:22:24.999984Z",
     "iopub.status.busy": "2021-08-13T17:22:24.999408Z",
     "iopub.status.idle": "2021-08-13T17:22:25.002322Z",
     "shell.execute_reply": "2021-08-13T17:22:25.002786Z",
     "shell.execute_reply.started": "2021-08-13T17:21:32.121285Z"
    },
    "papermill": {
     "duration": 0.030636,
     "end_time": "2021-08-13T17:22:25.002983",
     "exception": false,
     "start_time": "2021-08-13T17:22:24.972347",
     "status": "completed"
    },
    "tags": []
   },
   "outputs": [],
   "source": [
    "# Lines below will give you a hint or solution code\n",
    "#step_2.hint()\n",
    "#step_2.solution()"
   ]
  },
  {
   "cell_type": "markdown",
   "id": "2dbe3775",
   "metadata": {
    "papermill": {
     "duration": 0.0245,
     "end_time": "2021-08-13T17:22:25.052324",
     "exception": false,
     "start_time": "2021-08-13T17:22:25.027824",
     "status": "completed"
    },
    "tags": []
   },
   "source": [
    "Run the next code cell without changes to obtain the MAE for this approach."
   ]
  },
  {
   "cell_type": "code",
   "execution_count": 12,
   "id": "64821b56",
   "metadata": {
    "execution": {
     "iopub.execute_input": "2021-08-13T17:22:25.104605Z",
     "iopub.status.busy": "2021-08-13T17:22:25.104004Z",
     "iopub.status.idle": "2021-08-13T17:22:26.322417Z",
     "shell.execute_reply": "2021-08-13T17:22:26.321856Z",
     "shell.execute_reply.started": "2021-08-13T17:21:33.360433Z"
    },
    "papermill": {
     "duration": 1.245468,
     "end_time": "2021-08-13T17:22:26.322551",
     "exception": false,
     "start_time": "2021-08-13T17:22:25.077083",
     "status": "completed"
    },
    "tags": []
   },
   "outputs": [
    {
     "name": "stdout",
     "output_type": "stream",
     "text": [
      "MAE (Drop columns with missing values):\n",
      "17837.82570776256\n"
     ]
    }
   ],
   "source": [
    "print(\"MAE (Drop columns with missing values):\")\n",
    "print(score_dataset(reduced_X_train, reduced_X_valid, y_train, y_valid))"
   ]
  },
  {
   "cell_type": "markdown",
   "id": "bcb4a153",
   "metadata": {
    "papermill": {
     "duration": 0.02502,
     "end_time": "2021-08-13T17:22:26.372999",
     "exception": false,
     "start_time": "2021-08-13T17:22:26.347979",
     "status": "completed"
    },
    "tags": []
   },
   "source": [
    "# Step 3: Imputation\n",
    "\n",
    "### Part A\n",
    "\n",
    "Use the next code cell to impute missing values with the mean value along each column.  Set the preprocessed DataFrames to `imputed_X_train` and `imputed_X_valid`.  Make sure that the column names match those in `X_train` and `X_valid`."
   ]
  },
  {
   "cell_type": "code",
   "execution_count": 13,
   "id": "18de4ff1",
   "metadata": {
    "execution": {
     "iopub.execute_input": "2021-08-13T17:22:26.429745Z",
     "iopub.status.busy": "2021-08-13T17:22:26.429128Z",
     "iopub.status.idle": "2021-08-13T17:22:26.460524Z",
     "shell.execute_reply": "2021-08-13T17:22:26.459947Z",
     "shell.execute_reply.started": "2021-08-13T17:21:35.403735Z"
    },
    "papermill": {
     "duration": 0.061161,
     "end_time": "2021-08-13T17:22:26.460662",
     "exception": false,
     "start_time": "2021-08-13T17:22:26.399501",
     "status": "completed"
    },
    "tags": []
   },
   "outputs": [
    {
     "data": {
      "application/javascript": [
       "parent.postMessage({\"jupyterEvent\": \"custom.exercise_interaction\", \"data\": {\"outcomeType\": 1, \"valueTowardsCompletion\": 1.0, \"interactionType\": 1, \"questionType\": 2, \"questionId\": \"3.1_ImputeCode\", \"learnToolsVersion\": \"0.3.4\", \"failureMessage\": \"\", \"exceptionClass\": \"\", \"trace\": \"\"}}, \"*\")"
      ],
      "text/plain": [
       "<IPython.core.display.Javascript object>"
      ]
     },
     "metadata": {},
     "output_type": "display_data"
    },
    {
     "data": {
      "text/markdown": [
       "<span style=\"color:#33cc33\">Correct</span>"
      ],
      "text/plain": [
       "Correct"
      ]
     },
     "metadata": {},
     "output_type": "display_data"
    }
   ],
   "source": [
    "from sklearn.impute import SimpleImputer\n",
    "\n",
    "# Fill in the lines below: imputation\n",
    "# Your code here\n",
    "my_imputer = SimpleImputer()\n",
    "\n",
    "imputed_X_train = pd.DataFrame(my_imputer.fit_transform(X_train))\n",
    "imputed_X_valid = pd.DataFrame(my_imputer.transform(X_valid))\n",
    "\n",
    "# Fill in the lines below: imputation removed column names; put them back\n",
    "imputed_X_train.columns = X_train.columns\n",
    "imputed_X_valid.columns = X_valid.columns\n",
    "\n",
    "# Check your answers\n",
    "step_3.a.check()"
   ]
  },
  {
   "cell_type": "code",
   "execution_count": 14,
   "id": "44b8b6e0",
   "metadata": {
    "execution": {
     "iopub.execute_input": "2021-08-13T17:22:26.522615Z",
     "iopub.status.busy": "2021-08-13T17:22:26.520087Z",
     "iopub.status.idle": "2021-08-13T17:22:26.526455Z",
     "shell.execute_reply": "2021-08-13T17:22:26.526906Z",
     "shell.execute_reply.started": "2021-08-13T17:21:36.211474Z"
    },
    "papermill": {
     "duration": 0.040345,
     "end_time": "2021-08-13T17:22:26.527099",
     "exception": false,
     "start_time": "2021-08-13T17:22:26.486754",
     "status": "completed"
    },
    "tags": []
   },
   "outputs": [
    {
     "data": {
      "text/plain": [
       "MSSubClass         0\n",
       "LotFrontage      212\n",
       "LotArea            0\n",
       "OverallQual        0\n",
       "OverallCond        0\n",
       "YearBuilt          0\n",
       "YearRemodAdd       0\n",
       "MasVnrArea         6\n",
       "BsmtFinSF1         0\n",
       "BsmtFinSF2         0\n",
       "BsmtUnfSF          0\n",
       "TotalBsmtSF        0\n",
       "1stFlrSF           0\n",
       "2ndFlrSF           0\n",
       "LowQualFinSF       0\n",
       "GrLivArea          0\n",
       "BsmtFullBath       0\n",
       "BsmtHalfBath       0\n",
       "FullBath           0\n",
       "HalfBath           0\n",
       "BedroomAbvGr       0\n",
       "KitchenAbvGr       0\n",
       "TotRmsAbvGrd       0\n",
       "Fireplaces         0\n",
       "GarageYrBlt       58\n",
       "GarageCars         0\n",
       "GarageArea         0\n",
       "WoodDeckSF         0\n",
       "OpenPorchSF        0\n",
       "EnclosedPorch      0\n",
       "3SsnPorch          0\n",
       "ScreenPorch        0\n",
       "PoolArea           0\n",
       "MiscVal            0\n",
       "MoSold             0\n",
       "YrSold             0\n",
       "dtype: int64"
      ]
     },
     "execution_count": 14,
     "metadata": {},
     "output_type": "execute_result"
    }
   ],
   "source": [
    "X_train.isnull().sum()"
   ]
  },
  {
   "cell_type": "code",
   "execution_count": 15,
   "id": "70b231a1",
   "metadata": {
    "execution": {
     "iopub.execute_input": "2021-08-13T17:22:26.582870Z",
     "iopub.status.busy": "2021-08-13T17:22:26.582244Z",
     "iopub.status.idle": "2021-08-13T17:22:26.585066Z",
     "shell.execute_reply": "2021-08-13T17:22:26.585535Z",
     "shell.execute_reply.started": "2021-08-13T17:21:36.902438Z"
    },
    "papermill": {
     "duration": 0.032136,
     "end_time": "2021-08-13T17:22:26.585697",
     "exception": false,
     "start_time": "2021-08-13T17:22:26.553561",
     "status": "completed"
    },
    "tags": []
   },
   "outputs": [],
   "source": [
    "# Lines below will give you a hint or solution code\n",
    "#step_3.a.hint()\n",
    "#step_3.a.solution()"
   ]
  },
  {
   "cell_type": "markdown",
   "id": "fe256fef",
   "metadata": {
    "papermill": {
     "duration": 0.02831,
     "end_time": "2021-08-13T17:22:26.641012",
     "exception": false,
     "start_time": "2021-08-13T17:22:26.612702",
     "status": "completed"
    },
    "tags": []
   },
   "source": [
    "Run the next code cell without changes to obtain the MAE for this approach."
   ]
  },
  {
   "cell_type": "code",
   "execution_count": 16,
   "id": "33fd8950",
   "metadata": {
    "execution": {
     "iopub.execute_input": "2021-08-13T17:22:26.698299Z",
     "iopub.status.busy": "2021-08-13T17:22:26.697673Z",
     "iopub.status.idle": "2021-08-13T17:22:28.019014Z",
     "shell.execute_reply": "2021-08-13T17:22:28.019631Z",
     "shell.execute_reply.started": "2021-08-13T17:21:38.482953Z"
    },
    "papermill": {
     "duration": 1.351436,
     "end_time": "2021-08-13T17:22:28.019831",
     "exception": false,
     "start_time": "2021-08-13T17:22:26.668395",
     "status": "completed"
    },
    "tags": []
   },
   "outputs": [
    {
     "name": "stdout",
     "output_type": "stream",
     "text": [
      "MAE (Imputation):\n",
      "18062.894611872147\n"
     ]
    }
   ],
   "source": [
    "print(\"MAE (Imputation):\")\n",
    "print(score_dataset(imputed_X_train, imputed_X_valid, y_train, y_valid))"
   ]
  },
  {
   "cell_type": "markdown",
   "id": "2bd543cc",
   "metadata": {
    "papermill": {
     "duration": 0.027039,
     "end_time": "2021-08-13T17:22:28.074152",
     "exception": false,
     "start_time": "2021-08-13T17:22:28.047113",
     "status": "completed"
    },
    "tags": []
   },
   "source": [
    "### Part B\n",
    "\n",
    "Compare the MAE from each approach.  Does anything surprise you about the results?  Why do you think one approach performed better than the other?"
   ]
  },
  {
   "cell_type": "code",
   "execution_count": 17,
   "id": "5ad66e81",
   "metadata": {
    "execution": {
     "iopub.execute_input": "2021-08-13T17:22:28.132196Z",
     "iopub.status.busy": "2021-08-13T17:22:28.131567Z",
     "iopub.status.idle": "2021-08-13T17:22:28.137239Z",
     "shell.execute_reply": "2021-08-13T17:22:28.137705Z",
     "shell.execute_reply.started": "2021-08-13T17:21:41.619162Z"
    },
    "papermill": {
     "duration": 0.036172,
     "end_time": "2021-08-13T17:22:28.137868",
     "exception": false,
     "start_time": "2021-08-13T17:22:28.101696",
     "status": "completed"
    },
    "tags": []
   },
   "outputs": [
    {
     "data": {
      "application/javascript": [
       "parent.postMessage({\"jupyterEvent\": \"custom.exercise_interaction\", \"data\": {\"outcomeType\": 1, \"valueTowardsCompletion\": 1.0, \"interactionType\": 1, \"questionType\": 4, \"questionId\": \"3.2_ImputeThought\", \"learnToolsVersion\": \"0.3.4\", \"failureMessage\": \"\", \"exceptionClass\": \"\", \"trace\": \"\"}}, \"*\")"
      ],
      "text/plain": [
       "<IPython.core.display.Javascript object>"
      ]
     },
     "metadata": {},
     "output_type": "display_data"
    },
    {
     "data": {
      "text/markdown": [
       "<span style=\"color:#33cc33\">Correct:</span> \n",
       "\n",
       "Given that thre are so few missing values in the dataset, we'd expect imputation to perform better than dropping columns entirely.  However, we see that dropping columns performs slightly better!  While this can probably partially be attributed to noise in the dataset, another potential explanation is that the imputation method is not a great match to this dataset.  That is, maybe instead of filling in the mean value, it makes more sense to set every missing value to a value of 0, to fill in the most frequently encountered value, or to use some other method.  For instance, consider the `GarageYrBlt` column (which indicates the year that the garage was built).  It's likely that in some cases, a missing value could indicate a house that does not have a garage.  Does it make more sense to fill in the median value along each column in this case?  Or could we get better results by filling in the minimum value along each column?  It's not quite clear what's best in this case, but perhaps we can rule out some options immediately - for instance, setting missing values in this column to 0 is likely to yield horrible results!"
      ],
      "text/plain": [
       "Correct: \n",
       "\n",
       "Given that thre are so few missing values in the dataset, we'd expect imputation to perform better than dropping columns entirely.  However, we see that dropping columns performs slightly better!  While this can probably partially be attributed to noise in the dataset, another potential explanation is that the imputation method is not a great match to this dataset.  That is, maybe instead of filling in the mean value, it makes more sense to set every missing value to a value of 0, to fill in the most frequently encountered value, or to use some other method.  For instance, consider the `GarageYrBlt` column (which indicates the year that the garage was built).  It's likely that in some cases, a missing value could indicate a house that does not have a garage.  Does it make more sense to fill in the median value along each column in this case?  Or could we get better results by filling in the minimum value along each column?  It's not quite clear what's best in this case, but perhaps we can rule out some options immediately - for instance, setting missing values in this column to 0 is likely to yield horrible results!"
      ]
     },
     "metadata": {},
     "output_type": "display_data"
    }
   ],
   "source": [
    "# Check your answer (Run this code cell to receive credit!)\n",
    "step_3.b.check()"
   ]
  },
  {
   "cell_type": "code",
   "execution_count": 18,
   "id": "8eca7e69",
   "metadata": {
    "execution": {
     "iopub.execute_input": "2021-08-13T17:22:28.197029Z",
     "iopub.status.busy": "2021-08-13T17:22:28.196370Z",
     "iopub.status.idle": "2021-08-13T17:22:28.199340Z",
     "shell.execute_reply": "2021-08-13T17:22:28.199759Z",
     "shell.execute_reply.started": "2021-08-13T17:21:42.551772Z"
    },
    "papermill": {
     "duration": 0.033772,
     "end_time": "2021-08-13T17:22:28.199950",
     "exception": false,
     "start_time": "2021-08-13T17:22:28.166178",
     "status": "completed"
    },
    "tags": []
   },
   "outputs": [],
   "source": [
    "#step_3.b.hint()"
   ]
  },
  {
   "cell_type": "markdown",
   "id": "0720ce55",
   "metadata": {
    "papermill": {
     "duration": 0.027583,
     "end_time": "2021-08-13T17:22:28.255625",
     "exception": false,
     "start_time": "2021-08-13T17:22:28.228042",
     "status": "completed"
    },
    "tags": []
   },
   "source": [
    "# Step 4: Generate test predictions\n",
    "\n",
    "In this final step, you'll use any approach of your choosing to deal with missing values.  Once you've preprocessed the training and validation features, you'll train and evaluate a random forest model.  Then, you'll preprocess the test data before generating predictions that can be submitted to the competition!\n",
    "\n",
    "### Part A\n",
    "\n",
    "Use the next code cell to preprocess the training and validation data.  Set the preprocessed DataFrames to `final_X_train` and `final_X_valid`.  **You can use any approach of your choosing here!**  in order for this step to be marked as correct, you need only ensure:\n",
    "- the preprocessed DataFrames have the same number of columns,\n",
    "- the preprocessed DataFrames have no missing values, \n",
    "- `final_X_train` and `y_train` have the same number of rows, and\n",
    "- `final_X_valid` and `y_valid` have the same number of rows."
   ]
  },
  {
   "cell_type": "code",
   "execution_count": 19,
   "id": "587e75d4",
   "metadata": {
    "execution": {
     "iopub.execute_input": "2021-08-13T17:22:28.314160Z",
     "iopub.status.busy": "2021-08-13T17:22:28.313554Z",
     "iopub.status.idle": "2021-08-13T17:22:28.340893Z",
     "shell.execute_reply": "2021-08-13T17:22:28.341345Z",
     "shell.execute_reply.started": "2021-08-13T17:21:44.240635Z"
    },
    "papermill": {
     "duration": 0.057843,
     "end_time": "2021-08-13T17:22:28.341511",
     "exception": false,
     "start_time": "2021-08-13T17:22:28.283668",
     "status": "completed"
    },
    "tags": []
   },
   "outputs": [
    {
     "data": {
      "application/javascript": [
       "parent.postMessage({\"jupyterEvent\": \"custom.exercise_interaction\", \"data\": {\"outcomeType\": 1, \"valueTowardsCompletion\": 1.0, \"interactionType\": 1, \"questionType\": 2, \"questionId\": \"4.1_PredsCodeA\", \"learnToolsVersion\": \"0.3.4\", \"failureMessage\": \"\", \"exceptionClass\": \"\", \"trace\": \"\"}}, \"*\")"
      ],
      "text/plain": [
       "<IPython.core.display.Javascript object>"
      ]
     },
     "metadata": {},
     "output_type": "display_data"
    },
    {
     "data": {
      "text/markdown": [
       "<span style=\"color:#33cc33\">Correct</span>"
      ],
      "text/plain": [
       "Correct"
      ]
     },
     "metadata": {},
     "output_type": "display_data"
    }
   ],
   "source": [
    "# Preprocessed training and validation features\n",
    "my_imputer = SimpleImputer(strategy = \"median\")\n",
    "final_X_train = pd.DataFrame(my_imputer.fit_transform(X_train))\n",
    "final_X_valid = pd.DataFrame(my_imputer.transform(X_valid))\n",
    "final_X_train.columns = X_train.columns\n",
    "final_X_valid.columns = X_valid.columns\n",
    "\n",
    "# Check your answers\n",
    "step_4.a.check()"
   ]
  },
  {
   "cell_type": "code",
   "execution_count": 20,
   "id": "54cdf9af",
   "metadata": {
    "execution": {
     "iopub.execute_input": "2021-08-13T17:22:28.402014Z",
     "iopub.status.busy": "2021-08-13T17:22:28.401424Z",
     "iopub.status.idle": "2021-08-13T17:22:28.406858Z",
     "shell.execute_reply": "2021-08-13T17:22:28.407303Z",
     "shell.execute_reply.started": "2021-08-13T17:21:45.390923Z"
    },
    "papermill": {
     "duration": 0.037382,
     "end_time": "2021-08-13T17:22:28.407459",
     "exception": false,
     "start_time": "2021-08-13T17:22:28.370077",
     "status": "completed"
    },
    "tags": []
   },
   "outputs": [
    {
     "data": {
      "application/javascript": [
       "parent.postMessage({\"jupyterEvent\": \"custom.exercise_interaction\", \"data\": {\"interactionType\": 2, \"questionType\": 2, \"questionId\": \"4.1_PredsCodeA\", \"learnToolsVersion\": \"0.3.4\", \"valueTowardsCompletion\": 0.0, \"failureMessage\": \"\", \"exceptionClass\": \"\", \"trace\": \"\", \"outcomeType\": 4}}, \"*\")"
      ],
      "text/plain": [
       "<IPython.core.display.Javascript object>"
      ]
     },
     "metadata": {},
     "output_type": "display_data"
    },
    {
     "data": {
      "text/markdown": [
       "<span style=\"color:#3366cc\">Hint:</span> Use any approach of your choosing to deal with missing values in the data.  For inspiration, check out the code from the tutorial!"
      ],
      "text/plain": [
       "Hint: Use any approach of your choosing to deal with missing values in the data.  For inspiration, check out the code from the tutorial!"
      ]
     },
     "metadata": {},
     "output_type": "display_data"
    }
   ],
   "source": [
    "# Lines below will give you a hint or solution code\n",
    "step_4.a.hint()\n",
    "#step_4.a.solution()"
   ]
  },
  {
   "cell_type": "markdown",
   "id": "4384d600",
   "metadata": {
    "papermill": {
     "duration": 0.028655,
     "end_time": "2021-08-13T17:22:28.465109",
     "exception": false,
     "start_time": "2021-08-13T17:22:28.436454",
     "status": "completed"
    },
    "tags": []
   },
   "source": [
    "Run the next code cell to train and evaluate a random forest model.  (*Note that we don't use the `score_dataset()` function above, because we will soon use the trained model to generate test predictions!*)"
   ]
  },
  {
   "cell_type": "code",
   "execution_count": 21,
   "id": "b43e7ea2",
   "metadata": {
    "execution": {
     "iopub.execute_input": "2021-08-13T17:22:28.525343Z",
     "iopub.status.busy": "2021-08-13T17:22:28.524743Z",
     "iopub.status.idle": "2021-08-13T17:22:29.841709Z",
     "shell.execute_reply": "2021-08-13T17:22:29.841134Z",
     "shell.execute_reply.started": "2021-08-13T17:21:47.449292Z"
    },
    "papermill": {
     "duration": 1.348175,
     "end_time": "2021-08-13T17:22:29.841841",
     "exception": false,
     "start_time": "2021-08-13T17:22:28.493666",
     "status": "completed"
    },
    "tags": []
   },
   "outputs": [
    {
     "name": "stdout",
     "output_type": "stream",
     "text": [
      "MAE (Your approach):\n",
      "17791.59899543379\n"
     ]
    }
   ],
   "source": [
    "# Define and fit model\n",
    "model = RandomForestRegressor(n_estimators=100, random_state=0)\n",
    "model.fit(final_X_train, y_train)\n",
    "\n",
    "# Get validation predictions and MAE\n",
    "preds_valid = model.predict(final_X_valid)\n",
    "print(\"MAE (Your approach):\")\n",
    "print(mean_absolute_error(y_valid, preds_valid))"
   ]
  },
  {
   "cell_type": "markdown",
   "id": "9ef8a3fe",
   "metadata": {
    "papermill": {
     "duration": 0.029033,
     "end_time": "2021-08-13T17:22:29.900134",
     "exception": false,
     "start_time": "2021-08-13T17:22:29.871101",
     "status": "completed"
    },
    "tags": []
   },
   "source": [
    "### Part B\n",
    "\n",
    "Use the next code cell to preprocess your test data.  Make sure that you use a method that agrees with how you preprocessed the training and validation data, and set the preprocessed test features to `final_X_test`.\n",
    "\n",
    "Then, use the preprocessed test features and the trained model to generate test predictions in `preds_test`.\n",
    "\n",
    "In order for this step to be marked correct, you need only ensure:\n",
    "- the preprocessed test DataFrame has no missing values, and\n",
    "- `final_X_test` has the same number of rows as `X_test`."
   ]
  },
  {
   "cell_type": "code",
   "execution_count": 22,
   "id": "51100e1f",
   "metadata": {
    "execution": {
     "iopub.execute_input": "2021-08-13T17:22:29.965851Z",
     "iopub.status.busy": "2021-08-13T17:22:29.965242Z",
     "iopub.status.idle": "2021-08-13T17:22:30.009428Z",
     "shell.execute_reply": "2021-08-13T17:22:30.008980Z",
     "shell.execute_reply.started": "2021-08-13T17:21:50.744204Z"
    },
    "papermill": {
     "duration": 0.080042,
     "end_time": "2021-08-13T17:22:30.009556",
     "exception": false,
     "start_time": "2021-08-13T17:22:29.929514",
     "status": "completed"
    },
    "tags": []
   },
   "outputs": [
    {
     "data": {
      "application/javascript": [
       "parent.postMessage({\"jupyterEvent\": \"custom.exercise_interaction\", \"data\": {\"outcomeType\": 1, \"valueTowardsCompletion\": 1.0, \"interactionType\": 1, \"questionType\": 2, \"questionId\": \"4.2_PredsCodeB\", \"learnToolsVersion\": \"0.3.4\", \"failureMessage\": \"\", \"exceptionClass\": \"\", \"trace\": \"\"}}, \"*\")"
      ],
      "text/plain": [
       "<IPython.core.display.Javascript object>"
      ]
     },
     "metadata": {},
     "output_type": "display_data"
    },
    {
     "data": {
      "text/markdown": [
       "<span style=\"color:#33cc33\">Correct</span>"
      ],
      "text/plain": [
       "Correct"
      ]
     },
     "metadata": {},
     "output_type": "display_data"
    }
   ],
   "source": [
    "# Fill in the line below: preprocess test data\n",
    "final_X_test = pd.DataFrame(my_imputer.transform(X_test))\n",
    "\n",
    "# Fill in the line below: get test predictions\n",
    "preds_test = model.predict(final_X_test)\n",
    "\n",
    "# Check your answers\n",
    "step_4.b.check()"
   ]
  },
  {
   "cell_type": "code",
   "execution_count": 23,
   "id": "f625d927",
   "metadata": {
    "execution": {
     "iopub.execute_input": "2021-08-13T17:22:30.074978Z",
     "iopub.status.busy": "2021-08-13T17:22:30.074351Z",
     "iopub.status.idle": "2021-08-13T17:22:30.076187Z",
     "shell.execute_reply": "2021-08-13T17:22:30.076590Z",
     "shell.execute_reply.started": "2021-08-13T17:21:51.520764Z"
    },
    "papermill": {
     "duration": 0.036123,
     "end_time": "2021-08-13T17:22:30.076753",
     "exception": false,
     "start_time": "2021-08-13T17:22:30.040630",
     "status": "completed"
    },
    "tags": []
   },
   "outputs": [],
   "source": [
    "# Lines below will give you a hint or solution code\n",
    "#step_4.b.hint()\n",
    "#step_4.b.solution()"
   ]
  },
  {
   "cell_type": "markdown",
   "id": "f3dce46a",
   "metadata": {
    "papermill": {
     "duration": 0.030104,
     "end_time": "2021-08-13T17:22:30.137261",
     "exception": false,
     "start_time": "2021-08-13T17:22:30.107157",
     "status": "completed"
    },
    "tags": []
   },
   "source": [
    "Run the next code cell without changes to save your results to a CSV file that can be submitted directly to the competition."
   ]
  },
  {
   "cell_type": "code",
   "execution_count": 24,
   "id": "8a652dd5",
   "metadata": {
    "execution": {
     "iopub.execute_input": "2021-08-13T17:22:30.201931Z",
     "iopub.status.busy": "2021-08-13T17:22:30.201325Z",
     "iopub.status.idle": "2021-08-13T17:22:30.211618Z",
     "shell.execute_reply": "2021-08-13T17:22:30.212318Z",
     "shell.execute_reply.started": "2021-08-13T17:21:53.591340Z"
    },
    "papermill": {
     "duration": 0.044093,
     "end_time": "2021-08-13T17:22:30.212524",
     "exception": false,
     "start_time": "2021-08-13T17:22:30.168431",
     "status": "completed"
    },
    "tags": []
   },
   "outputs": [],
   "source": [
    "# Save test predictions to file\n",
    "output = pd.DataFrame({'Id': X_test.index,\n",
    "                       'SalePrice': preds_test})\n",
    "output.to_csv('submission.csv', index=False)"
   ]
  },
  {
   "cell_type": "markdown",
   "id": "f04584d2",
   "metadata": {
    "papermill": {
     "duration": 0.029457,
     "end_time": "2021-08-13T17:22:30.272465",
     "exception": false,
     "start_time": "2021-08-13T17:22:30.243008",
     "status": "completed"
    },
    "tags": []
   },
   "source": [
    "# Submit your results\n",
    "\n",
    "Once you have successfully completed Step 4, you're ready to submit your results to the leaderboard!  (_You also learned how to do this in the previous exercise.  If you need a reminder of how to do this, please use the instructions below._)  \n",
    "\n",
    "First, you'll need to join the competition if you haven't already.  So open a new window by clicking on [this link](https://www.kaggle.com/c/home-data-for-ml-course).  Then click on the **Join Competition** button.\n",
    "\n",
    "![join competition image](https://i.imgur.com/wLmFtH3.png)\n",
    "\n",
    "Next, follow the instructions below:\n",
    "1. Begin by clicking on the blue **Save Version** button in the top right corner of the window.  This will generate a pop-up window.  \n",
    "2. Ensure that the **Save and Run All** option is selected, and then click on the blue **Save** button.\n",
    "3. This generates a window in the bottom left corner of the notebook.  After it has finished running, click on the number to the right of the **Save Version** button.  This pulls up a list of versions on the right of the screen.  Click on the ellipsis **(...)** to the right of the most recent version, and select **Open in Viewer**.  This brings you into view mode of the same page. You will need to scroll down to get back to these instructions.\n",
    "4. Click on the **Output** tab on the right of the screen.  Then, click on the file you would like to submit, and click on the blue **Submit** button to submit your results to the leaderboard.\n",
    "\n",
    "You have now successfully submitted to the competition!\n",
    "\n",
    "If you want to keep working to improve your performance, select the blue **Edit** button in the top right of the screen. Then you can change your code and repeat the process. There's a lot of room to improve, and you will climb up the leaderboard as you work.\n",
    "\n",
    "\n",
    "# Keep going\n",
    "\n",
    "Move on to learn what **[categorical variables](https://www.kaggle.com/alexisbcook/categorical-variables)** are, along with how to incorporate them into your machine learning models.  Categorical variables are very common in real-world data, but you'll get an error if you try to plug them into your models without processing them first!"
   ]
  },
  {
   "cell_type": "markdown",
   "id": "8c932a02",
   "metadata": {
    "papermill": {
     "duration": 0.029441,
     "end_time": "2021-08-13T17:22:30.331788",
     "exception": false,
     "start_time": "2021-08-13T17:22:30.302347",
     "status": "completed"
    },
    "tags": []
   },
   "source": [
    "---\n",
    "\n",
    "\n",
    "\n",
    "\n",
    "*Have questions or comments? Visit the [Learn Discussion forum](https://www.kaggle.com/learn-forum/161289) to chat with other Learners.*"
   ]
  },
  {
   "cell_type": "code",
   "execution_count": null,
   "id": "ca3c332a",
   "metadata": {
    "papermill": {
     "duration": 0.029604,
     "end_time": "2021-08-13T17:22:30.391560",
     "exception": false,
     "start_time": "2021-08-13T17:22:30.361956",
     "status": "completed"
    },
    "tags": []
   },
   "outputs": [],
   "source": []
  }
 ],
 "metadata": {
  "kernelspec": {
   "display_name": "Python 3",
   "language": "python",
   "name": "python3"
  },
  "language_info": {
   "codemirror_mode": {
    "name": "ipython",
    "version": 3
   },
   "file_extension": ".py",
   "mimetype": "text/x-python",
   "name": "python",
   "nbconvert_exporter": "python",
   "pygments_lexer": "ipython3",
   "version": "3.7.10"
  },
  "papermill": {
   "default_parameters": {},
   "duration": 15.463988,
   "end_time": "2021-08-13T17:22:31.133401",
   "environment_variables": {},
   "exception": null,
   "input_path": "__notebook__.ipynb",
   "output_path": "__notebook__.ipynb",
   "parameters": {},
   "start_time": "2021-08-13T17:22:15.669413",
   "version": "2.3.3"
  }
 },
 "nbformat": 4,
 "nbformat_minor": 5
}
