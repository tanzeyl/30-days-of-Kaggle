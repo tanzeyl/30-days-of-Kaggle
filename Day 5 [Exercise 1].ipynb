{
 "cells": [
  {
   "cell_type": "markdown",
   "id": "b5116ce9",
   "metadata": {
    "papermill": {
     "duration": 0.015756,
     "end_time": "2021-08-06T18:04:56.512320",
     "exception": false,
     "start_time": "2021-08-06T18:04:56.496564",
     "status": "completed"
    },
    "tags": []
   },
   "source": [
    "**This notebook is an exercise in the [Python](https://www.kaggle.com/learn/python) course.  You can reference the tutorial at [this link](https://www.kaggle.com/colinmorris/lists).**\n",
    "\n",
    "---\n"
   ]
  },
  {
   "cell_type": "markdown",
   "id": "61525bee",
   "metadata": {
    "papermill": {
     "duration": 0.014059,
     "end_time": "2021-08-06T18:04:56.543624",
     "exception": false,
     "start_time": "2021-08-06T18:04:56.529565",
     "status": "completed"
    },
    "tags": []
   },
   "source": [
    "Things get more interesting with lists. You'll apply your new knowledge to solve the questions below. Remember to run the following cell first."
   ]
  },
  {
   "cell_type": "code",
   "execution_count": 1,
   "id": "8db06f10",
   "metadata": {
    "execution": {
     "iopub.execute_input": "2021-08-06T18:04:56.584451Z",
     "iopub.status.busy": "2021-08-06T18:04:56.583801Z",
     "iopub.status.idle": "2021-08-06T18:04:56.620163Z",
     "shell.execute_reply": "2021-08-06T18:04:56.620699Z",
     "shell.execute_reply.started": "2021-08-06T17:48:23.322855Z"
    },
    "papermill": {
     "duration": 0.062667,
     "end_time": "2021-08-06T18:04:56.621013",
     "exception": false,
     "start_time": "2021-08-06T18:04:56.558346",
     "status": "completed"
    },
    "tags": []
   },
   "outputs": [
    {
     "name": "stdout",
     "output_type": "stream",
     "text": [
      "Setup complete.\n"
     ]
    }
   ],
   "source": [
    "from learntools.core import binder; binder.bind(globals())\n",
    "from learntools.python.ex4 import *\n",
    "print('Setup complete.')"
   ]
  },
  {
   "cell_type": "markdown",
   "id": "76ecaab7",
   "metadata": {
    "papermill": {
     "duration": 0.013922,
     "end_time": "2021-08-06T18:04:56.650271",
     "exception": false,
     "start_time": "2021-08-06T18:04:56.636349",
     "status": "completed"
    },
    "tags": []
   },
   "source": [
    "# 1.\n",
    "\n",
    "Complete the function below according to its docstring."
   ]
  },
  {
   "cell_type": "code",
   "execution_count": 2,
   "id": "2c10b3b3",
   "metadata": {
    "execution": {
     "iopub.execute_input": "2021-08-06T18:04:56.682086Z",
     "iopub.status.busy": "2021-08-06T18:04:56.681393Z",
     "iopub.status.idle": "2021-08-06T18:04:56.782872Z",
     "shell.execute_reply": "2021-08-06T18:04:56.783472Z",
     "shell.execute_reply.started": "2021-08-06T17:49:29.938124Z"
    },
    "papermill": {
     "duration": 0.119035,
     "end_time": "2021-08-06T18:04:56.783652",
     "exception": false,
     "start_time": "2021-08-06T18:04:56.664617",
     "status": "completed"
    },
    "tags": []
   },
   "outputs": [
    {
     "data": {
      "application/javascript": [
       "parent.postMessage({\"jupyterEvent\": \"custom.exercise_interaction\", \"data\": {\"outcomeType\": 1, \"valueTowardsCompletion\": 0.2, \"interactionType\": 1, \"questionType\": 2, \"questionId\": \"1_SelectSecondItem\", \"learnToolsVersion\": \"0.3.4\", \"failureMessage\": \"\", \"exceptionClass\": \"\", \"trace\": \"\"}}, \"*\")"
      ],
      "text/plain": [
       "<IPython.core.display.Javascript object>"
      ]
     },
     "metadata": {},
     "output_type": "display_data"
    },
    {
     "data": {
      "text/markdown": [
       "<span style=\"color:#33cc33\">Correct</span>"
      ],
      "text/plain": [
       "Correct"
      ]
     },
     "metadata": {},
     "output_type": "display_data"
    }
   ],
   "source": [
    "def select_second(L):\n",
    "    \"\"\"Return the second element of the given list. If the list has no second\n",
    "    element, return None.\n",
    "    \"\"\"\n",
    "    if len(L) >= 2:\n",
    "        return L[1]\n",
    "    else:\n",
    "        return None\n",
    "\n",
    "# Check your answer\n",
    "q1.check()"
   ]
  },
  {
   "cell_type": "code",
   "execution_count": 3,
   "id": "01d8d6dd",
   "metadata": {
    "collapsed": true,
    "execution": {
     "iopub.execute_input": "2021-08-06T18:04:56.818665Z",
     "iopub.status.busy": "2021-08-06T18:04:56.817981Z",
     "iopub.status.idle": "2021-08-06T18:04:56.821115Z",
     "shell.execute_reply": "2021-08-06T18:04:56.821679Z"
    },
    "jupyter": {
     "outputs_hidden": true
    },
    "papermill": {
     "duration": 0.022368,
     "end_time": "2021-08-06T18:04:56.821854",
     "exception": false,
     "start_time": "2021-08-06T18:04:56.799486",
     "status": "completed"
    },
    "tags": []
   },
   "outputs": [],
   "source": [
    "#q1.hint()\n",
    "#q1.solution()"
   ]
  },
  {
   "cell_type": "markdown",
   "id": "7cba086d",
   "metadata": {
    "papermill": {
     "duration": 0.016342,
     "end_time": "2021-08-06T18:04:56.854624",
     "exception": false,
     "start_time": "2021-08-06T18:04:56.838282",
     "status": "completed"
    },
    "tags": []
   },
   "source": [
    "# 2.\n",
    "\n",
    "You are analyzing sports teams.  Members of each team are stored in a list. The Coach is the first name in the list, the captain is the second name in the list, and other players are listed after that. \n",
    "These lists are stored in another list, which starts with the best team and proceeds through the list to the worst team last.  Complete the function below to select the **captain** of the worst team."
   ]
  },
  {
   "cell_type": "code",
   "execution_count": 4,
   "id": "1605b7cb",
   "metadata": {
    "execution": {
     "iopub.execute_input": "2021-08-06T18:04:56.890854Z",
     "iopub.status.busy": "2021-08-06T18:04:56.890141Z",
     "iopub.status.idle": "2021-08-06T18:04:56.896907Z",
     "shell.execute_reply": "2021-08-06T18:04:56.897443Z",
     "shell.execute_reply.started": "2021-08-06T17:50:33.331093Z"
    },
    "papermill": {
     "duration": 0.026711,
     "end_time": "2021-08-06T18:04:56.897626",
     "exception": false,
     "start_time": "2021-08-06T18:04:56.870915",
     "status": "completed"
    },
    "tags": []
   },
   "outputs": [
    {
     "data": {
      "application/javascript": [
       "parent.postMessage({\"jupyterEvent\": \"custom.exercise_interaction\", \"data\": {\"outcomeType\": 1, \"valueTowardsCompletion\": 0.2, \"interactionType\": 1, \"questionType\": 2, \"questionId\": \"2_LosingTeamCaptain\", \"learnToolsVersion\": \"0.3.4\", \"failureMessage\": \"\", \"exceptionClass\": \"\", \"trace\": \"\"}}, \"*\")"
      ],
      "text/plain": [
       "<IPython.core.display.Javascript object>"
      ]
     },
     "metadata": {},
     "output_type": "display_data"
    },
    {
     "data": {
      "text/markdown": [
       "<span style=\"color:#33cc33\">Correct</span>"
      ],
      "text/plain": [
       "Correct"
      ]
     },
     "metadata": {},
     "output_type": "display_data"
    }
   ],
   "source": [
    "def losing_team_captain(teams):\n",
    "    \"\"\"Given a list of teams, where each team is a list of names, return the 2nd player (captain)\n",
    "    from the last listed team\n",
    "    \"\"\"\n",
    "    return teams[-1][1]\n",
    "\n",
    "# Check your answer\n",
    "q2.check()"
   ]
  },
  {
   "cell_type": "code",
   "execution_count": 5,
   "id": "d9358e08",
   "metadata": {
    "collapsed": true,
    "execution": {
     "iopub.execute_input": "2021-08-06T18:04:56.934875Z",
     "iopub.status.busy": "2021-08-06T18:04:56.934164Z",
     "iopub.status.idle": "2021-08-06T18:04:56.937026Z",
     "shell.execute_reply": "2021-08-06T18:04:56.937541Z"
    },
    "jupyter": {
     "outputs_hidden": true
    },
    "papermill": {
     "duration": 0.023256,
     "end_time": "2021-08-06T18:04:56.937706",
     "exception": false,
     "start_time": "2021-08-06T18:04:56.914450",
     "status": "completed"
    },
    "tags": []
   },
   "outputs": [],
   "source": [
    "#q2.hint()\n",
    "#q2.solution()"
   ]
  },
  {
   "cell_type": "markdown",
   "id": "87c93d11",
   "metadata": {
    "papermill": {
     "duration": 0.016419,
     "end_time": "2021-08-06T18:04:56.971092",
     "exception": false,
     "start_time": "2021-08-06T18:04:56.954673",
     "status": "completed"
    },
    "tags": []
   },
   "source": [
    "# 3.\n",
    "\n",
    "The next iteration of Mario Kart will feature an extra-infuriating new item, the *Purple Shell*. When used, it warps the last place racer into first place and the first place racer into last place. Complete the function below to implement the Purple Shell's effect."
   ]
  },
  {
   "cell_type": "code",
   "execution_count": 6,
   "id": "bec3445c",
   "metadata": {
    "execution": {
     "iopub.execute_input": "2021-08-06T18:04:57.009564Z",
     "iopub.status.busy": "2021-08-06T18:04:57.008755Z",
     "iopub.status.idle": "2021-08-06T18:04:57.018123Z",
     "shell.execute_reply": "2021-08-06T18:04:57.017552Z",
     "shell.execute_reply.started": "2021-08-06T17:56:02.438048Z"
    },
    "papermill": {
     "duration": 0.029912,
     "end_time": "2021-08-06T18:04:57.018261",
     "exception": false,
     "start_time": "2021-08-06T18:04:56.988349",
     "status": "completed"
    },
    "tags": []
   },
   "outputs": [
    {
     "data": {
      "application/javascript": [
       "parent.postMessage({\"jupyterEvent\": \"custom.exercise_interaction\", \"data\": {\"outcomeType\": 1, \"valueTowardsCompletion\": 0.2, \"interactionType\": 1, \"questionType\": 2, \"questionId\": \"3_PurpleShell\", \"learnToolsVersion\": \"0.3.4\", \"failureMessage\": \"\", \"exceptionClass\": \"\", \"trace\": \"\"}}, \"*\")"
      ],
      "text/plain": [
       "<IPython.core.display.Javascript object>"
      ]
     },
     "metadata": {},
     "output_type": "display_data"
    },
    {
     "data": {
      "text/markdown": [
       "<span style=\"color:#33cc33\">Correct</span>"
      ],
      "text/plain": [
       "Correct"
      ]
     },
     "metadata": {},
     "output_type": "display_data"
    }
   ],
   "source": [
    "def purple_shell(racers):\n",
    "    \"\"\"Given a list of racers, set the first place racer (at the front of the list) to last\n",
    "    place and vice versa.\n",
    "    \n",
    "    >>> r = [\"Mario\", \"Bowser\", \"Luigi\"]\n",
    "    >>> purple_shell(r)\n",
    "    >>> r\n",
    "    [\"Luigi\", \"Bowser\", \"Mario\"]\n",
    "    \"\"\"\n",
    "    racers[-1], racers[0] = racers[0], racers[-1]\n",
    "\n",
    "# Check your answer\n",
    "q3.check()"
   ]
  },
  {
   "cell_type": "code",
   "execution_count": 7,
   "id": "3f0084ca",
   "metadata": {
    "execution": {
     "iopub.execute_input": "2021-08-06T18:04:57.060899Z",
     "iopub.status.busy": "2021-08-06T18:04:57.060174Z",
     "iopub.status.idle": "2021-08-06T18:04:57.062783Z",
     "shell.execute_reply": "2021-08-06T18:04:57.063411Z",
     "shell.execute_reply.started": "2021-08-06T17:56:06.077311Z"
    },
    "papermill": {
     "duration": 0.026662,
     "end_time": "2021-08-06T18:04:57.063615",
     "exception": false,
     "start_time": "2021-08-06T18:04:57.036953",
     "status": "completed"
    },
    "tags": []
   },
   "outputs": [],
   "source": [
    "#q3.hint()\n",
    "#q3.solution()"
   ]
  },
  {
   "cell_type": "markdown",
   "id": "e41a8962",
   "metadata": {
    "papermill": {
     "duration": 0.01757,
     "end_time": "2021-08-06T18:04:57.099751",
     "exception": false,
     "start_time": "2021-08-06T18:04:57.082181",
     "status": "completed"
    },
    "tags": []
   },
   "source": [
    "# 4.\n",
    "\n",
    "What are the lengths of the following lists? Fill in the variable `lengths` with your predictions. (Try to make a prediction for each list *without* just calling `len()` on it.)"
   ]
  },
  {
   "cell_type": "code",
   "execution_count": 8,
   "id": "475b60b9",
   "metadata": {
    "execution": {
     "iopub.execute_input": "2021-08-06T18:04:57.143183Z",
     "iopub.status.busy": "2021-08-06T18:04:57.142096Z",
     "iopub.status.idle": "2021-08-06T18:04:57.147822Z",
     "shell.execute_reply": "2021-08-06T18:04:57.148402Z",
     "shell.execute_reply.started": "2021-08-06T17:56:43.557251Z"
    },
    "papermill": {
     "duration": 0.03101,
     "end_time": "2021-08-06T18:04:57.148590",
     "exception": false,
     "start_time": "2021-08-06T18:04:57.117580",
     "status": "completed"
    },
    "tags": []
   },
   "outputs": [
    {
     "data": {
      "application/javascript": [
       "parent.postMessage({\"jupyterEvent\": \"custom.exercise_interaction\", \"data\": {\"outcomeType\": 1, \"valueTowardsCompletion\": 0.2, \"interactionType\": 1, \"questionType\": 1, \"questionId\": \"4_UnderstandLen\", \"learnToolsVersion\": \"0.3.4\", \"failureMessage\": \"\", \"exceptionClass\": \"\", \"trace\": \"\"}}, \"*\")"
      ],
      "text/plain": [
       "<IPython.core.display.Javascript object>"
      ]
     },
     "metadata": {},
     "output_type": "display_data"
    },
    {
     "data": {
      "text/markdown": [
       "<span style=\"color:#33cc33\">Correct:</span> \n",
       "\n",
       "\n",
       "- a: There are three items in this list. Nothing tricky yet.\n",
       "- b: The list `[2, 3]` counts as a single item. It has one item before it. So we have 2 items in the list\n",
       "- c: The empty list has 0 items\n",
       "- d: The expression is the same as the list `[2, 3]`, which has length 2."
      ],
      "text/plain": [
       "Correct: \n",
       "\n",
       "\n",
       "- a: There are three items in this list. Nothing tricky yet.\n",
       "- b: The list `[2, 3]` counts as a single item. It has one item before it. So we have 2 items in the list\n",
       "- c: The empty list has 0 items\n",
       "- d: The expression is the same as the list `[2, 3]`, which has length 2."
      ]
     },
     "metadata": {},
     "output_type": "display_data"
    }
   ],
   "source": [
    "a = [1, 2, 3]\n",
    "b = [1, [2, 3]]\n",
    "c = []\n",
    "d = [1, 2, 3][1:]\n",
    "\n",
    "# Put your predictions in the list below. Lengths should contain 4 numbers, the\n",
    "# first being the length of a, the second being the length of b and so on.\n",
    "lengths = [3,2,0,2]\n",
    "\n",
    "# Check your answer\n",
    "q4.check()"
   ]
  },
  {
   "cell_type": "code",
   "execution_count": 9,
   "id": "3daedb94",
   "metadata": {
    "collapsed": true,
    "execution": {
     "iopub.execute_input": "2021-08-06T18:04:57.190640Z",
     "iopub.status.busy": "2021-08-06T18:04:57.189854Z",
     "iopub.status.idle": "2021-08-06T18:04:57.193003Z",
     "shell.execute_reply": "2021-08-06T18:04:57.193606Z"
    },
    "jupyter": {
     "outputs_hidden": true
    },
    "papermill": {
     "duration": 0.025747,
     "end_time": "2021-08-06T18:04:57.193780",
     "exception": false,
     "start_time": "2021-08-06T18:04:57.168033",
     "status": "completed"
    },
    "tags": []
   },
   "outputs": [],
   "source": [
    "# line below provides some explanation\n",
    "#q4.solution()"
   ]
  },
  {
   "cell_type": "markdown",
   "id": "e68a9729",
   "metadata": {
    "papermill": {
     "duration": 0.018885,
     "end_time": "2021-08-06T18:04:57.234045",
     "exception": false,
     "start_time": "2021-08-06T18:04:57.215160",
     "status": "completed"
    },
    "tags": []
   },
   "source": [
    "# 5. <span title=\"A bit spicy\" style=\"color: darkgreen \">🌶️</span>\n",
    "\n",
    "We're using lists to record people who attended our party and what order they arrived in. For example, the following list represents a party with 7 guests, in which Adela showed up first and Ford was the last to arrive:\n",
    "\n",
    "    party_attendees = ['Adela', 'Fleda', 'Owen', 'May', 'Mona', 'Gilbert', 'Ford']\n",
    "\n",
    "A guest is considered 'fashionably late' if they arrived after at least half of the party's guests. However, they must not be the very last guest (that's taking it too far). In the above example, Mona and Gilbert are the only guests who were fashionably late.\n",
    "\n",
    "Complete the function below which takes a list of party attendees as well as a person, and tells us whether that person is fashionably late."
   ]
  },
  {
   "cell_type": "code",
   "execution_count": 10,
   "id": "3670c1d7",
   "metadata": {
    "execution": {
     "iopub.execute_input": "2021-08-06T18:04:57.275974Z",
     "iopub.status.busy": "2021-08-06T18:04:57.275313Z",
     "iopub.status.idle": "2021-08-06T18:04:57.284574Z",
     "shell.execute_reply": "2021-08-06T18:04:57.285208Z",
     "shell.execute_reply.started": "2021-08-06T18:04:29.022279Z"
    },
    "papermill": {
     "duration": 0.032011,
     "end_time": "2021-08-06T18:04:57.285406",
     "exception": false,
     "start_time": "2021-08-06T18:04:57.253395",
     "status": "completed"
    },
    "tags": []
   },
   "outputs": [
    {
     "data": {
      "application/javascript": [
       "parent.postMessage({\"jupyterEvent\": \"custom.exercise_interaction\", \"data\": {\"outcomeType\": 1, \"valueTowardsCompletion\": 0.2, \"interactionType\": 1, \"questionType\": 2, \"questionId\": \"5_FashionablyLate\", \"learnToolsVersion\": \"0.3.4\", \"failureMessage\": \"\", \"exceptionClass\": \"\", \"trace\": \"\"}}, \"*\")"
      ],
      "text/plain": [
       "<IPython.core.display.Javascript object>"
      ]
     },
     "metadata": {},
     "output_type": "display_data"
    },
    {
     "data": {
      "text/markdown": [
       "<span style=\"color:#33cc33\">Correct</span>"
      ],
      "text/plain": [
       "Correct"
      ]
     },
     "metadata": {},
     "output_type": "display_data"
    }
   ],
   "source": [
    "def fashionably_late(arrivals, name):\n",
    "    \"\"\"Given an ordered list of arrivals to the party and a name, return whether the guest with that\n",
    "    name was fashionably late.\n",
    "    \"\"\"\n",
    "    if len(arrivals)%2==0:\n",
    "        n = len(arrivals)//2\n",
    "    else:\n",
    "        n = len(arrivals)//2 + 1\n",
    "    fashionably_late = arrivals[n:-1]\n",
    "    if name in fashionably_late:\n",
    "        return True\n",
    "    else:\n",
    "        return False\n",
    "    \n",
    "\n",
    "# Check your answer\n",
    "q5.check()"
   ]
  },
  {
   "cell_type": "code",
   "execution_count": 11,
   "id": "05f31926",
   "metadata": {
    "collapsed": true,
    "execution": {
     "iopub.execute_input": "2021-08-06T18:04:57.330547Z",
     "iopub.status.busy": "2021-08-06T18:04:57.329617Z",
     "iopub.status.idle": "2021-08-06T18:04:57.332795Z",
     "shell.execute_reply": "2021-08-06T18:04:57.333384Z"
    },
    "jupyter": {
     "outputs_hidden": true
    },
    "papermill": {
     "duration": 0.027009,
     "end_time": "2021-08-06T18:04:57.333569",
     "exception": false,
     "start_time": "2021-08-06T18:04:57.306560",
     "status": "completed"
    },
    "tags": []
   },
   "outputs": [],
   "source": [
    "#q5.hint()\n",
    "#q5.solution()"
   ]
  },
  {
   "cell_type": "markdown",
   "id": "d3c087fb",
   "metadata": {
    "papermill": {
     "duration": 0.01942,
     "end_time": "2021-08-06T18:04:57.372986",
     "exception": false,
     "start_time": "2021-08-06T18:04:57.353566",
     "status": "completed"
    },
    "tags": []
   },
   "source": [
    "# Keep Going\n",
    "\n",
    "That's it for lists and tuples! Now you have the baseline knowledge to **[learn about loops](https://www.kaggle.com/colinmorris/loops-and-list-comprehensions)**, which is where lists and tuples get really interesting. "
   ]
  },
  {
   "cell_type": "markdown",
   "id": "8b6f98ba",
   "metadata": {
    "papermill": {
     "duration": 0.019326,
     "end_time": "2021-08-06T18:04:57.412109",
     "exception": false,
     "start_time": "2021-08-06T18:04:57.392783",
     "status": "completed"
    },
    "tags": []
   },
   "source": [
    "---\n",
    "\n",
    "\n",
    "\n",
    "\n",
    "*Have questions or comments? Visit the [Learn Discussion forum](https://www.kaggle.com/learn-forum/161283) to chat with other Learners.*"
   ]
  }
 ],
 "metadata": {
  "kernelspec": {
   "display_name": "Python 3",
   "language": "python",
   "name": "python3"
  },
  "language_info": {
   "codemirror_mode": {
    "name": "ipython",
    "version": 3
   },
   "file_extension": ".py",
   "mimetype": "text/x-python",
   "name": "python",
   "nbconvert_exporter": "python",
   "pygments_lexer": "ipython3",
   "version": "3.7.10"
  },
  "papermill": {
   "default_parameters": {},
   "duration": 11.768321,
   "end_time": "2021-08-06T18:04:59.050361",
   "environment_variables": {},
   "exception": null,
   "input_path": "__notebook__.ipynb",
   "output_path": "__notebook__.ipynb",
   "parameters": {},
   "start_time": "2021-08-06T18:04:47.282040",
   "version": "2.3.3"
  }
 },
 "nbformat": 4,
 "nbformat_minor": 5
}
