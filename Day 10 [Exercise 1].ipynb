{
 "cells": [
  {
   "cell_type": "markdown",
   "id": "395f0e08",
   "metadata": {
    "papermill": {
     "duration": 0.010775,
     "end_time": "2021-08-09T11:28:12.303265",
     "exception": false,
     "start_time": "2021-08-09T11:28:12.292490",
     "status": "completed"
    },
    "tags": []
   },
   "source": [
    "**This notebook is an exercise in the [Introduction to Machine Learning](https://www.kaggle.com/learn/intro-to-machine-learning) course.  You can reference the tutorial at [this link](https://www.kaggle.com/dansbecker/underfitting-and-overfitting).**\n",
    "\n",
    "---\n"
   ]
  },
  {
   "cell_type": "markdown",
   "id": "186e9285",
   "metadata": {
    "papermill": {
     "duration": 0.009347,
     "end_time": "2021-08-09T11:28:12.324272",
     "exception": false,
     "start_time": "2021-08-09T11:28:12.314925",
     "status": "completed"
    },
    "tags": []
   },
   "source": [
    "## Recap\n",
    "You've built your first model, and now it's time to optimize the size of the tree to make better predictions. Run this cell to set up your coding environment where the previous step left off."
   ]
  },
  {
   "cell_type": "code",
   "execution_count": 1,
   "id": "62292534",
   "metadata": {
    "execution": {
     "iopub.execute_input": "2021-08-09T11:28:12.348154Z",
     "iopub.status.busy": "2021-08-09T11:28:12.346980Z",
     "iopub.status.idle": "2021-08-09T11:28:13.761449Z",
     "shell.execute_reply": "2021-08-09T11:28:13.762178Z",
     "shell.execute_reply.started": "2021-08-09T11:13:59.509247Z"
    },
    "papermill": {
     "duration": 1.428597,
     "end_time": "2021-08-09T11:28:13.762534",
     "exception": false,
     "start_time": "2021-08-09T11:28:12.333937",
     "status": "completed"
    },
    "tags": []
   },
   "outputs": [
    {
     "name": "stdout",
     "output_type": "stream",
     "text": [
      "Validation MAE: 29,653\n",
      "\n",
      "Setup complete\n"
     ]
    }
   ],
   "source": [
    "# Code you have previously used to load data\n",
    "import pandas as pd\n",
    "from sklearn.metrics import mean_absolute_error\n",
    "from sklearn.model_selection import train_test_split\n",
    "from sklearn.tree import DecisionTreeRegressor\n",
    "\n",
    "\n",
    "# Path of the file to read\n",
    "iowa_file_path = '../input/home-data-for-ml-course/train.csv'\n",
    "\n",
    "home_data = pd.read_csv(iowa_file_path)\n",
    "# Create target object and call it y\n",
    "y = home_data.SalePrice\n",
    "# Create X\n",
    "features = ['LotArea', 'YearBuilt', '1stFlrSF', '2ndFlrSF', 'FullBath', 'BedroomAbvGr', 'TotRmsAbvGrd']\n",
    "X = home_data[features]\n",
    "\n",
    "# Split into validation and training data\n",
    "train_X, val_X, train_y, val_y = train_test_split(X, y, random_state=1)\n",
    "\n",
    "# Specify Model\n",
    "iowa_model = DecisionTreeRegressor(random_state=1)\n",
    "# Fit Model\n",
    "iowa_model.fit(train_X, train_y)\n",
    "\n",
    "# Make validation predictions and calculate mean absolute error\n",
    "val_predictions = iowa_model.predict(val_X)\n",
    "val_mae = mean_absolute_error(val_predictions, val_y)\n",
    "print(\"Validation MAE: {:,.0f}\".format(val_mae))\n",
    "\n",
    "# Set up code checking\n",
    "from learntools.core import binder\n",
    "binder.bind(globals())\n",
    "from learntools.machine_learning.ex5 import *\n",
    "print(\"\\nSetup complete\")"
   ]
  },
  {
   "cell_type": "markdown",
   "id": "4ae375ff",
   "metadata": {
    "papermill": {
     "duration": 0.010967,
     "end_time": "2021-08-09T11:28:13.785829",
     "exception": false,
     "start_time": "2021-08-09T11:28:13.774862",
     "status": "completed"
    },
    "tags": []
   },
   "source": [
    "# Exercises\n",
    "You could write the function `get_mae` yourself. For now, we'll supply it. This is the same function you read about in the previous lesson. Just run the cell below."
   ]
  },
  {
   "cell_type": "code",
   "execution_count": 2,
   "id": "e59c18f9",
   "metadata": {
    "execution": {
     "iopub.execute_input": "2021-08-09T11:28:13.825659Z",
     "iopub.status.busy": "2021-08-09T11:28:13.824572Z",
     "iopub.status.idle": "2021-08-09T11:28:13.826730Z",
     "shell.execute_reply": "2021-08-09T11:28:13.827622Z",
     "shell.execute_reply.started": "2021-08-09T11:15:02.040602Z"
    },
    "papermill": {
     "duration": 0.025921,
     "end_time": "2021-08-09T11:28:13.827896",
     "exception": false,
     "start_time": "2021-08-09T11:28:13.801975",
     "status": "completed"
    },
    "tags": []
   },
   "outputs": [],
   "source": [
    "def get_mae(max_leaf_nodes, train_X, val_X, train_y, val_y):\n",
    "    model = DecisionTreeRegressor(max_leaf_nodes=max_leaf_nodes, random_state=0)\n",
    "    model.fit(train_X, train_y)\n",
    "    preds_val = model.predict(val_X)\n",
    "    mae = mean_absolute_error(val_y, preds_val)\n",
    "    return(mae)"
   ]
  },
  {
   "cell_type": "markdown",
   "id": "afb49b5b",
   "metadata": {
    "papermill": {
     "duration": 0.011085,
     "end_time": "2021-08-09T11:28:13.851068",
     "exception": false,
     "start_time": "2021-08-09T11:28:13.839983",
     "status": "completed"
    },
    "tags": []
   },
   "source": [
    "## Step 1: Compare Different Tree Sizes\n",
    "Write a loop that tries the following values for *max_leaf_nodes* from a set of possible values.\n",
    "\n",
    "Call the *get_mae* function on each value of max_leaf_nodes. Store the output in some way that allows you to select the value of `max_leaf_nodes` that gives the most accurate model on your data."
   ]
  },
  {
   "cell_type": "code",
   "execution_count": 3,
   "id": "34ddf6c3",
   "metadata": {
    "execution": {
     "iopub.execute_input": "2021-08-09T11:28:13.878333Z",
     "iopub.status.busy": "2021-08-09T11:28:13.877689Z",
     "iopub.status.idle": "2021-08-09T11:28:14.151662Z",
     "shell.execute_reply": "2021-08-09T11:28:14.150946Z",
     "shell.execute_reply.started": "2021-08-09T11:25:42.462594Z"
    },
    "papermill": {
     "duration": 0.286532,
     "end_time": "2021-08-09T11:28:14.151818",
     "exception": false,
     "start_time": "2021-08-09T11:28:13.865286",
     "status": "completed"
    },
    "tags": []
   },
   "outputs": [
    {
     "data": {
      "application/javascript": [
       "parent.postMessage({\"jupyterEvent\": \"custom.exercise_interaction\", \"data\": {\"outcomeType\": 1, \"valueTowardsCompletion\": 0.5, \"interactionType\": 1, \"questionType\": 1, \"questionId\": \"1_BestTreeSize\", \"learnToolsVersion\": \"0.3.4\", \"failureMessage\": \"\", \"exceptionClass\": \"\", \"trace\": \"\"}}, \"*\")"
      ],
      "text/plain": [
       "<IPython.core.display.Javascript object>"
      ]
     },
     "metadata": {},
     "output_type": "display_data"
    },
    {
     "data": {
      "text/markdown": [
       "<span style=\"color:#33cc33\">Correct</span>"
      ],
      "text/plain": [
       "Correct"
      ]
     },
     "metadata": {},
     "output_type": "display_data"
    }
   ],
   "source": [
    "candidate_max_leaf_nodes = [5, 25, 50, 100, 250, 500]\n",
    "# Write loop to find the ideal tree size from candidate_max_leaf_nodes\n",
    "mae = {}\n",
    "for i in candidate_max_leaf_nodes:\n",
    "    scores = {leaf_size: get_mae(leaf_size, train_X, val_X, train_y, val_y) for leaf_size in candidate_max_leaf_nodes}\n",
    "best_tree_size = min(scores, key=scores.get)\n",
    "\n",
    "# Store the best value of max_leaf_nodes (it will be either 5, 25, 50, 100, 250 or 500)\n",
    "\n",
    "# Check your answer\n",
    "step_1.check()"
   ]
  },
  {
   "cell_type": "code",
   "execution_count": 4,
   "id": "5324b801",
   "metadata": {
    "execution": {
     "iopub.execute_input": "2021-08-09T11:28:14.179302Z",
     "iopub.status.busy": "2021-08-09T11:28:14.178271Z",
     "iopub.status.idle": "2021-08-09T11:28:14.181620Z",
     "shell.execute_reply": "2021-08-09T11:28:14.181081Z",
     "shell.execute_reply.started": "2021-08-09T11:25:51.998910Z"
    },
    "papermill": {
     "duration": 0.018735,
     "end_time": "2021-08-09T11:28:14.181770",
     "exception": false,
     "start_time": "2021-08-09T11:28:14.163035",
     "status": "completed"
    },
    "tags": []
   },
   "outputs": [],
   "source": [
    "# The lines below will show you a hint or the solution.\n",
    "# step_1.hint() \n",
    "#step_1.solution()"
   ]
  },
  {
   "cell_type": "markdown",
   "id": "5b9c0605",
   "metadata": {
    "papermill": {
     "duration": 0.011269,
     "end_time": "2021-08-09T11:28:14.204167",
     "exception": false,
     "start_time": "2021-08-09T11:28:14.192898",
     "status": "completed"
    },
    "tags": []
   },
   "source": [
    "## Step 2: Fit Model Using All Data\n",
    "You know the best tree size. If you were going to deploy this model in practice, you would make it even more accurate by using all of the data and keeping that tree size.  That is, you don't need to hold out the validation data now that you've made all your modeling decisions."
   ]
  },
  {
   "cell_type": "code",
   "execution_count": 5,
   "id": "888ac9d9",
   "metadata": {
    "execution": {
     "iopub.execute_input": "2021-08-09T11:28:14.233401Z",
     "iopub.status.busy": "2021-08-09T11:28:14.232714Z",
     "iopub.status.idle": "2021-08-09T11:28:14.247210Z",
     "shell.execute_reply": "2021-08-09T11:28:14.246681Z",
     "shell.execute_reply.started": "2021-08-09T11:27:36.427264Z"
    },
    "papermill": {
     "duration": 0.032317,
     "end_time": "2021-08-09T11:28:14.247355",
     "exception": false,
     "start_time": "2021-08-09T11:28:14.215038",
     "status": "completed"
    },
    "tags": []
   },
   "outputs": [
    {
     "data": {
      "application/javascript": [
       "parent.postMessage({\"jupyterEvent\": \"custom.exercise_interaction\", \"data\": {\"outcomeType\": 1, \"valueTowardsCompletion\": 0.5, \"interactionType\": 1, \"questionType\": 2, \"questionId\": \"2_FitModelWithAllData\", \"learnToolsVersion\": \"0.3.4\", \"failureMessage\": \"\", \"exceptionClass\": \"\", \"trace\": \"\"}}, \"*\")"
      ],
      "text/plain": [
       "<IPython.core.display.Javascript object>"
      ]
     },
     "metadata": {},
     "output_type": "display_data"
    },
    {
     "data": {
      "text/markdown": [
       "<span style=\"color:#33cc33\">Correct</span>"
      ],
      "text/plain": [
       "Correct"
      ]
     },
     "metadata": {},
     "output_type": "display_data"
    }
   ],
   "source": [
    "#Fill in argument to make optimal size and uncomment\n",
    "final_model = DecisionTreeRegressor(max_leaf_nodes = best_tree_size)\n",
    "\n",
    "# fit the final model and uncomment the next two lines\n",
    "final_model.fit(X, y)\n",
    "\n",
    "# Check your answer\n",
    "step_2.check()"
   ]
  },
  {
   "cell_type": "code",
   "execution_count": 6,
   "id": "de95f106",
   "metadata": {
    "execution": {
     "iopub.execute_input": "2021-08-09T11:28:14.275838Z",
     "iopub.status.busy": "2021-08-09T11:28:14.275124Z",
     "iopub.status.idle": "2021-08-09T11:28:14.278362Z",
     "shell.execute_reply": "2021-08-09T11:28:14.277835Z",
     "shell.execute_reply.started": "2021-08-09T11:27:16.763196Z"
    },
    "papermill": {
     "duration": 0.019216,
     "end_time": "2021-08-09T11:28:14.278537",
     "exception": false,
     "start_time": "2021-08-09T11:28:14.259321",
     "status": "completed"
    },
    "tags": []
   },
   "outputs": [],
   "source": [
    "# step_2.hint()\n",
    "#step_2.solution()"
   ]
  },
  {
   "cell_type": "markdown",
   "id": "cc6f26f4",
   "metadata": {
    "papermill": {
     "duration": 0.011665,
     "end_time": "2021-08-09T11:28:14.302317",
     "exception": false,
     "start_time": "2021-08-09T11:28:14.290652",
     "status": "completed"
    },
    "tags": []
   },
   "source": [
    "You've tuned this model and improved your results. But we are still using Decision Tree models, which are not very sophisticated by modern machine learning standards. In the next step you will learn to use Random Forests to improve your models even more.\n",
    "\n",
    "# Keep Going\n",
    "\n",
    "You are ready for **[Random Forests](https://www.kaggle.com/dansbecker/random-forests).**\n"
   ]
  },
  {
   "cell_type": "markdown",
   "id": "6124d36a",
   "metadata": {
    "papermill": {
     "duration": 0.011378,
     "end_time": "2021-08-09T11:28:14.325442",
     "exception": false,
     "start_time": "2021-08-09T11:28:14.314064",
     "status": "completed"
    },
    "tags": []
   },
   "source": [
    "---\n",
    "\n",
    "\n",
    "\n",
    "\n",
    "*Have questions or comments? Visit the [Learn Discussion forum](https://www.kaggle.com/learn-forum/161285) to chat with other Learners.*"
   ]
  }
 ],
 "metadata": {
  "kernelspec": {
   "display_name": "Python 3",
   "language": "python",
   "name": "python3"
  },
  "language_info": {
   "codemirror_mode": {
    "name": "ipython",
    "version": 3
   },
   "file_extension": ".py",
   "mimetype": "text/x-python",
   "name": "python",
   "nbconvert_exporter": "python",
   "pygments_lexer": "ipython3",
   "version": "3.7.10"
  },
  "papermill": {
   "default_parameters": {},
   "duration": 11.855503,
   "end_time": "2021-08-09T11:28:15.896774",
   "environment_variables": {},
   "exception": null,
   "input_path": "__notebook__.ipynb",
   "output_path": "__notebook__.ipynb",
   "parameters": {},
   "start_time": "2021-08-09T11:28:04.041271",
   "version": "2.3.3"
  }
 },
 "nbformat": 4,
 "nbformat_minor": 5
}
