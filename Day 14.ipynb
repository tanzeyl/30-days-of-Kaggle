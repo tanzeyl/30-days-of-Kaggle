{
 "cells": [
  {
   "cell_type": "markdown",
   "id": "b8ea335e",
   "metadata": {
    "papermill": {
     "duration": 0.018631,
     "end_time": "2021-08-15T17:20:52.423467",
     "exception": false,
     "start_time": "2021-08-15T17:20:52.404836",
     "status": "completed"
    },
    "tags": []
   },
   "source": [
    "**This notebook is an exercise in the [Intermediate Machine Learning](https://www.kaggle.com/learn/intermediate-machine-learning) course.  You can reference the tutorial at [this link](https://www.kaggle.com/alexisbcook/xgboost).**\n",
    "\n",
    "---\n"
   ]
  },
  {
   "cell_type": "markdown",
   "id": "13029aa5",
   "metadata": {
    "papermill": {
     "duration": 0.01548,
     "end_time": "2021-08-15T17:20:52.456808",
     "exception": false,
     "start_time": "2021-08-15T17:20:52.441328",
     "status": "completed"
    },
    "tags": []
   },
   "source": [
    "In this exercise, you will use your new knowledge to train a model with **gradient boosting**.\n",
    "\n",
    "# Setup\n",
    "\n",
    "The questions below will give you feedback on your work. Run the following cell to set up the feedback system."
   ]
  },
  {
   "cell_type": "code",
   "execution_count": 1,
   "id": "9a24a64d",
   "metadata": {
    "execution": {
     "iopub.execute_input": "2021-08-15T17:20:52.508458Z",
     "iopub.status.busy": "2021-08-15T17:20:52.507051Z",
     "iopub.status.idle": "2021-08-15T17:20:54.817971Z",
     "shell.execute_reply": "2021-08-15T17:20:54.819012Z",
     "shell.execute_reply.started": "2021-08-15T17:07:59.072185Z"
    },
    "papermill": {
     "duration": 2.344832,
     "end_time": "2021-08-15T17:20:54.819400",
     "exception": false,
     "start_time": "2021-08-15T17:20:52.474568",
     "status": "completed"
    },
    "tags": []
   },
   "outputs": [
    {
     "name": "stdout",
     "output_type": "stream",
     "text": [
      "Setup Complete\n"
     ]
    }
   ],
   "source": [
    "# Set up code checking\n",
    "import os\n",
    "if not os.path.exists(\"../input/train.csv\"):\n",
    "    os.symlink(\"../input/home-data-for-ml-course/train.csv\", \"../input/train.csv\")  \n",
    "    os.symlink(\"../input/home-data-for-ml-course/test.csv\", \"../input/test.csv\") \n",
    "from learntools.core import binder\n",
    "binder.bind(globals())\n",
    "from learntools.ml_intermediate.ex6 import *\n",
    "print(\"Setup Complete\")"
   ]
  },
  {
   "cell_type": "markdown",
   "id": "b16cd9b6",
   "metadata": {
    "papermill": {
     "duration": 0.015553,
     "end_time": "2021-08-15T17:20:54.852066",
     "exception": false,
     "start_time": "2021-08-15T17:20:54.836513",
     "status": "completed"
    },
    "tags": []
   },
   "source": [
    "You will work with the [Housing Prices Competition for Kaggle Learn Users](https://www.kaggle.com/c/home-data-for-ml-course) dataset from the previous exercise. \n",
    "\n",
    "![Ames Housing dataset image](https://i.imgur.com/lTJVG4e.png)\n",
    "\n",
    "Run the next code cell without changes to load the training and validation sets in `X_train`, `X_valid`, `y_train`, and `y_valid`.  The test set is loaded in `X_test`."
   ]
  },
  {
   "cell_type": "code",
   "execution_count": 2,
   "id": "df1dfe35",
   "metadata": {
    "execution": {
     "iopub.execute_input": "2021-08-15T17:20:54.899430Z",
     "iopub.status.busy": "2021-08-15T17:20:54.897982Z",
     "iopub.status.idle": "2021-08-15T17:20:55.155372Z",
     "shell.execute_reply": "2021-08-15T17:20:55.154744Z",
     "shell.execute_reply.started": "2021-08-15T17:08:00.307254Z"
    },
    "papermill": {
     "duration": 0.286958,
     "end_time": "2021-08-15T17:20:55.155554",
     "exception": false,
     "start_time": "2021-08-15T17:20:54.868596",
     "status": "completed"
    },
    "tags": []
   },
   "outputs": [],
   "source": [
    "import pandas as pd\n",
    "from sklearn.model_selection import train_test_split\n",
    "\n",
    "# Read the data\n",
    "X = pd.read_csv('../input/train.csv', index_col='Id')\n",
    "X_test_full = pd.read_csv('../input/test.csv', index_col='Id')\n",
    "\n",
    "# Remove rows with missing target, separate target from predictors\n",
    "X.dropna(axis=0, subset=['SalePrice'], inplace=True)\n",
    "y = X.SalePrice              \n",
    "X.drop(['SalePrice'], axis=1, inplace=True)\n",
    "\n",
    "# Break off validation set from training data\n",
    "X_train_full, X_valid_full, y_train, y_valid = train_test_split(X, y, train_size=0.8, test_size=0.2,\n",
    "                                                                random_state=0)\n",
    "\n",
    "# \"Cardinality\" means the number of unique values in a column\n",
    "# Select categorical columns with relatively low cardinality (convenient but arbitrary)\n",
    "low_cardinality_cols = [cname for cname in X_train_full.columns if X_train_full[cname].nunique() < 10 and \n",
    "                        X_train_full[cname].dtype == \"object\"]\n",
    "\n",
    "# Select numeric columns\n",
    "numeric_cols = [cname for cname in X_train_full.columns if X_train_full[cname].dtype in ['int64', 'float64']]\n",
    "\n",
    "# Keep selected columns only\n",
    "my_cols = low_cardinality_cols + numeric_cols\n",
    "X_train = X_train_full[my_cols].copy()\n",
    "X_valid = X_valid_full[my_cols].copy()\n",
    "X_test = X_test_full[my_cols].copy()\n",
    "\n",
    "# One-hot encode the data (to shorten the code, we use pandas)\n",
    "X_train = pd.get_dummies(X_train)\n",
    "X_valid = pd.get_dummies(X_valid)\n",
    "X_test = pd.get_dummies(X_test)\n",
    "X_train, X_valid = X_train.align(X_valid, join='left', axis=1)\n",
    "X_train, X_test = X_train.align(X_test, join='left', axis=1)"
   ]
  },
  {
   "cell_type": "markdown",
   "id": "054de45a",
   "metadata": {
    "papermill": {
     "duration": 0.016256,
     "end_time": "2021-08-15T17:20:55.188605",
     "exception": false,
     "start_time": "2021-08-15T17:20:55.172349",
     "status": "completed"
    },
    "tags": []
   },
   "source": [
    "# Step 1: Build model\n",
    "\n",
    "### Part A\n",
    "\n",
    "In this step, you'll build and train your first model with gradient boosting.\n",
    "\n",
    "- Begin by setting `my_model_1` to an XGBoost model.  Use the [XGBRegressor](https://xgboost.readthedocs.io/en/latest/python/python_api.html#xgboost.XGBRegressor) class, and set the random seed to 0 (`random_state=0`).  **Leave all other parameters as default.**\n",
    "- Then, fit the model to the training data in `X_train` and `y_train`."
   ]
  },
  {
   "cell_type": "code",
   "execution_count": 3,
   "id": "4ed772f7",
   "metadata": {
    "execution": {
     "iopub.execute_input": "2021-08-15T17:20:55.238014Z",
     "iopub.status.busy": "2021-08-15T17:20:55.236637Z",
     "iopub.status.idle": "2021-08-15T17:20:55.969070Z",
     "shell.execute_reply": "2021-08-15T17:20:55.969697Z",
     "shell.execute_reply.started": "2021-08-15T17:09:02.285184Z"
    },
    "papermill": {
     "duration": 0.764614,
     "end_time": "2021-08-15T17:20:55.969908",
     "exception": false,
     "start_time": "2021-08-15T17:20:55.205294",
     "status": "completed"
    },
    "tags": []
   },
   "outputs": [
    {
     "data": {
      "application/javascript": [
       "parent.postMessage({\"jupyterEvent\": \"custom.exercise_interaction\", \"data\": {\"outcomeType\": 1, \"valueTowardsCompletion\": 0.5, \"interactionType\": 1, \"questionType\": 2, \"questionId\": \"1.1_Model1A\", \"learnToolsVersion\": \"0.3.4\", \"failureMessage\": \"\", \"exceptionClass\": \"\", \"trace\": \"\"}}, \"*\")"
      ],
      "text/plain": [
       "<IPython.core.display.Javascript object>"
      ]
     },
     "metadata": {},
     "output_type": "display_data"
    },
    {
     "data": {
      "text/markdown": [
       "<span style=\"color:#33cc33\">Correct</span>"
      ],
      "text/plain": [
       "Correct"
      ]
     },
     "metadata": {},
     "output_type": "display_data"
    }
   ],
   "source": [
    "from xgboost import XGBRegressor\n",
    "\n",
    "# Define the model\n",
    "my_model_1 = XGBRegressor(random_state = 0) # Your code here\n",
    "\n",
    "# Fit the model\n",
    "my_model_1.fit(X_train, y_train) # Your code here\n",
    "\n",
    "# Check your answer\n",
    "step_1.a.check()"
   ]
  },
  {
   "cell_type": "code",
   "execution_count": 4,
   "id": "c4397a84",
   "metadata": {
    "execution": {
     "iopub.execute_input": "2021-08-15T17:20:56.009499Z",
     "iopub.status.busy": "2021-08-15T17:20:56.008796Z",
     "iopub.status.idle": "2021-08-15T17:20:56.011947Z",
     "shell.execute_reply": "2021-08-15T17:20:56.011318Z"
    },
    "papermill": {
     "duration": 0.024581,
     "end_time": "2021-08-15T17:20:56.012118",
     "exception": false,
     "start_time": "2021-08-15T17:20:55.987537",
     "status": "completed"
    },
    "tags": []
   },
   "outputs": [],
   "source": [
    "# Lines below will give you a hint or solution code\n",
    "#step_1.a.hint()\n",
    "#step_1.a.solution()"
   ]
  },
  {
   "cell_type": "markdown",
   "id": "ebc026f2",
   "metadata": {
    "papermill": {
     "duration": 0.018702,
     "end_time": "2021-08-15T17:20:56.051098",
     "exception": false,
     "start_time": "2021-08-15T17:20:56.032396",
     "status": "completed"
    },
    "tags": []
   },
   "source": [
    "### Part B\n",
    "\n",
    "Set `predictions_1` to the model's predictions for the validation data.  Recall that the validation features are stored in `X_valid`."
   ]
  },
  {
   "cell_type": "code",
   "execution_count": 5,
   "id": "3ac9ccb1",
   "metadata": {
    "execution": {
     "iopub.execute_input": "2021-08-15T17:20:56.099427Z",
     "iopub.status.busy": "2021-08-15T17:20:56.095229Z",
     "iopub.status.idle": "2021-08-15T17:20:56.111289Z",
     "shell.execute_reply": "2021-08-15T17:20:56.110684Z",
     "shell.execute_reply.started": "2021-08-15T17:09:19.750847Z"
    },
    "papermill": {
     "duration": 0.04229,
     "end_time": "2021-08-15T17:20:56.111466",
     "exception": false,
     "start_time": "2021-08-15T17:20:56.069176",
     "status": "completed"
    },
    "tags": []
   },
   "outputs": [
    {
     "data": {
      "application/javascript": [
       "parent.postMessage({\"jupyterEvent\": \"custom.exercise_interaction\", \"data\": {\"outcomeType\": 1, \"valueTowardsCompletion\": 0.5, \"interactionType\": 1, \"questionType\": 2, \"questionId\": \"1.2_Model1B\", \"learnToolsVersion\": \"0.3.4\", \"failureMessage\": \"\", \"exceptionClass\": \"\", \"trace\": \"\"}}, \"*\")"
      ],
      "text/plain": [
       "<IPython.core.display.Javascript object>"
      ]
     },
     "metadata": {},
     "output_type": "display_data"
    },
    {
     "data": {
      "text/markdown": [
       "<span style=\"color:#33cc33\">Correct</span>"
      ],
      "text/plain": [
       "Correct"
      ]
     },
     "metadata": {},
     "output_type": "display_data"
    }
   ],
   "source": [
    "from sklearn.metrics import mean_absolute_error\n",
    "\n",
    "# Get predictions\n",
    "predictions_1 = my_model_1.predict(X_valid) # Your code here\n",
    "\n",
    "# Check your answer\n",
    "step_1.b.check()"
   ]
  },
  {
   "cell_type": "code",
   "execution_count": 6,
   "id": "0d8c1917",
   "metadata": {
    "execution": {
     "iopub.execute_input": "2021-08-15T17:20:56.153537Z",
     "iopub.status.busy": "2021-08-15T17:20:56.152856Z",
     "iopub.status.idle": "2021-08-15T17:20:56.156914Z",
     "shell.execute_reply": "2021-08-15T17:20:56.155741Z"
    },
    "papermill": {
     "duration": 0.026542,
     "end_time": "2021-08-15T17:20:56.157110",
     "exception": false,
     "start_time": "2021-08-15T17:20:56.130568",
     "status": "completed"
    },
    "tags": []
   },
   "outputs": [],
   "source": [
    "# Lines below will give you a hint or solution code\n",
    "#step_1.b.hint()\n",
    "#step_1.b.solution()"
   ]
  },
  {
   "cell_type": "markdown",
   "id": "f1ae5b2c",
   "metadata": {
    "papermill": {
     "duration": 0.019955,
     "end_time": "2021-08-15T17:20:56.198510",
     "exception": false,
     "start_time": "2021-08-15T17:20:56.178555",
     "status": "completed"
    },
    "tags": []
   },
   "source": [
    "### Part C\n",
    "\n",
    "Finally, use the `mean_absolute_error()` function to calculate the mean absolute error (MAE) corresponding to the predictions for the validation set.  Recall that the labels for the validation data are stored in `y_valid`."
   ]
  },
  {
   "cell_type": "code",
   "execution_count": 7,
   "id": "e1393174",
   "metadata": {
    "execution": {
     "iopub.execute_input": "2021-08-15T17:20:56.245178Z",
     "iopub.status.busy": "2021-08-15T17:20:56.244450Z",
     "iopub.status.idle": "2021-08-15T17:20:56.255675Z",
     "shell.execute_reply": "2021-08-15T17:20:56.254878Z",
     "shell.execute_reply.started": "2021-08-15T17:10:05.016969Z"
    },
    "papermill": {
     "duration": 0.035963,
     "end_time": "2021-08-15T17:20:56.255845",
     "exception": false,
     "start_time": "2021-08-15T17:20:56.219882",
     "status": "completed"
    },
    "tags": []
   },
   "outputs": [
    {
     "name": "stdout",
     "output_type": "stream",
     "text": [
      "Mean Absolute Error: 17662.736729452055\n"
     ]
    },
    {
     "data": {
      "application/javascript": [
       "parent.postMessage({\"jupyterEvent\": \"custom.exercise_interaction\", \"data\": {\"outcomeType\": 1, \"valueTowardsCompletion\": 0.5, \"interactionType\": 1, \"questionType\": 2, \"questionId\": \"1.3_Model1C\", \"learnToolsVersion\": \"0.3.4\", \"failureMessage\": \"\", \"exceptionClass\": \"\", \"trace\": \"\"}}, \"*\")"
      ],
      "text/plain": [
       "<IPython.core.display.Javascript object>"
      ]
     },
     "metadata": {},
     "output_type": "display_data"
    },
    {
     "data": {
      "text/markdown": [
       "<span style=\"color:#33cc33\">Correct</span>"
      ],
      "text/plain": [
       "Correct"
      ]
     },
     "metadata": {},
     "output_type": "display_data"
    }
   ],
   "source": [
    "# Calculate MAE\n",
    "mae_1 = mean_absolute_error(predictions_1, y_valid) # Your code here\n",
    "\n",
    "# Uncomment to print MAE\n",
    "print(\"Mean Absolute Error:\" , mae_1)\n",
    "\n",
    "# Check your answer\n",
    "step_1.c.check()"
   ]
  },
  {
   "cell_type": "code",
   "execution_count": 8,
   "id": "51b32274",
   "metadata": {
    "execution": {
     "iopub.execute_input": "2021-08-15T17:20:56.303869Z",
     "iopub.status.busy": "2021-08-15T17:20:56.302816Z",
     "iopub.status.idle": "2021-08-15T17:20:56.306545Z",
     "shell.execute_reply": "2021-08-15T17:20:56.305848Z"
    },
    "papermill": {
     "duration": 0.029401,
     "end_time": "2021-08-15T17:20:56.306730",
     "exception": false,
     "start_time": "2021-08-15T17:20:56.277329",
     "status": "completed"
    },
    "tags": []
   },
   "outputs": [],
   "source": [
    "# Lines below will give you a hint or solution code\n",
    "#step_1.c.hint()\n",
    "#step_1.c.solution()"
   ]
  },
  {
   "cell_type": "markdown",
   "id": "0626c5e0",
   "metadata": {
    "papermill": {
     "duration": 0.022111,
     "end_time": "2021-08-15T17:20:56.349262",
     "exception": false,
     "start_time": "2021-08-15T17:20:56.327151",
     "status": "completed"
    },
    "tags": []
   },
   "source": [
    "# Step 2: Improve the model\n",
    "\n",
    "Now that you've trained a default model as baseline, it's time to tinker with the parameters, to see if you can get better performance!\n",
    "- Begin by setting `my_model_2` to an XGBoost model, using the [XGBRegressor](https://xgboost.readthedocs.io/en/latest/python/python_api.html#xgboost.XGBRegressor) class.  Use what you learned in the previous tutorial to figure out how to change the default parameters (like `n_estimators` and `learning_rate`) to get better results.\n",
    "- Then, fit the model to the training data in `X_train` and `y_train`.\n",
    "- Set `predictions_2` to the model's predictions for the validation data.  Recall that the validation features are stored in `X_valid`.\n",
    "- Finally, use the `mean_absolute_error()` function to calculate the mean absolute error (MAE) corresponding to the predictions on the validation set.  Recall that the labels for the validation data are stored in `y_valid`.\n",
    "\n",
    "In order for this step to be marked correct, your model in `my_model_2` must attain lower MAE than the model in `my_model_1`. "
   ]
  },
  {
   "cell_type": "code",
   "execution_count": 9,
   "id": "c66d3b8e",
   "metadata": {
    "execution": {
     "iopub.execute_input": "2021-08-15T17:20:56.415398Z",
     "iopub.status.busy": "2021-08-15T17:20:56.414282Z",
     "iopub.status.idle": "2021-08-15T17:20:58.253827Z",
     "shell.execute_reply": "2021-08-15T17:20:58.254351Z",
     "shell.execute_reply.started": "2021-08-15T17:14:48.036495Z"
    },
    "papermill": {
     "duration": 1.882688,
     "end_time": "2021-08-15T17:20:58.254573",
     "exception": false,
     "start_time": "2021-08-15T17:20:56.371885",
     "status": "completed"
    },
    "tags": []
   },
   "outputs": [
    {
     "name": "stdout",
     "output_type": "stream",
     "text": [
      "Mean Absolute Error: 16802.965325342466\n"
     ]
    },
    {
     "data": {
      "application/javascript": [
       "parent.postMessage({\"jupyterEvent\": \"custom.exercise_interaction\", \"data\": {\"outcomeType\": 1, \"valueTowardsCompletion\": 0.5, \"interactionType\": 1, \"questionType\": 2, \"questionId\": \"2_Model2\", \"learnToolsVersion\": \"0.3.4\", \"failureMessage\": \"\", \"exceptionClass\": \"\", \"trace\": \"\"}}, \"*\")"
      ],
      "text/plain": [
       "<IPython.core.display.Javascript object>"
      ]
     },
     "metadata": {},
     "output_type": "display_data"
    },
    {
     "data": {
      "text/markdown": [
       "<span style=\"color:#33cc33\">Correct</span>"
      ],
      "text/plain": [
       "Correct"
      ]
     },
     "metadata": {},
     "output_type": "display_data"
    }
   ],
   "source": [
    "# Define the model\n",
    "my_model_2 = XGBRegressor(n_estimators = 1000, learning_rate = 0.05, n_jobs = 4) # Your code here\n",
    "\n",
    "# Fit the model\n",
    "my_model_2.fit(X_train, y_train, early_stopping_rounds = 5, eval_set = [(X_valid, y_valid)], verbose = False) # Your code here\n",
    "\n",
    "# Get predictions\n",
    "predictions_2 = my_model_2.predict(X_valid) # Your code here\n",
    "\n",
    "# Calculate MAE\n",
    "mae_2 = mean_absolute_error(predictions_2, y_valid) # Your code here\n",
    "\n",
    "# Uncomment to print MAE\n",
    "print(\"Mean Absolute Error:\" , mae_2)\n",
    "\n",
    "# Check your answer\n",
    "step_2.check()"
   ]
  },
  {
   "cell_type": "code",
   "execution_count": 10,
   "id": "89eb5919",
   "metadata": {
    "execution": {
     "iopub.execute_input": "2021-08-15T17:20:58.302267Z",
     "iopub.status.busy": "2021-08-15T17:20:58.301301Z",
     "iopub.status.idle": "2021-08-15T17:20:58.304266Z",
     "shell.execute_reply": "2021-08-15T17:20:58.303599Z"
    },
    "papermill": {
     "duration": 0.027646,
     "end_time": "2021-08-15T17:20:58.304404",
     "exception": false,
     "start_time": "2021-08-15T17:20:58.276758",
     "status": "completed"
    },
    "tags": []
   },
   "outputs": [],
   "source": [
    "# Lines below will give you a hint or solution code\n",
    "#step_2.hint()\n",
    "#step_2.solution()"
   ]
  },
  {
   "cell_type": "markdown",
   "id": "41d760a7",
   "metadata": {
    "papermill": {
     "duration": 0.020632,
     "end_time": "2021-08-15T17:20:58.345845",
     "exception": false,
     "start_time": "2021-08-15T17:20:58.325213",
     "status": "completed"
    },
    "tags": []
   },
   "source": [
    "# Step 3: Break the model\n",
    "\n",
    "In this step, you will create a model that performs worse than the original model in Step 1.  This will help you to develop your intuition for how to set parameters.  You might even find that you accidentally get better performance, which is ultimately a nice problem to have and a valuable learning experience!\n",
    "- Begin by setting `my_model_3` to an XGBoost model, using the [XGBRegressor](https://xgboost.readthedocs.io/en/latest/python/python_api.html#xgboost.XGBRegressor) class.  Use what you learned in the previous tutorial to figure out how to change the default parameters (like `n_estimators` and `learning_rate`) to design a model to get high MAE.\n",
    "- Then, fit the model to the training data in `X_train` and `y_train`.\n",
    "- Set `predictions_3` to the model's predictions for the validation data.  Recall that the validation features are stored in `X_valid`.\n",
    "- Finally, use the `mean_absolute_error()` function to calculate the mean absolute error (MAE) corresponding to the predictions on the validation set.  Recall that the labels for the validation data are stored in `y_valid`.\n",
    "\n",
    "In order for this step to be marked correct, your model in `my_model_3` must attain higher MAE than the model in `my_model_1`. "
   ]
  },
  {
   "cell_type": "code",
   "execution_count": 11,
   "id": "c518d69e",
   "metadata": {
    "execution": {
     "iopub.execute_input": "2021-08-15T17:20:58.392304Z",
     "iopub.status.busy": "2021-08-15T17:20:58.391371Z",
     "iopub.status.idle": "2021-08-15T17:20:58.573301Z",
     "shell.execute_reply": "2021-08-15T17:20:58.572747Z",
     "shell.execute_reply.started": "2021-08-15T17:17:31.671970Z"
    },
    "papermill": {
     "duration": 0.205737,
     "end_time": "2021-08-15T17:20:58.573451",
     "exception": false,
     "start_time": "2021-08-15T17:20:58.367714",
     "status": "completed"
    },
    "tags": []
   },
   "outputs": [
    {
     "name": "stdout",
     "output_type": "stream",
     "text": [
      "Mean Absolute Error: 25388.798573951197\n"
     ]
    },
    {
     "data": {
      "application/javascript": [
       "parent.postMessage({\"jupyterEvent\": \"custom.exercise_interaction\", \"data\": {\"outcomeType\": 1, \"valueTowardsCompletion\": 0.5, \"interactionType\": 1, \"questionType\": 2, \"questionId\": \"3_Model3\", \"learnToolsVersion\": \"0.3.4\", \"failureMessage\": \"\", \"exceptionClass\": \"\", \"trace\": \"\"}}, \"*\")"
      ],
      "text/plain": [
       "<IPython.core.display.Javascript object>"
      ]
     },
     "metadata": {},
     "output_type": "display_data"
    },
    {
     "data": {
      "text/markdown": [
       "<span style=\"color:#33cc33\">Correct</span>"
      ],
      "text/plain": [
       "Correct"
      ]
     },
     "metadata": {},
     "output_type": "display_data"
    }
   ],
   "source": [
    "# Define the model\n",
    "my_model_3 = XGBRegressor(n_estimators = 200, learning_rate = 1, n_jobs = 20)\n",
    "\n",
    "# Fit the model\n",
    "my_model_3.fit(X_train, y_train, early_stopping_rounds = 1, eval_set = [(X_valid, y_valid)], verbose = False) # Your code here\n",
    "\n",
    "# Get predictions\n",
    "predictions_3 = my_model_3.predict(X_valid)\n",
    "\n",
    "# Calculate MAE\n",
    "mae_3 = mean_absolute_error(predictions_3, y_valid)\n",
    "\n",
    "# Uncomment to print MAE\n",
    "print(\"Mean Absolute Error:\" , mae_3)\n",
    "\n",
    "# Check your answer\n",
    "step_3.check()"
   ]
  },
  {
   "cell_type": "code",
   "execution_count": 12,
   "id": "b59e4e12",
   "metadata": {
    "execution": {
     "iopub.execute_input": "2021-08-15T17:20:58.623718Z",
     "iopub.status.busy": "2021-08-15T17:20:58.622823Z",
     "iopub.status.idle": "2021-08-15T17:20:58.626792Z",
     "shell.execute_reply": "2021-08-15T17:20:58.626125Z"
    },
    "papermill": {
     "duration": 0.030901,
     "end_time": "2021-08-15T17:20:58.626928",
     "exception": false,
     "start_time": "2021-08-15T17:20:58.596027",
     "status": "completed"
    },
    "tags": []
   },
   "outputs": [],
   "source": [
    "# Lines below will give you a hint or solution code\n",
    "#step_3.hint()\n",
    "#step_3.solution()"
   ]
  },
  {
   "cell_type": "code",
   "execution_count": 13,
   "id": "9798bbb9",
   "metadata": {
    "execution": {
     "iopub.execute_input": "2021-08-15T17:20:58.678226Z",
     "iopub.status.busy": "2021-08-15T17:20:58.677267Z",
     "iopub.status.idle": "2021-08-15T17:20:58.686375Z",
     "shell.execute_reply": "2021-08-15T17:20:58.685648Z",
     "shell.execute_reply.started": "2021-08-15T17:20:26.884292Z"
    },
    "papermill": {
     "duration": 0.037201,
     "end_time": "2021-08-15T17:20:58.686529",
     "exception": false,
     "start_time": "2021-08-15T17:20:58.649328",
     "status": "completed"
    },
    "tags": []
   },
   "outputs": [],
   "source": [
    "output = pd.DataFrame({'Id': X_valid.index,\n",
    "                       'SalePrice': predictions_2})\n",
    "output.to_csv('submission.csv', index=False)"
   ]
  },
  {
   "cell_type": "markdown",
   "id": "141cdf31",
   "metadata": {
    "papermill": {
     "duration": 0.021972,
     "end_time": "2021-08-15T17:20:58.731000",
     "exception": false,
     "start_time": "2021-08-15T17:20:58.709028",
     "status": "completed"
    },
    "tags": []
   },
   "source": [
    "# Keep going\n",
    "\n",
    "Continue to learn about **[data leakage](https://www.kaggle.com/alexisbcook/data-leakage)**.  This is an important issue for a data scientist to understand, and it has the potential to ruin your models in subtle and dangerous ways!"
   ]
  },
  {
   "cell_type": "markdown",
   "id": "1a119b7d",
   "metadata": {
    "papermill": {
     "duration": 0.021967,
     "end_time": "2021-08-15T17:20:58.775228",
     "exception": false,
     "start_time": "2021-08-15T17:20:58.753261",
     "status": "completed"
    },
    "tags": []
   },
   "source": [
    "---\n",
    "\n",
    "\n",
    "\n",
    "\n",
    "*Have questions or comments? Visit the [Learn Discussion forum](https://www.kaggle.com/learn-forum/161289) to chat with other Learners.*"
   ]
  }
 ],
 "metadata": {
  "kernelspec": {
   "display_name": "Python 3",
   "language": "python",
   "name": "python3"
  },
  "language_info": {
   "codemirror_mode": {
    "name": "ipython",
    "version": 3
   },
   "file_extension": ".py",
   "mimetype": "text/x-python",
   "name": "python",
   "nbconvert_exporter": "python",
   "pygments_lexer": "ipython3",
   "version": "3.7.10"
  },
  "papermill": {
   "default_parameters": {},
   "duration": 15.851391,
   "end_time": "2021-08-15T17:21:00.023568",
   "environment_variables": {},
   "exception": null,
   "input_path": "__notebook__.ipynb",
   "output_path": "__notebook__.ipynb",
   "parameters": {},
   "start_time": "2021-08-15T17:20:44.172177",
   "version": "2.3.3"
  }
 },
 "nbformat": 4,
 "nbformat_minor": 5
}
